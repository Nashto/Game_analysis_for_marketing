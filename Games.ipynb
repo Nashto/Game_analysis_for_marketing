{
 "cells": [
  {
   "cell_type": "markdown",
   "metadata": {},
   "source": [
    "# Исследование компьютерных игр\n",
    "\n",
    "Из открытых источников доступны исторические данные о продажах игр, оценки пользователей и экспертов, жанры и платформы (например, Xbox или PlayStation). Нужно выявить определяющие успешность игры закономерности. Это позволит сделать ставку на потенциально популярный продукт и спланировать рекламные кампании.\n"
   ]
  },
  {
   "cell_type": "markdown",
   "metadata": {},
   "source": [
    "## Изучение данных из файла"
   ]
  },
  {
   "cell_type": "markdown",
   "metadata": {},
   "source": [
    "Импорт необходимых для анализа библиотек"
   ]
  },
  {
   "cell_type": "code",
   "execution_count": 1,
   "metadata": {},
   "outputs": [],
   "source": [
    "import pandas as pd\n",
    "import numpy as np\n",
    "import matplotlib.pyplot as plt\n",
    "from scipy import stats as st\n",
    "import math as mt\n",
    "import seaborn as sns\n",
    "import warnings\n",
    "warnings.filterwarnings('ignore')"
   ]
  },
  {
   "cell_type": "code",
   "execution_count": 2,
   "metadata": {},
   "outputs": [],
   "source": [
    "df = pd.read_csv('C:/Users/Nshan/Desktop/Сборный проект/games.csv')"
   ]
  },
  {
   "cell_type": "code",
   "execution_count": 3,
   "metadata": {},
   "outputs": [
    {
     "data": {
      "text/html": [
       "<div>\n",
       "<style scoped>\n",
       "    .dataframe tbody tr th:only-of-type {\n",
       "        vertical-align: middle;\n",
       "    }\n",
       "\n",
       "    .dataframe tbody tr th {\n",
       "        vertical-align: top;\n",
       "    }\n",
       "\n",
       "    .dataframe thead th {\n",
       "        text-align: right;\n",
       "    }\n",
       "</style>\n",
       "<table border=\"1\" class=\"dataframe\">\n",
       "  <thead>\n",
       "    <tr style=\"text-align: right;\">\n",
       "      <th></th>\n",
       "      <th>Name</th>\n",
       "      <th>Platform</th>\n",
       "      <th>Year_of_Release</th>\n",
       "      <th>Genre</th>\n",
       "      <th>NA_sales</th>\n",
       "      <th>EU_sales</th>\n",
       "      <th>JP_sales</th>\n",
       "      <th>Other_sales</th>\n",
       "      <th>Critic_Score</th>\n",
       "      <th>User_Score</th>\n",
       "      <th>Rating</th>\n",
       "    </tr>\n",
       "  </thead>\n",
       "  <tbody>\n",
       "    <tr>\n",
       "      <th>0</th>\n",
       "      <td>Wii Sports</td>\n",
       "      <td>Wii</td>\n",
       "      <td>2006.0</td>\n",
       "      <td>Sports</td>\n",
       "      <td>41.36</td>\n",
       "      <td>28.96</td>\n",
       "      <td>3.77</td>\n",
       "      <td>8.45</td>\n",
       "      <td>76.0</td>\n",
       "      <td>8</td>\n",
       "      <td>E</td>\n",
       "    </tr>\n",
       "    <tr>\n",
       "      <th>1</th>\n",
       "      <td>Super Mario Bros.</td>\n",
       "      <td>NES</td>\n",
       "      <td>1985.0</td>\n",
       "      <td>Platform</td>\n",
       "      <td>29.08</td>\n",
       "      <td>3.58</td>\n",
       "      <td>6.81</td>\n",
       "      <td>0.77</td>\n",
       "      <td>NaN</td>\n",
       "      <td>NaN</td>\n",
       "      <td>NaN</td>\n",
       "    </tr>\n",
       "    <tr>\n",
       "      <th>2</th>\n",
       "      <td>Mario Kart Wii</td>\n",
       "      <td>Wii</td>\n",
       "      <td>2008.0</td>\n",
       "      <td>Racing</td>\n",
       "      <td>15.68</td>\n",
       "      <td>12.76</td>\n",
       "      <td>3.79</td>\n",
       "      <td>3.29</td>\n",
       "      <td>82.0</td>\n",
       "      <td>8.3</td>\n",
       "      <td>E</td>\n",
       "    </tr>\n",
       "    <tr>\n",
       "      <th>3</th>\n",
       "      <td>Wii Sports Resort</td>\n",
       "      <td>Wii</td>\n",
       "      <td>2009.0</td>\n",
       "      <td>Sports</td>\n",
       "      <td>15.61</td>\n",
       "      <td>10.93</td>\n",
       "      <td>3.28</td>\n",
       "      <td>2.95</td>\n",
       "      <td>80.0</td>\n",
       "      <td>8</td>\n",
       "      <td>E</td>\n",
       "    </tr>\n",
       "    <tr>\n",
       "      <th>4</th>\n",
       "      <td>Pokemon Red/Pokemon Blue</td>\n",
       "      <td>GB</td>\n",
       "      <td>1996.0</td>\n",
       "      <td>Role-Playing</td>\n",
       "      <td>11.27</td>\n",
       "      <td>8.89</td>\n",
       "      <td>10.22</td>\n",
       "      <td>1.00</td>\n",
       "      <td>NaN</td>\n",
       "      <td>NaN</td>\n",
       "      <td>NaN</td>\n",
       "    </tr>\n",
       "    <tr>\n",
       "      <th>5</th>\n",
       "      <td>Tetris</td>\n",
       "      <td>GB</td>\n",
       "      <td>1989.0</td>\n",
       "      <td>Puzzle</td>\n",
       "      <td>23.20</td>\n",
       "      <td>2.26</td>\n",
       "      <td>4.22</td>\n",
       "      <td>0.58</td>\n",
       "      <td>NaN</td>\n",
       "      <td>NaN</td>\n",
       "      <td>NaN</td>\n",
       "    </tr>\n",
       "    <tr>\n",
       "      <th>6</th>\n",
       "      <td>New Super Mario Bros.</td>\n",
       "      <td>DS</td>\n",
       "      <td>2006.0</td>\n",
       "      <td>Platform</td>\n",
       "      <td>11.28</td>\n",
       "      <td>9.14</td>\n",
       "      <td>6.50</td>\n",
       "      <td>2.88</td>\n",
       "      <td>89.0</td>\n",
       "      <td>8.5</td>\n",
       "      <td>E</td>\n",
       "    </tr>\n",
       "    <tr>\n",
       "      <th>7</th>\n",
       "      <td>Wii Play</td>\n",
       "      <td>Wii</td>\n",
       "      <td>2006.0</td>\n",
       "      <td>Misc</td>\n",
       "      <td>13.96</td>\n",
       "      <td>9.18</td>\n",
       "      <td>2.93</td>\n",
       "      <td>2.84</td>\n",
       "      <td>58.0</td>\n",
       "      <td>6.6</td>\n",
       "      <td>E</td>\n",
       "    </tr>\n",
       "    <tr>\n",
       "      <th>8</th>\n",
       "      <td>New Super Mario Bros. Wii</td>\n",
       "      <td>Wii</td>\n",
       "      <td>2009.0</td>\n",
       "      <td>Platform</td>\n",
       "      <td>14.44</td>\n",
       "      <td>6.94</td>\n",
       "      <td>4.70</td>\n",
       "      <td>2.24</td>\n",
       "      <td>87.0</td>\n",
       "      <td>8.4</td>\n",
       "      <td>E</td>\n",
       "    </tr>\n",
       "    <tr>\n",
       "      <th>9</th>\n",
       "      <td>Duck Hunt</td>\n",
       "      <td>NES</td>\n",
       "      <td>1984.0</td>\n",
       "      <td>Shooter</td>\n",
       "      <td>26.93</td>\n",
       "      <td>0.63</td>\n",
       "      <td>0.28</td>\n",
       "      <td>0.47</td>\n",
       "      <td>NaN</td>\n",
       "      <td>NaN</td>\n",
       "      <td>NaN</td>\n",
       "    </tr>\n",
       "  </tbody>\n",
       "</table>\n",
       "</div>"
      ],
      "text/plain": [
       "                        Name Platform  Year_of_Release         Genre  \\\n",
       "0                 Wii Sports      Wii           2006.0        Sports   \n",
       "1          Super Mario Bros.      NES           1985.0      Platform   \n",
       "2             Mario Kart Wii      Wii           2008.0        Racing   \n",
       "3          Wii Sports Resort      Wii           2009.0        Sports   \n",
       "4   Pokemon Red/Pokemon Blue       GB           1996.0  Role-Playing   \n",
       "5                     Tetris       GB           1989.0        Puzzle   \n",
       "6      New Super Mario Bros.       DS           2006.0      Platform   \n",
       "7                   Wii Play      Wii           2006.0          Misc   \n",
       "8  New Super Mario Bros. Wii      Wii           2009.0      Platform   \n",
       "9                  Duck Hunt      NES           1984.0       Shooter   \n",
       "\n",
       "   NA_sales  EU_sales  JP_sales  Other_sales  Critic_Score User_Score Rating  \n",
       "0     41.36     28.96      3.77         8.45          76.0          8      E  \n",
       "1     29.08      3.58      6.81         0.77           NaN        NaN    NaN  \n",
       "2     15.68     12.76      3.79         3.29          82.0        8.3      E  \n",
       "3     15.61     10.93      3.28         2.95          80.0          8      E  \n",
       "4     11.27      8.89     10.22         1.00           NaN        NaN    NaN  \n",
       "5     23.20      2.26      4.22         0.58           NaN        NaN    NaN  \n",
       "6     11.28      9.14      6.50         2.88          89.0        8.5      E  \n",
       "7     13.96      9.18      2.93         2.84          58.0        6.6      E  \n",
       "8     14.44      6.94      4.70         2.24          87.0        8.4      E  \n",
       "9     26.93      0.63      0.28         0.47           NaN        NaN    NaN  "
      ]
     },
     "execution_count": 3,
     "metadata": {},
     "output_type": "execute_result"
    }
   ],
   "source": [
    "df.head(10)"
   ]
  },
  {
   "cell_type": "code",
   "execution_count": 4,
   "metadata": {},
   "outputs": [
    {
     "data": {
      "text/html": [
       "<div>\n",
       "<style scoped>\n",
       "    .dataframe tbody tr th:only-of-type {\n",
       "        vertical-align: middle;\n",
       "    }\n",
       "\n",
       "    .dataframe tbody tr th {\n",
       "        vertical-align: top;\n",
       "    }\n",
       "\n",
       "    .dataframe thead th {\n",
       "        text-align: right;\n",
       "    }\n",
       "</style>\n",
       "<table border=\"1\" class=\"dataframe\">\n",
       "  <thead>\n",
       "    <tr style=\"text-align: right;\">\n",
       "      <th></th>\n",
       "      <th>Name</th>\n",
       "      <th>Platform</th>\n",
       "      <th>Year_of_Release</th>\n",
       "      <th>Genre</th>\n",
       "      <th>NA_sales</th>\n",
       "      <th>EU_sales</th>\n",
       "      <th>JP_sales</th>\n",
       "      <th>Other_sales</th>\n",
       "      <th>Critic_Score</th>\n",
       "      <th>User_Score</th>\n",
       "      <th>Rating</th>\n",
       "    </tr>\n",
       "  </thead>\n",
       "  <tbody>\n",
       "    <tr>\n",
       "      <th>16705</th>\n",
       "      <td>15 Days</td>\n",
       "      <td>PC</td>\n",
       "      <td>2009.0</td>\n",
       "      <td>Adventure</td>\n",
       "      <td>0.00</td>\n",
       "      <td>0.01</td>\n",
       "      <td>0.00</td>\n",
       "      <td>0.0</td>\n",
       "      <td>63.0</td>\n",
       "      <td>5.8</td>\n",
       "      <td>NaN</td>\n",
       "    </tr>\n",
       "    <tr>\n",
       "      <th>16706</th>\n",
       "      <td>Men in Black II: Alien Escape</td>\n",
       "      <td>GC</td>\n",
       "      <td>2003.0</td>\n",
       "      <td>Shooter</td>\n",
       "      <td>0.01</td>\n",
       "      <td>0.00</td>\n",
       "      <td>0.00</td>\n",
       "      <td>0.0</td>\n",
       "      <td>NaN</td>\n",
       "      <td>tbd</td>\n",
       "      <td>T</td>\n",
       "    </tr>\n",
       "    <tr>\n",
       "      <th>16707</th>\n",
       "      <td>Aiyoku no Eustia</td>\n",
       "      <td>PSV</td>\n",
       "      <td>2014.0</td>\n",
       "      <td>Misc</td>\n",
       "      <td>0.00</td>\n",
       "      <td>0.00</td>\n",
       "      <td>0.01</td>\n",
       "      <td>0.0</td>\n",
       "      <td>NaN</td>\n",
       "      <td>NaN</td>\n",
       "      <td>NaN</td>\n",
       "    </tr>\n",
       "    <tr>\n",
       "      <th>16708</th>\n",
       "      <td>Woody Woodpecker in Crazy Castle 5</td>\n",
       "      <td>GBA</td>\n",
       "      <td>2002.0</td>\n",
       "      <td>Platform</td>\n",
       "      <td>0.01</td>\n",
       "      <td>0.00</td>\n",
       "      <td>0.00</td>\n",
       "      <td>0.0</td>\n",
       "      <td>NaN</td>\n",
       "      <td>NaN</td>\n",
       "      <td>NaN</td>\n",
       "    </tr>\n",
       "    <tr>\n",
       "      <th>16709</th>\n",
       "      <td>SCORE International Baja 1000: The Official Game</td>\n",
       "      <td>PS2</td>\n",
       "      <td>2008.0</td>\n",
       "      <td>Racing</td>\n",
       "      <td>0.00</td>\n",
       "      <td>0.00</td>\n",
       "      <td>0.00</td>\n",
       "      <td>0.0</td>\n",
       "      <td>NaN</td>\n",
       "      <td>NaN</td>\n",
       "      <td>NaN</td>\n",
       "    </tr>\n",
       "    <tr>\n",
       "      <th>16710</th>\n",
       "      <td>Samurai Warriors: Sanada Maru</td>\n",
       "      <td>PS3</td>\n",
       "      <td>2016.0</td>\n",
       "      <td>Action</td>\n",
       "      <td>0.00</td>\n",
       "      <td>0.00</td>\n",
       "      <td>0.01</td>\n",
       "      <td>0.0</td>\n",
       "      <td>NaN</td>\n",
       "      <td>NaN</td>\n",
       "      <td>NaN</td>\n",
       "    </tr>\n",
       "    <tr>\n",
       "      <th>16711</th>\n",
       "      <td>LMA Manager 2007</td>\n",
       "      <td>X360</td>\n",
       "      <td>2006.0</td>\n",
       "      <td>Sports</td>\n",
       "      <td>0.00</td>\n",
       "      <td>0.01</td>\n",
       "      <td>0.00</td>\n",
       "      <td>0.0</td>\n",
       "      <td>NaN</td>\n",
       "      <td>NaN</td>\n",
       "      <td>NaN</td>\n",
       "    </tr>\n",
       "    <tr>\n",
       "      <th>16712</th>\n",
       "      <td>Haitaka no Psychedelica</td>\n",
       "      <td>PSV</td>\n",
       "      <td>2016.0</td>\n",
       "      <td>Adventure</td>\n",
       "      <td>0.00</td>\n",
       "      <td>0.00</td>\n",
       "      <td>0.01</td>\n",
       "      <td>0.0</td>\n",
       "      <td>NaN</td>\n",
       "      <td>NaN</td>\n",
       "      <td>NaN</td>\n",
       "    </tr>\n",
       "    <tr>\n",
       "      <th>16713</th>\n",
       "      <td>Spirits &amp; Spells</td>\n",
       "      <td>GBA</td>\n",
       "      <td>2003.0</td>\n",
       "      <td>Platform</td>\n",
       "      <td>0.01</td>\n",
       "      <td>0.00</td>\n",
       "      <td>0.00</td>\n",
       "      <td>0.0</td>\n",
       "      <td>NaN</td>\n",
       "      <td>NaN</td>\n",
       "      <td>NaN</td>\n",
       "    </tr>\n",
       "    <tr>\n",
       "      <th>16714</th>\n",
       "      <td>Winning Post 8 2016</td>\n",
       "      <td>PSV</td>\n",
       "      <td>2016.0</td>\n",
       "      <td>Simulation</td>\n",
       "      <td>0.00</td>\n",
       "      <td>0.00</td>\n",
       "      <td>0.01</td>\n",
       "      <td>0.0</td>\n",
       "      <td>NaN</td>\n",
       "      <td>NaN</td>\n",
       "      <td>NaN</td>\n",
       "    </tr>\n",
       "  </tbody>\n",
       "</table>\n",
       "</div>"
      ],
      "text/plain": [
       "                                                   Name Platform  \\\n",
       "16705                                           15 Days       PC   \n",
       "16706                     Men in Black II: Alien Escape       GC   \n",
       "16707                                  Aiyoku no Eustia      PSV   \n",
       "16708                Woody Woodpecker in Crazy Castle 5      GBA   \n",
       "16709  SCORE International Baja 1000: The Official Game      PS2   \n",
       "16710                     Samurai Warriors: Sanada Maru      PS3   \n",
       "16711                                  LMA Manager 2007     X360   \n",
       "16712                           Haitaka no Psychedelica      PSV   \n",
       "16713                                  Spirits & Spells      GBA   \n",
       "16714                               Winning Post 8 2016      PSV   \n",
       "\n",
       "       Year_of_Release       Genre  NA_sales  EU_sales  JP_sales  Other_sales  \\\n",
       "16705           2009.0   Adventure      0.00      0.01      0.00          0.0   \n",
       "16706           2003.0     Shooter      0.01      0.00      0.00          0.0   \n",
       "16707           2014.0        Misc      0.00      0.00      0.01          0.0   \n",
       "16708           2002.0    Platform      0.01      0.00      0.00          0.0   \n",
       "16709           2008.0      Racing      0.00      0.00      0.00          0.0   \n",
       "16710           2016.0      Action      0.00      0.00      0.01          0.0   \n",
       "16711           2006.0      Sports      0.00      0.01      0.00          0.0   \n",
       "16712           2016.0   Adventure      0.00      0.00      0.01          0.0   \n",
       "16713           2003.0    Platform      0.01      0.00      0.00          0.0   \n",
       "16714           2016.0  Simulation      0.00      0.00      0.01          0.0   \n",
       "\n",
       "       Critic_Score User_Score Rating  \n",
       "16705          63.0        5.8    NaN  \n",
       "16706           NaN        tbd      T  \n",
       "16707           NaN        NaN    NaN  \n",
       "16708           NaN        NaN    NaN  \n",
       "16709           NaN        NaN    NaN  \n",
       "16710           NaN        NaN    NaN  \n",
       "16711           NaN        NaN    NaN  \n",
       "16712           NaN        NaN    NaN  \n",
       "16713           NaN        NaN    NaN  \n",
       "16714           NaN        NaN    NaN  "
      ]
     },
     "execution_count": 4,
     "metadata": {},
     "output_type": "execute_result"
    }
   ],
   "source": [
    "df.tail(10)"
   ]
  },
  {
   "cell_type": "code",
   "execution_count": 5,
   "metadata": {
    "scrolled": true
   },
   "outputs": [
    {
     "name": "stdout",
     "output_type": "stream",
     "text": [
      "<class 'pandas.core.frame.DataFrame'>\n",
      "RangeIndex: 16715 entries, 0 to 16714\n",
      "Data columns (total 11 columns):\n",
      " #   Column           Non-Null Count  Dtype  \n",
      "---  ------           --------------  -----  \n",
      " 0   Name             16713 non-null  object \n",
      " 1   Platform         16715 non-null  object \n",
      " 2   Year_of_Release  16446 non-null  float64\n",
      " 3   Genre            16713 non-null  object \n",
      " 4   NA_sales         16715 non-null  float64\n",
      " 5   EU_sales         16715 non-null  float64\n",
      " 6   JP_sales         16715 non-null  float64\n",
      " 7   Other_sales      16715 non-null  float64\n",
      " 8   Critic_Score     8137 non-null   float64\n",
      " 9   User_Score       10014 non-null  object \n",
      " 10  Rating           9949 non-null   object \n",
      "dtypes: float64(6), object(5)\n",
      "memory usage: 1.4+ MB\n"
     ]
    }
   ],
   "source": [
    "df.info()"
   ]
  },
  {
   "cell_type": "code",
   "execution_count": 6,
   "metadata": {},
   "outputs": [
    {
     "data": {
      "text/html": [
       "<div>\n",
       "<style scoped>\n",
       "    .dataframe tbody tr th:only-of-type {\n",
       "        vertical-align: middle;\n",
       "    }\n",
       "\n",
       "    .dataframe tbody tr th {\n",
       "        vertical-align: top;\n",
       "    }\n",
       "\n",
       "    .dataframe thead th {\n",
       "        text-align: right;\n",
       "    }\n",
       "</style>\n",
       "<table border=\"1\" class=\"dataframe\">\n",
       "  <thead>\n",
       "    <tr style=\"text-align: right;\">\n",
       "      <th></th>\n",
       "      <th>Year_of_Release</th>\n",
       "      <th>NA_sales</th>\n",
       "      <th>EU_sales</th>\n",
       "      <th>JP_sales</th>\n",
       "      <th>Other_sales</th>\n",
       "      <th>Critic_Score</th>\n",
       "    </tr>\n",
       "  </thead>\n",
       "  <tbody>\n",
       "    <tr>\n",
       "      <th>count</th>\n",
       "      <td>16446.000000</td>\n",
       "      <td>16715.000000</td>\n",
       "      <td>16715.000000</td>\n",
       "      <td>16715.000000</td>\n",
       "      <td>16715.000000</td>\n",
       "      <td>8137.000000</td>\n",
       "    </tr>\n",
       "    <tr>\n",
       "      <th>mean</th>\n",
       "      <td>2006.484616</td>\n",
       "      <td>0.263377</td>\n",
       "      <td>0.145060</td>\n",
       "      <td>0.077617</td>\n",
       "      <td>0.047342</td>\n",
       "      <td>68.967679</td>\n",
       "    </tr>\n",
       "    <tr>\n",
       "      <th>std</th>\n",
       "      <td>5.877050</td>\n",
       "      <td>0.813604</td>\n",
       "      <td>0.503339</td>\n",
       "      <td>0.308853</td>\n",
       "      <td>0.186731</td>\n",
       "      <td>13.938165</td>\n",
       "    </tr>\n",
       "    <tr>\n",
       "      <th>min</th>\n",
       "      <td>1980.000000</td>\n",
       "      <td>0.000000</td>\n",
       "      <td>0.000000</td>\n",
       "      <td>0.000000</td>\n",
       "      <td>0.000000</td>\n",
       "      <td>13.000000</td>\n",
       "    </tr>\n",
       "    <tr>\n",
       "      <th>25%</th>\n",
       "      <td>2003.000000</td>\n",
       "      <td>0.000000</td>\n",
       "      <td>0.000000</td>\n",
       "      <td>0.000000</td>\n",
       "      <td>0.000000</td>\n",
       "      <td>60.000000</td>\n",
       "    </tr>\n",
       "    <tr>\n",
       "      <th>50%</th>\n",
       "      <td>2007.000000</td>\n",
       "      <td>0.080000</td>\n",
       "      <td>0.020000</td>\n",
       "      <td>0.000000</td>\n",
       "      <td>0.010000</td>\n",
       "      <td>71.000000</td>\n",
       "    </tr>\n",
       "    <tr>\n",
       "      <th>75%</th>\n",
       "      <td>2010.000000</td>\n",
       "      <td>0.240000</td>\n",
       "      <td>0.110000</td>\n",
       "      <td>0.040000</td>\n",
       "      <td>0.030000</td>\n",
       "      <td>79.000000</td>\n",
       "    </tr>\n",
       "    <tr>\n",
       "      <th>max</th>\n",
       "      <td>2016.000000</td>\n",
       "      <td>41.360000</td>\n",
       "      <td>28.960000</td>\n",
       "      <td>10.220000</td>\n",
       "      <td>10.570000</td>\n",
       "      <td>98.000000</td>\n",
       "    </tr>\n",
       "  </tbody>\n",
       "</table>\n",
       "</div>"
      ],
      "text/plain": [
       "       Year_of_Release      NA_sales      EU_sales      JP_sales  \\\n",
       "count     16446.000000  16715.000000  16715.000000  16715.000000   \n",
       "mean       2006.484616      0.263377      0.145060      0.077617   \n",
       "std           5.877050      0.813604      0.503339      0.308853   \n",
       "min        1980.000000      0.000000      0.000000      0.000000   \n",
       "25%        2003.000000      0.000000      0.000000      0.000000   \n",
       "50%        2007.000000      0.080000      0.020000      0.000000   \n",
       "75%        2010.000000      0.240000      0.110000      0.040000   \n",
       "max        2016.000000     41.360000     28.960000     10.220000   \n",
       "\n",
       "        Other_sales  Critic_Score  \n",
       "count  16715.000000   8137.000000  \n",
       "mean       0.047342     68.967679  \n",
       "std        0.186731     13.938165  \n",
       "min        0.000000     13.000000  \n",
       "25%        0.000000     60.000000  \n",
       "50%        0.010000     71.000000  \n",
       "75%        0.030000     79.000000  \n",
       "max       10.570000     98.000000  "
      ]
     },
     "execution_count": 6,
     "metadata": {},
     "output_type": "execute_result"
    }
   ],
   "source": [
    "df.describe()"
   ]
  },
  {
   "cell_type": "markdown",
   "metadata": {},
   "source": [
    "### Вывод"
   ]
  },
  {
   "cell_type": "markdown",
   "metadata": {},
   "source": [
    "1. Необходиом привести названия к нижнему регистру.\n",
    "2. В столбце с датой релиза необходимо поменять тип на int, так как там указаны только года.\n",
    "3. В столбце с оценкой критиков нужно сменить тип данных на int, так как там представлены целые значения. Данный аспект не является обязательным, так как в дальнейших расчётах будет удобнее работать с float.\n",
    "4. В столбце с оценкой юзервом нужно сменить тип данных на float.\n",
    "5. В столбце с рейтингом и оценкой пользователей встречаются следующие основные аббревиатуры (информация взята из официально [сайта esrb](https://www.esrb.org/ratings-guide/)):\n",
    "* «EC» («Early childhood») — «Для детей младшего возраста»: Игра подходит для детей от 3 лет.\n",
    "* «E» («Everyone») — «Для всех»: Содержание вполне подходит для возрастной категории от 6 лет.\n",
    "* «E10+» («Everyone 10 and older») — «Для всех от 10 лет и старше».\n",
    "* «T» («Teen») — «Подросткам»: Игра подходит для лиц от 13 лет. \n",
    "* «M» («Mature») — «Для взрослых»: Материалы игры не подходят для подростков младше 17 лет.\n",
    "* «AO» («Adults Only 18+») — «Только для взрослых»: Содержание игры только для взрослых старше 18 лет.\n",
    "* «tbd» («to be determined») — «Будет определено»\n",
    "* «K-A» («for Kids to Adults»)"
   ]
  },
  {
   "cell_type": "markdown",
   "metadata": {},
   "source": [
    "## Предварительная обработка данных"
   ]
  },
  {
   "cell_type": "markdown",
   "metadata": {},
   "source": [
    "### Приведение данных к нужным типам, обработка пропусков и поиск ошибок в данных"
   ]
  },
  {
   "cell_type": "code",
   "execution_count": 7,
   "metadata": {},
   "outputs": [
    {
     "data": {
      "text/plain": [
       "Index(['Name', 'Platform', 'Year_of_Release', 'Genre', 'NA_sales', 'EU_sales',\n",
       "       'JP_sales', 'Other_sales', 'Critic_Score', 'User_Score', 'Rating'],\n",
       "      dtype='object')"
      ]
     },
     "execution_count": 7,
     "metadata": {},
     "output_type": "execute_result"
    }
   ],
   "source": [
    "df.columns"
   ]
  },
  {
   "cell_type": "code",
   "execution_count": 8,
   "metadata": {},
   "outputs": [],
   "source": [
    "df.columns = df.columns.str.lower()"
   ]
  },
  {
   "cell_type": "code",
   "execution_count": 9,
   "metadata": {},
   "outputs": [],
   "source": [
    "list_columns = ['name', 'platform', 'genre']\n",
    "for column in list_columns:\n",
    "    df[column] = df[column].str.lower()"
   ]
  },
  {
   "cell_type": "code",
   "execution_count": 10,
   "metadata": {
    "scrolled": true
   },
   "outputs": [
    {
     "name": "stdout",
     "output_type": "stream",
     "text": [
      "<class 'pandas.core.frame.DataFrame'>\n",
      "RangeIndex: 16715 entries, 0 to 16714\n",
      "Data columns (total 12 columns):\n",
      " #   Column           Non-Null Count  Dtype  \n",
      "---  ------           --------------  -----  \n",
      " 0   name             16713 non-null  object \n",
      " 1   platform         16715 non-null  object \n",
      " 2   year_of_release  16446 non-null  Int64  \n",
      " 3   genre            16713 non-null  object \n",
      " 4   na_sales         16715 non-null  float64\n",
      " 5   eu_sales         16715 non-null  float64\n",
      " 6   jp_sales         16715 non-null  float64\n",
      " 7   other_sales      16715 non-null  float64\n",
      " 8   critic_score     8137 non-null   float64\n",
      " 9   user_score       7590 non-null   float64\n",
      " 10  rating           9949 non-null   object \n",
      " 11  year             16446 non-null  float64\n",
      "dtypes: Int64(1), float64(7), object(4)\n",
      "memory usage: 1.5+ MB\n"
     ]
    }
   ],
   "source": [
    "df['user_score'] = pd.to_numeric(df['user_score'], errors='coerce')\n",
    "#df['user_score'] = df['user_score'].replace('tbd', pd.NA)\n",
    "df['year'] = df['year_of_release']\n",
    "df['year_of_release'] = pd.array(df['year_of_release'], dtype=pd.Int64Dtype())\n",
    "#df['critic_score'] = pd.array(df['critic_score'], dtype=pd.Int64Dtype())\n",
    "df.info()"
   ]
  },
  {
   "cell_type": "code",
   "execution_count": 11,
   "metadata": {
    "scrolled": false
   },
   "outputs": [
    {
     "data": {
      "text/html": [
       "<div>\n",
       "<style scoped>\n",
       "    .dataframe tbody tr th:only-of-type {\n",
       "        vertical-align: middle;\n",
       "    }\n",
       "\n",
       "    .dataframe tbody tr th {\n",
       "        vertical-align: top;\n",
       "    }\n",
       "\n",
       "    .dataframe thead th {\n",
       "        text-align: right;\n",
       "    }\n",
       "</style>\n",
       "<table border=\"1\" class=\"dataframe\">\n",
       "  <thead>\n",
       "    <tr style=\"text-align: right;\">\n",
       "      <th></th>\n",
       "      <th>name</th>\n",
       "      <th>platform</th>\n",
       "      <th>year_of_release</th>\n",
       "      <th>genre</th>\n",
       "      <th>na_sales</th>\n",
       "      <th>eu_sales</th>\n",
       "      <th>jp_sales</th>\n",
       "      <th>other_sales</th>\n",
       "      <th>critic_score</th>\n",
       "      <th>user_score</th>\n",
       "      <th>rating</th>\n",
       "      <th>year</th>\n",
       "    </tr>\n",
       "  </thead>\n",
       "  <tbody>\n",
       "    <tr>\n",
       "      <th>659</th>\n",
       "      <td>NaN</td>\n",
       "      <td>gen</td>\n",
       "      <td>1993</td>\n",
       "      <td>NaN</td>\n",
       "      <td>1.78</td>\n",
       "      <td>0.53</td>\n",
       "      <td>0.00</td>\n",
       "      <td>0.08</td>\n",
       "      <td>NaN</td>\n",
       "      <td>NaN</td>\n",
       "      <td>NaN</td>\n",
       "      <td>1993.0</td>\n",
       "    </tr>\n",
       "    <tr>\n",
       "      <th>14244</th>\n",
       "      <td>NaN</td>\n",
       "      <td>gen</td>\n",
       "      <td>1993</td>\n",
       "      <td>NaN</td>\n",
       "      <td>0.00</td>\n",
       "      <td>0.00</td>\n",
       "      <td>0.03</td>\n",
       "      <td>0.00</td>\n",
       "      <td>NaN</td>\n",
       "      <td>NaN</td>\n",
       "      <td>NaN</td>\n",
       "      <td>1993.0</td>\n",
       "    </tr>\n",
       "  </tbody>\n",
       "</table>\n",
       "</div>"
      ],
      "text/plain": [
       "      name platform  year_of_release genre  na_sales  eu_sales  jp_sales  \\\n",
       "659    NaN      gen             1993   NaN      1.78      0.53      0.00   \n",
       "14244  NaN      gen             1993   NaN      0.00      0.00      0.03   \n",
       "\n",
       "       other_sales  critic_score  user_score rating    year  \n",
       "659           0.08           NaN         NaN    NaN  1993.0  \n",
       "14244         0.00           NaN         NaN    NaN  1993.0  "
      ]
     },
     "execution_count": 11,
     "metadata": {},
     "output_type": "execute_result"
    }
   ],
   "source": [
    "df[df.name.isna()]"
   ]
  },
  {
   "cell_type": "code",
   "execution_count": 12,
   "metadata": {},
   "outputs": [],
   "source": [
    "df = df.dropna(subset=['name'])"
   ]
  },
  {
   "cell_type": "markdown",
   "metadata": {},
   "source": [
    "Данных по вриведённым двум играм (где пропуски в их наименованиях) практически нет, объёмы продаж в разных странах небольшой, поэтому удаление этих строчек никак не отразится на результатах анализа."
   ]
  },
  {
   "cell_type": "code",
   "execution_count": 13,
   "metadata": {
    "scrolled": false
   },
   "outputs": [
    {
     "data": {
      "text/html": [
       "<div>\n",
       "<style scoped>\n",
       "    .dataframe tbody tr th:only-of-type {\n",
       "        vertical-align: middle;\n",
       "    }\n",
       "\n",
       "    .dataframe tbody tr th {\n",
       "        vertical-align: top;\n",
       "    }\n",
       "\n",
       "    .dataframe thead th {\n",
       "        text-align: right;\n",
       "    }\n",
       "</style>\n",
       "<table border=\"1\" class=\"dataframe\">\n",
       "  <thead>\n",
       "    <tr style=\"text-align: right;\">\n",
       "      <th></th>\n",
       "      <th>name</th>\n",
       "      <th>platform</th>\n",
       "      <th>year_of_release</th>\n",
       "      <th>genre</th>\n",
       "      <th>na_sales</th>\n",
       "      <th>eu_sales</th>\n",
       "      <th>jp_sales</th>\n",
       "      <th>other_sales</th>\n",
       "      <th>critic_score</th>\n",
       "      <th>user_score</th>\n",
       "      <th>rating</th>\n",
       "      <th>year</th>\n",
       "    </tr>\n",
       "  </thead>\n",
       "  <tbody>\n",
       "    <tr>\n",
       "      <th>0</th>\n",
       "      <td>wii sports</td>\n",
       "      <td>wii</td>\n",
       "      <td>2006</td>\n",
       "      <td>sports</td>\n",
       "      <td>41.36</td>\n",
       "      <td>28.96</td>\n",
       "      <td>3.77</td>\n",
       "      <td>8.45</td>\n",
       "      <td>76.0</td>\n",
       "      <td>8.0</td>\n",
       "      <td>E</td>\n",
       "      <td>2006.0</td>\n",
       "    </tr>\n",
       "    <tr>\n",
       "      <th>1</th>\n",
       "      <td>super mario bros.</td>\n",
       "      <td>nes</td>\n",
       "      <td>1985</td>\n",
       "      <td>platform</td>\n",
       "      <td>29.08</td>\n",
       "      <td>3.58</td>\n",
       "      <td>6.81</td>\n",
       "      <td>0.77</td>\n",
       "      <td>NaN</td>\n",
       "      <td>NaN</td>\n",
       "      <td>NaN</td>\n",
       "      <td>1985.0</td>\n",
       "    </tr>\n",
       "    <tr>\n",
       "      <th>2</th>\n",
       "      <td>mario kart wii</td>\n",
       "      <td>wii</td>\n",
       "      <td>2008</td>\n",
       "      <td>racing</td>\n",
       "      <td>15.68</td>\n",
       "      <td>12.76</td>\n",
       "      <td>3.79</td>\n",
       "      <td>3.29</td>\n",
       "      <td>82.0</td>\n",
       "      <td>8.3</td>\n",
       "      <td>E</td>\n",
       "      <td>2008.0</td>\n",
       "    </tr>\n",
       "    <tr>\n",
       "      <th>3</th>\n",
       "      <td>wii sports resort</td>\n",
       "      <td>wii</td>\n",
       "      <td>2009</td>\n",
       "      <td>sports</td>\n",
       "      <td>15.61</td>\n",
       "      <td>10.93</td>\n",
       "      <td>3.28</td>\n",
       "      <td>2.95</td>\n",
       "      <td>80.0</td>\n",
       "      <td>8.0</td>\n",
       "      <td>E</td>\n",
       "      <td>2009.0</td>\n",
       "    </tr>\n",
       "    <tr>\n",
       "      <th>4</th>\n",
       "      <td>pokemon red/pokemon blue</td>\n",
       "      <td>gb</td>\n",
       "      <td>1996</td>\n",
       "      <td>role-playing</td>\n",
       "      <td>11.27</td>\n",
       "      <td>8.89</td>\n",
       "      <td>10.22</td>\n",
       "      <td>1.00</td>\n",
       "      <td>NaN</td>\n",
       "      <td>NaN</td>\n",
       "      <td>NaN</td>\n",
       "      <td>1996.0</td>\n",
       "    </tr>\n",
       "  </tbody>\n",
       "</table>\n",
       "</div>"
      ],
      "text/plain": [
       "                       name platform  year_of_release         genre  na_sales  \\\n",
       "0                wii sports      wii             2006        sports     41.36   \n",
       "1         super mario bros.      nes             1985      platform     29.08   \n",
       "2            mario kart wii      wii             2008        racing     15.68   \n",
       "3         wii sports resort      wii             2009        sports     15.61   \n",
       "4  pokemon red/pokemon blue       gb             1996  role-playing     11.27   \n",
       "\n",
       "   eu_sales  jp_sales  other_sales  critic_score  user_score rating    year  \n",
       "0     28.96      3.77         8.45          76.0         8.0      E  2006.0  \n",
       "1      3.58      6.81         0.77           NaN         NaN    NaN  1985.0  \n",
       "2     12.76      3.79         3.29          82.0         8.3      E  2008.0  \n",
       "3     10.93      3.28         2.95          80.0         8.0      E  2009.0  \n",
       "4      8.89     10.22         1.00           NaN         NaN    NaN  1996.0  "
      ]
     },
     "execution_count": 13,
     "metadata": {},
     "output_type": "execute_result"
    }
   ],
   "source": [
    "df.head()"
   ]
  },
  {
   "cell_type": "code",
   "execution_count": 14,
   "metadata": {
    "scrolled": true
   },
   "outputs": [
    {
     "data": {
      "text/plain": [
       "action          1181\n",
       "misc             868\n",
       "adventure        857\n",
       "sports           839\n",
       "role-playing     721\n",
       "fighting         411\n",
       "racing           377\n",
       "strategy         344\n",
       "platform         319\n",
       "simulation       305\n",
       "shooter          304\n",
       "puzzle           238\n",
       "Name: genre, dtype: int64"
      ]
     },
     "execution_count": 14,
     "metadata": {},
     "output_type": "execute_result"
    }
   ],
   "source": [
    "df[df['rating'].isna()]['genre'].value_counts()"
   ]
  },
  {
   "cell_type": "code",
   "execution_count": 15,
   "metadata": {},
   "outputs": [
    {
     "data": {
      "text/html": [
       "<div>\n",
       "<style scoped>\n",
       "    .dataframe tbody tr th:only-of-type {\n",
       "        vertical-align: middle;\n",
       "    }\n",
       "\n",
       "    .dataframe tbody tr th {\n",
       "        vertical-align: top;\n",
       "    }\n",
       "\n",
       "    .dataframe thead th {\n",
       "        text-align: right;\n",
       "    }\n",
       "</style>\n",
       "<table border=\"1\" class=\"dataframe\">\n",
       "  <thead>\n",
       "    <tr style=\"text-align: right;\">\n",
       "      <th></th>\n",
       "      <th></th>\n",
       "      <th>name</th>\n",
       "    </tr>\n",
       "    <tr>\n",
       "      <th>genre</th>\n",
       "      <th>rating</th>\n",
       "      <th></th>\n",
       "    </tr>\n",
       "  </thead>\n",
       "  <tbody>\n",
       "    <tr>\n",
       "      <th rowspan=\"6\" valign=\"top\">action</th>\n",
       "      <th>AO</th>\n",
       "      <td>1</td>\n",
       "    </tr>\n",
       "    <tr>\n",
       "      <th>E</th>\n",
       "      <td>416</td>\n",
       "    </tr>\n",
       "    <tr>\n",
       "      <th>E10+</th>\n",
       "      <td>481</td>\n",
       "    </tr>\n",
       "    <tr>\n",
       "      <th>EC</th>\n",
       "      <td>1</td>\n",
       "    </tr>\n",
       "    <tr>\n",
       "      <th>M</th>\n",
       "      <td>608</td>\n",
       "    </tr>\n",
       "    <tr>\n",
       "      <th>T</th>\n",
       "      <td>681</td>\n",
       "    </tr>\n",
       "    <tr>\n",
       "      <th rowspan=\"5\" valign=\"top\">adventure</th>\n",
       "      <th>E</th>\n",
       "      <td>162</td>\n",
       "    </tr>\n",
       "    <tr>\n",
       "      <th>E10+</th>\n",
       "      <td>68</td>\n",
       "    </tr>\n",
       "    <tr>\n",
       "      <th>EC</th>\n",
       "      <td>2</td>\n",
       "    </tr>\n",
       "    <tr>\n",
       "      <th>M</th>\n",
       "      <td>99</td>\n",
       "    </tr>\n",
       "    <tr>\n",
       "      <th>T</th>\n",
       "      <td>115</td>\n",
       "    </tr>\n",
       "    <tr>\n",
       "      <th rowspan=\"4\" valign=\"top\">fighting</th>\n",
       "      <th>E</th>\n",
       "      <td>8</td>\n",
       "    </tr>\n",
       "    <tr>\n",
       "      <th>E10+</th>\n",
       "      <td>19</td>\n",
       "    </tr>\n",
       "    <tr>\n",
       "      <th>M</th>\n",
       "      <td>49</td>\n",
       "    </tr>\n",
       "    <tr>\n",
       "      <th>T</th>\n",
       "      <td>362</td>\n",
       "    </tr>\n",
       "    <tr>\n",
       "      <th rowspan=\"6\" valign=\"top\">misc</th>\n",
       "      <th>E</th>\n",
       "      <td>457</td>\n",
       "    </tr>\n",
       "    <tr>\n",
       "      <th>E10+</th>\n",
       "      <td>167</td>\n",
       "    </tr>\n",
       "    <tr>\n",
       "      <th>EC</th>\n",
       "      <td>5</td>\n",
       "    </tr>\n",
       "    <tr>\n",
       "      <th>K-A</th>\n",
       "      <td>1</td>\n",
       "    </tr>\n",
       "    <tr>\n",
       "      <th>M</th>\n",
       "      <td>13</td>\n",
       "    </tr>\n",
       "    <tr>\n",
       "      <th>T</th>\n",
       "      <td>239</td>\n",
       "    </tr>\n",
       "    <tr>\n",
       "      <th rowspan=\"4\" valign=\"top\">platform</th>\n",
       "      <th>E</th>\n",
       "      <td>358</td>\n",
       "    </tr>\n",
       "    <tr>\n",
       "      <th>E10+</th>\n",
       "      <td>144</td>\n",
       "    </tr>\n",
       "    <tr>\n",
       "      <th>M</th>\n",
       "      <td>3</td>\n",
       "    </tr>\n",
       "    <tr>\n",
       "      <th>T</th>\n",
       "      <td>64</td>\n",
       "    </tr>\n",
       "    <tr>\n",
       "      <th rowspan=\"3\" valign=\"top\">puzzle</th>\n",
       "      <th>E</th>\n",
       "      <td>289</td>\n",
       "    </tr>\n",
       "    <tr>\n",
       "      <th>E10+</th>\n",
       "      <td>43</td>\n",
       "    </tr>\n",
       "    <tr>\n",
       "      <th>T</th>\n",
       "      <td>10</td>\n",
       "    </tr>\n",
       "    <tr>\n",
       "      <th rowspan=\"5\" valign=\"top\">racing</th>\n",
       "      <th>E</th>\n",
       "      <td>585</td>\n",
       "    </tr>\n",
       "    <tr>\n",
       "      <th>E10+</th>\n",
       "      <td>96</td>\n",
       "    </tr>\n",
       "    <tr>\n",
       "      <th>M</th>\n",
       "      <td>18</td>\n",
       "    </tr>\n",
       "    <tr>\n",
       "      <th>RP</th>\n",
       "      <td>1</td>\n",
       "    </tr>\n",
       "    <tr>\n",
       "      <th>T</th>\n",
       "      <td>172</td>\n",
       "    </tr>\n",
       "    <tr>\n",
       "      <th rowspan=\"4\" valign=\"top\">role-playing</th>\n",
       "      <th>E</th>\n",
       "      <td>84</td>\n",
       "    </tr>\n",
       "    <tr>\n",
       "      <th>E10+</th>\n",
       "      <td>111</td>\n",
       "    </tr>\n",
       "    <tr>\n",
       "      <th>M</th>\n",
       "      <td>162</td>\n",
       "    </tr>\n",
       "    <tr>\n",
       "      <th>T</th>\n",
       "      <td>420</td>\n",
       "    </tr>\n",
       "    <tr>\n",
       "      <th rowspan=\"4\" valign=\"top\">shooter</th>\n",
       "      <th>E</th>\n",
       "      <td>48</td>\n",
       "    </tr>\n",
       "    <tr>\n",
       "      <th>E10+</th>\n",
       "      <td>58</td>\n",
       "    </tr>\n",
       "    <tr>\n",
       "      <th>M</th>\n",
       "      <td>565</td>\n",
       "    </tr>\n",
       "    <tr>\n",
       "      <th>T</th>\n",
       "      <td>348</td>\n",
       "    </tr>\n",
       "    <tr>\n",
       "      <th rowspan=\"4\" valign=\"top\">simulation</th>\n",
       "      <th>E</th>\n",
       "      <td>325</td>\n",
       "    </tr>\n",
       "    <tr>\n",
       "      <th>E10+</th>\n",
       "      <td>48</td>\n",
       "    </tr>\n",
       "    <tr>\n",
       "      <th>M</th>\n",
       "      <td>5</td>\n",
       "    </tr>\n",
       "    <tr>\n",
       "      <th>T</th>\n",
       "      <td>190</td>\n",
       "    </tr>\n",
       "    <tr>\n",
       "      <th rowspan=\"4\" valign=\"top\">sports</th>\n",
       "      <th>E</th>\n",
       "      <td>1188</td>\n",
       "    </tr>\n",
       "    <tr>\n",
       "      <th>E10+</th>\n",
       "      <td>107</td>\n",
       "    </tr>\n",
       "    <tr>\n",
       "      <th>M</th>\n",
       "      <td>16</td>\n",
       "    </tr>\n",
       "    <tr>\n",
       "      <th>T</th>\n",
       "      <td>198</td>\n",
       "    </tr>\n",
       "    <tr>\n",
       "      <th rowspan=\"6\" valign=\"top\">strategy</th>\n",
       "      <th>E</th>\n",
       "      <td>70</td>\n",
       "    </tr>\n",
       "    <tr>\n",
       "      <th>E10+</th>\n",
       "      <td>78</td>\n",
       "    </tr>\n",
       "    <tr>\n",
       "      <th>K-A</th>\n",
       "      <td>2</td>\n",
       "    </tr>\n",
       "    <tr>\n",
       "      <th>M</th>\n",
       "      <td>25</td>\n",
       "    </tr>\n",
       "    <tr>\n",
       "      <th>RP</th>\n",
       "      <td>2</td>\n",
       "    </tr>\n",
       "    <tr>\n",
       "      <th>T</th>\n",
       "      <td>162</td>\n",
       "    </tr>\n",
       "  </tbody>\n",
       "</table>\n",
       "</div>"
      ],
      "text/plain": [
       "                     name\n",
       "genre        rating      \n",
       "action       AO         1\n",
       "             E        416\n",
       "             E10+     481\n",
       "             EC         1\n",
       "             M        608\n",
       "             T        681\n",
       "adventure    E        162\n",
       "             E10+      68\n",
       "             EC         2\n",
       "             M         99\n",
       "             T        115\n",
       "fighting     E          8\n",
       "             E10+      19\n",
       "             M         49\n",
       "             T        362\n",
       "misc         E        457\n",
       "             E10+     167\n",
       "             EC         5\n",
       "             K-A        1\n",
       "             M         13\n",
       "             T        239\n",
       "platform     E        358\n",
       "             E10+     144\n",
       "             M          3\n",
       "             T         64\n",
       "puzzle       E        289\n",
       "             E10+      43\n",
       "             T         10\n",
       "racing       E        585\n",
       "             E10+      96\n",
       "             M         18\n",
       "             RP         1\n",
       "             T        172\n",
       "role-playing E         84\n",
       "             E10+     111\n",
       "             M        162\n",
       "             T        420\n",
       "shooter      E         48\n",
       "             E10+      58\n",
       "             M        565\n",
       "             T        348\n",
       "simulation   E        325\n",
       "             E10+      48\n",
       "             M          5\n",
       "             T        190\n",
       "sports       E       1188\n",
       "             E10+     107\n",
       "             M         16\n",
       "             T        198\n",
       "strategy     E         70\n",
       "             E10+      78\n",
       "             K-A        2\n",
       "             M         25\n",
       "             RP         2\n",
       "             T        162"
      ]
     },
     "execution_count": 15,
     "metadata": {},
     "output_type": "execute_result"
    }
   ],
   "source": [
    "df_genre_rating = df[df['rating'].notna()].pivot_table(index=['genre', 'rating'], values='name', aggfunc='count')\n",
    "df_genre_rating"
   ]
  },
  {
   "cell_type": "markdown",
   "metadata": {},
   "source": [
    "**Выводы**"
   ]
  },
  {
   "cell_type": "markdown",
   "metadata": {},
   "source": [
    "1. Названия столбцов приведены к общему виду и к нижнему регистр.\n",
    "2. Пропуски в столбце с названием игры заменить нельзя, так как информации недостаточно для ее определения.\n",
    "3. Пропуски в столбце с датой релиза менять не следует. Возможен вариант замены пропусков на среднее значение годов выпуска игр по платформам, но поскольку обнолвения платформ проводятся редко, то имеется большой риск искозить данные.\n",
    "4. Столбец с оценкой критиков. В данном случае есть два варианта работы: замена пропусков на медианное значение по жанру и оставление пропусков. Поскольку пропусков слишком много не следует заменять на медианное значение, поскольку в случае появления в последствии оценок критиков правильный сдвиг происходить не будет из-за большое концентрации оценок на медианном значении.\n",
    "5. Значения \"tbd\" в столбце с оценкой пользователей можно заменить вместе с пропущенными значениями (Nan), так как данное решение статистику не искозит.\n",
    "6. Столбец с рейтингом. Пропуски в данном случае трогать не следует, так как неизвестно нет достаточных оснаваний полагать, какой рейтинг будет у той или иной игры. Именно поэтому в дальнейшем отметим их соотвествующим образом.\n",
    "7. Данных по вриведённым двум играм (где пропуски в их наименованиях) практически нет, объёмы продаж в разных странах небольшой, поэтому удаление этих строчек никак не отразится на результатах анализа.\n",
    "8. Столбцы со строчными данными приведены к нижнему регистру для удобного поиска дубликатов в следующем разделе."
   ]
  },
  {
   "cell_type": "markdown",
   "metadata": {},
   "source": [
    "### Обработка дубликатов"
   ]
  },
  {
   "cell_type": "code",
   "execution_count": 16,
   "metadata": {},
   "outputs": [
    {
     "data": {
      "text/plain": [
       "0"
      ]
     },
     "execution_count": 16,
     "metadata": {},
     "output_type": "execute_result"
    }
   ],
   "source": [
    "df.duplicated().sum()"
   ]
  },
  {
   "cell_type": "markdown",
   "metadata": {},
   "source": [
    "**Выводы**"
   ]
  },
  {
   "cell_type": "markdown",
   "metadata": {},
   "source": [
    "1. Дубликатов в таблице не обнаружено. Лемматизацию применять нет смысла, так как отдельные данные столбоц таблицы могут совпадать, а совпадение всех элементов таблицы проверены методом duplicated"
   ]
  },
  {
   "cell_type": "markdown",
   "metadata": {},
   "source": [
    "### Добавление значений в таблицу"
   ]
  },
  {
   "cell_type": "code",
   "execution_count": 17,
   "metadata": {},
   "outputs": [],
   "source": [
    "df['sum_sales'] = df.apply(lambda row: sum(row[['na_sales','eu_sales','jp_sales','other_sales']]),axis =1)"
   ]
  },
  {
   "cell_type": "code",
   "execution_count": 18,
   "metadata": {},
   "outputs": [
    {
     "data": {
      "text/html": [
       "<div>\n",
       "<style scoped>\n",
       "    .dataframe tbody tr th:only-of-type {\n",
       "        vertical-align: middle;\n",
       "    }\n",
       "\n",
       "    .dataframe tbody tr th {\n",
       "        vertical-align: top;\n",
       "    }\n",
       "\n",
       "    .dataframe thead th {\n",
       "        text-align: right;\n",
       "    }\n",
       "</style>\n",
       "<table border=\"1\" class=\"dataframe\">\n",
       "  <thead>\n",
       "    <tr style=\"text-align: right;\">\n",
       "      <th></th>\n",
       "      <th>name</th>\n",
       "      <th>platform</th>\n",
       "      <th>year_of_release</th>\n",
       "      <th>genre</th>\n",
       "      <th>na_sales</th>\n",
       "      <th>eu_sales</th>\n",
       "      <th>jp_sales</th>\n",
       "      <th>other_sales</th>\n",
       "      <th>critic_score</th>\n",
       "      <th>user_score</th>\n",
       "      <th>rating</th>\n",
       "      <th>year</th>\n",
       "      <th>sum_sales</th>\n",
       "    </tr>\n",
       "  </thead>\n",
       "  <tbody>\n",
       "    <tr>\n",
       "      <th>0</th>\n",
       "      <td>wii sports</td>\n",
       "      <td>wii</td>\n",
       "      <td>2006</td>\n",
       "      <td>sports</td>\n",
       "      <td>41.36</td>\n",
       "      <td>28.96</td>\n",
       "      <td>3.77</td>\n",
       "      <td>8.45</td>\n",
       "      <td>76.0</td>\n",
       "      <td>8.0</td>\n",
       "      <td>E</td>\n",
       "      <td>2006.0</td>\n",
       "      <td>82.54</td>\n",
       "    </tr>\n",
       "    <tr>\n",
       "      <th>1</th>\n",
       "      <td>super mario bros.</td>\n",
       "      <td>nes</td>\n",
       "      <td>1985</td>\n",
       "      <td>platform</td>\n",
       "      <td>29.08</td>\n",
       "      <td>3.58</td>\n",
       "      <td>6.81</td>\n",
       "      <td>0.77</td>\n",
       "      <td>NaN</td>\n",
       "      <td>NaN</td>\n",
       "      <td>NaN</td>\n",
       "      <td>1985.0</td>\n",
       "      <td>40.24</td>\n",
       "    </tr>\n",
       "    <tr>\n",
       "      <th>2</th>\n",
       "      <td>mario kart wii</td>\n",
       "      <td>wii</td>\n",
       "      <td>2008</td>\n",
       "      <td>racing</td>\n",
       "      <td>15.68</td>\n",
       "      <td>12.76</td>\n",
       "      <td>3.79</td>\n",
       "      <td>3.29</td>\n",
       "      <td>82.0</td>\n",
       "      <td>8.3</td>\n",
       "      <td>E</td>\n",
       "      <td>2008.0</td>\n",
       "      <td>35.52</td>\n",
       "    </tr>\n",
       "    <tr>\n",
       "      <th>3</th>\n",
       "      <td>wii sports resort</td>\n",
       "      <td>wii</td>\n",
       "      <td>2009</td>\n",
       "      <td>sports</td>\n",
       "      <td>15.61</td>\n",
       "      <td>10.93</td>\n",
       "      <td>3.28</td>\n",
       "      <td>2.95</td>\n",
       "      <td>80.0</td>\n",
       "      <td>8.0</td>\n",
       "      <td>E</td>\n",
       "      <td>2009.0</td>\n",
       "      <td>32.77</td>\n",
       "    </tr>\n",
       "    <tr>\n",
       "      <th>4</th>\n",
       "      <td>pokemon red/pokemon blue</td>\n",
       "      <td>gb</td>\n",
       "      <td>1996</td>\n",
       "      <td>role-playing</td>\n",
       "      <td>11.27</td>\n",
       "      <td>8.89</td>\n",
       "      <td>10.22</td>\n",
       "      <td>1.00</td>\n",
       "      <td>NaN</td>\n",
       "      <td>NaN</td>\n",
       "      <td>NaN</td>\n",
       "      <td>1996.0</td>\n",
       "      <td>31.38</td>\n",
       "    </tr>\n",
       "  </tbody>\n",
       "</table>\n",
       "</div>"
      ],
      "text/plain": [
       "                       name platform  year_of_release         genre  na_sales  \\\n",
       "0                wii sports      wii             2006        sports     41.36   \n",
       "1         super mario bros.      nes             1985      platform     29.08   \n",
       "2            mario kart wii      wii             2008        racing     15.68   \n",
       "3         wii sports resort      wii             2009        sports     15.61   \n",
       "4  pokemon red/pokemon blue       gb             1996  role-playing     11.27   \n",
       "\n",
       "   eu_sales  jp_sales  other_sales  critic_score  user_score rating    year  \\\n",
       "0     28.96      3.77         8.45          76.0         8.0      E  2006.0   \n",
       "1      3.58      6.81         0.77           NaN         NaN    NaN  1985.0   \n",
       "2     12.76      3.79         3.29          82.0         8.3      E  2008.0   \n",
       "3     10.93      3.28         2.95          80.0         8.0      E  2009.0   \n",
       "4      8.89     10.22         1.00           NaN         NaN    NaN  1996.0   \n",
       "\n",
       "   sum_sales  \n",
       "0      82.54  \n",
       "1      40.24  \n",
       "2      35.52  \n",
       "3      32.77  \n",
       "4      31.38  "
      ]
     },
     "execution_count": 18,
     "metadata": {},
     "output_type": "execute_result"
    }
   ],
   "source": [
    "df.head()"
   ]
  },
  {
   "cell_type": "markdown",
   "metadata": {},
   "source": [
    "### Выводы"
   ]
  },
  {
   "cell_type": "markdown",
   "metadata": {},
   "source": [
    "Добавлен столбец с суммарными продажами по регионам."
   ]
  },
  {
   "cell_type": "markdown",
   "metadata": {},
   "source": [
    "## Исследовательский анализ рынка"
   ]
  },
  {
   "cell_type": "code",
   "execution_count": 19,
   "metadata": {
    "scrolled": true
   },
   "outputs": [
    {
     "data": {
      "image/png": "[encoded data removed]",
      "text/plain": [
       "<Figure size 432x288 with 1 Axes>"
      ]
     },
     "metadata": {
      "needs_background": "light"
     },
     "output_type": "display_data"
    }
   ],
   "source": [
    "games_count = df.pivot_table(index='year_of_release', values='name', aggfunc=['count'])\n",
    "games_count.columns = ['count']\n",
    "games_count.plot(label='game_count', title='Games per year', grid=True, legend=True)\n",
    "\n",
    "plt.show()"
   ]
  },
  {
   "cell_type": "markdown",
   "metadata": {},
   "source": [
    "Исходя из построенного графика частоты релиза игр по годам можно сделать вывод, что сфера геминга начала становится очень популярна начиная с 2000-ых годов."
   ]
  },
  {
   "cell_type": "code",
   "execution_count": 20,
   "metadata": {},
   "outputs": [
    {
     "data": {
      "text/html": [
       "<div>\n",
       "<style scoped>\n",
       "    .dataframe tbody tr th:only-of-type {\n",
       "        vertical-align: middle;\n",
       "    }\n",
       "\n",
       "    .dataframe tbody tr th {\n",
       "        vertical-align: top;\n",
       "    }\n",
       "\n",
       "    .dataframe thead th {\n",
       "        text-align: right;\n",
       "    }\n",
       "</style>\n",
       "<table border=\"1\" class=\"dataframe\">\n",
       "  <thead>\n",
       "    <tr style=\"text-align: right;\">\n",
       "      <th></th>\n",
       "      <th>sum_sales</th>\n",
       "    </tr>\n",
       "    <tr>\n",
       "      <th>platform</th>\n",
       "      <th></th>\n",
       "    </tr>\n",
       "  </thead>\n",
       "  <tbody>\n",
       "    <tr>\n",
       "      <th>ps2</th>\n",
       "      <td>1255.77</td>\n",
       "    </tr>\n",
       "    <tr>\n",
       "      <th>x360</th>\n",
       "      <td>971.42</td>\n",
       "    </tr>\n",
       "    <tr>\n",
       "      <th>ps3</th>\n",
       "      <td>939.65</td>\n",
       "    </tr>\n",
       "    <tr>\n",
       "      <th>wii</th>\n",
       "      <td>907.51</td>\n",
       "    </tr>\n",
       "    <tr>\n",
       "      <th>ds</th>\n",
       "      <td>806.12</td>\n",
       "    </tr>\n",
       "  </tbody>\n",
       "</table>\n",
       "</div>"
      ],
      "text/plain": [
       "          sum_sales\n",
       "platform           \n",
       "ps2         1255.77\n",
       "x360         971.42\n",
       "ps3          939.65\n",
       "wii          907.51\n",
       "ds           806.12"
      ]
     },
     "execution_count": 20,
     "metadata": {},
     "output_type": "execute_result"
    }
   ],
   "source": [
    "top_10_platforms = df.groupby('platform').agg({'sum_sales': 'sum'}).sort_values(by='sum_sales', ascending=False)[:10]\n",
    "top_10_platforms.head()"
   ]
  },
  {
   "cell_type": "code",
   "execution_count": 21,
   "metadata": {},
   "outputs": [
    {
     "data": {
      "text/html": [
       "<div>\n",
       "<style scoped>\n",
       "    .dataframe tbody tr th:only-of-type {\n",
       "        vertical-align: middle;\n",
       "    }\n",
       "\n",
       "    .dataframe tbody tr th {\n",
       "        vertical-align: top;\n",
       "    }\n",
       "\n",
       "    .dataframe thead th {\n",
       "        text-align: right;\n",
       "    }\n",
       "</style>\n",
       "<table border=\"1\" class=\"dataframe\">\n",
       "  <thead>\n",
       "    <tr style=\"text-align: right;\">\n",
       "      <th></th>\n",
       "      <th></th>\n",
       "      <th>sum_sales</th>\n",
       "      <th>years</th>\n",
       "    </tr>\n",
       "    <tr>\n",
       "      <th>platform</th>\n",
       "      <th>year_of_release</th>\n",
       "      <th></th>\n",
       "      <th></th>\n",
       "    </tr>\n",
       "  </thead>\n",
       "  <tbody>\n",
       "    <tr>\n",
       "      <th rowspan=\"10\" valign=\"top\">2600</th>\n",
       "      <th>1980</th>\n",
       "      <td>11.38</td>\n",
       "      <td>1980</td>\n",
       "    </tr>\n",
       "    <tr>\n",
       "      <th>1981</th>\n",
       "      <td>35.68</td>\n",
       "      <td>1981</td>\n",
       "    </tr>\n",
       "    <tr>\n",
       "      <th>1982</th>\n",
       "      <td>28.88</td>\n",
       "      <td>1982</td>\n",
       "    </tr>\n",
       "    <tr>\n",
       "      <th>1983</th>\n",
       "      <td>5.84</td>\n",
       "      <td>1983</td>\n",
       "    </tr>\n",
       "    <tr>\n",
       "      <th>1984</th>\n",
       "      <td>0.27</td>\n",
       "      <td>1984</td>\n",
       "    </tr>\n",
       "    <tr>\n",
       "      <th>1985</th>\n",
       "      <td>0.45</td>\n",
       "      <td>1985</td>\n",
       "    </tr>\n",
       "    <tr>\n",
       "      <th>1986</th>\n",
       "      <td>0.67</td>\n",
       "      <td>1986</td>\n",
       "    </tr>\n",
       "    <tr>\n",
       "      <th>1987</th>\n",
       "      <td>1.94</td>\n",
       "      <td>1987</td>\n",
       "    </tr>\n",
       "    <tr>\n",
       "      <th>1988</th>\n",
       "      <td>0.74</td>\n",
       "      <td>1988</td>\n",
       "    </tr>\n",
       "    <tr>\n",
       "      <th>1989</th>\n",
       "      <td>0.63</td>\n",
       "      <td>1989</td>\n",
       "    </tr>\n",
       "    <tr>\n",
       "      <th rowspan=\"2\" valign=\"top\">3do</th>\n",
       "      <th>1994</th>\n",
       "      <td>0.02</td>\n",
       "      <td>1994</td>\n",
       "    </tr>\n",
       "    <tr>\n",
       "      <th>1995</th>\n",
       "      <td>0.08</td>\n",
       "      <td>1995</td>\n",
       "    </tr>\n",
       "    <tr>\n",
       "      <th rowspan=\"6\" valign=\"top\">3ds</th>\n",
       "      <th>2011</th>\n",
       "      <td>63.20</td>\n",
       "      <td>2011</td>\n",
       "    </tr>\n",
       "    <tr>\n",
       "      <th>2012</th>\n",
       "      <td>51.36</td>\n",
       "      <td>2012</td>\n",
       "    </tr>\n",
       "    <tr>\n",
       "      <th>2013</th>\n",
       "      <td>56.57</td>\n",
       "      <td>2013</td>\n",
       "    </tr>\n",
       "    <tr>\n",
       "      <th>2014</th>\n",
       "      <td>43.76</td>\n",
       "      <td>2014</td>\n",
       "    </tr>\n",
       "    <tr>\n",
       "      <th>2015</th>\n",
       "      <td>27.78</td>\n",
       "      <td>2015</td>\n",
       "    </tr>\n",
       "    <tr>\n",
       "      <th>2016</th>\n",
       "      <td>15.14</td>\n",
       "      <td>2016</td>\n",
       "    </tr>\n",
       "    <tr>\n",
       "      <th rowspan=\"2\" valign=\"top\">dc</th>\n",
       "      <th>1998</th>\n",
       "      <td>3.38</td>\n",
       "      <td>1998</td>\n",
       "    </tr>\n",
       "    <tr>\n",
       "      <th>1999</th>\n",
       "      <td>5.16</td>\n",
       "      <td>1999</td>\n",
       "    </tr>\n",
       "  </tbody>\n",
       "</table>\n",
       "</div>"
      ],
      "text/plain": [
       "                          sum_sales  years\n",
       "platform year_of_release                  \n",
       "2600     1980                 11.38   1980\n",
       "         1981                 35.68   1981\n",
       "         1982                 28.88   1982\n",
       "         1983                  5.84   1983\n",
       "         1984                  0.27   1984\n",
       "         1985                  0.45   1985\n",
       "         1986                  0.67   1986\n",
       "         1987                  1.94   1987\n",
       "         1988                  0.74   1988\n",
       "         1989                  0.63   1989\n",
       "3do      1994                  0.02   1994\n",
       "         1995                  0.08   1995\n",
       "3ds      2011                 63.20   2011\n",
       "         2012                 51.36   2012\n",
       "         2013                 56.57   2013\n",
       "         2014                 43.76   2014\n",
       "         2015                 27.78   2015\n",
       "         2016                 15.14   2016\n",
       "dc       1998                  3.38   1998\n",
       "         1999                  5.16   1999"
      ]
     },
     "execution_count": 21,
     "metadata": {},
     "output_type": "execute_result"
    }
   ],
   "source": [
    "df_platform = df.pivot_table(index=['platform', 'year_of_release'], values='sum_sales', aggfunc=['sum'])\n",
    "df_platform.columns = ['sum_sales']\n",
    "df_platform['years'] =  df_platform.index.values\n",
    "df_platform['years'] = df_platform['years'].apply(lambda row: row[1]).astype('int')\n",
    "#df_platform = df_platform.reset_index()\n",
    "df_platform.head(20)"
   ]
  },
  {
   "cell_type": "code",
   "execution_count": 22,
   "metadata": {
    "scrolled": false
   },
   "outputs": [
    {
     "data": {
      "image/png": "[encoded data removed]",
      "text/plain": [
       "<Figure size 720x360 with 1 Axes>"
      ]
     },
     "metadata": {
      "needs_background": "light"
     },
     "output_type": "display_data"
    }
   ],
   "source": [
    "fig, ax = plt.subplots(figsize =(10,5))\n",
    "for platform in top_10_platforms.index:\n",
    "    df_platform.loc[platform].plot('years','sum_sales', ax=ax)\n",
    "    #df_platform[df_platform['platform'] == platform].plot('years','sum_sales', ax=ax, label=platform)\n",
    "ax.legend(top_10_platforms.index, prop = {'size':10})\n",
    "ax.set_title('Sum sales by platforms per year')\n",
    "ax.set_xlim([2000,2017])\n",
    "ax.set_xticks(np.arange(2000,2017))\n",
    "ax.set_xticklabels(range(2000,2017))\n",
    "plt.show()"
   ]
  },
  {
   "cell_type": "code",
   "execution_count": 23,
   "metadata": {
    "scrolled": true
   },
   "outputs": [],
   "source": [
    "#df.pivot_table(index='year_of_release', columns='platform', values='sum_sales', aggfunc=['sum']).plot(figsize=(10, 5))\n",
    "#plt.show()"
   ]
  },
  {
   "cell_type": "code",
   "execution_count": 24,
   "metadata": {},
   "outputs": [
    {
     "name": "stdout",
     "output_type": "stream",
     "text": [
      "['2600', '3do', '3ds', 'dc', 'ds', 'gb', 'gba', 'gc', 'gen', 'gg', 'n64', 'nes', 'ng', 'pc', 'pcfx', 'ps', 'ps2', 'ps3', 'ps4', 'psp', 'psv', 'sat', 'scd', 'snes', 'tg16', 'wii', 'wiiu', 'ws', 'x360', 'xb', 'xone']\n"
     ]
    }
   ],
   "source": [
    "all_platforms = df_platform.index.values\n",
    "all_pl = []\n",
    "for i in all_platforms:\n",
    "    if i[0] not in all_pl:\n",
    "        all_pl.append(i[0])\n",
    "print(all_pl)"
   ]
  },
  {
   "cell_type": "code",
   "execution_count": 25,
   "metadata": {},
   "outputs": [
    {
     "name": "stdout",
     "output_type": "stream",
     "text": [
      "11.7\n"
     ]
    }
   ],
   "source": [
    "total = 0\n",
    "count = 0\n",
    "for platform in top_10_platforms.index:\n",
    "    total += len(df_platform.loc[platform])\n",
    "    count += 1\n",
    "print(total/count)"
   ]
  },
  {
   "cell_type": "code",
   "execution_count": 26,
   "metadata": {},
   "outputs": [
    {
     "name": "stdout",
     "output_type": "stream",
     "text": [
      "7.67741935483871\n"
     ]
    }
   ],
   "source": [
    "total = 0\n",
    "count = 0\n",
    "for platform in all_pl:\n",
    "    total += len(df_platform.loc[platform])\n",
    "    count += 1\n",
    "print(total/count)"
   ]
  },
  {
   "cell_type": "markdown",
   "metadata": {},
   "source": [
    "По графику суммарных продаж по платформам видно, что c 2004 по 2006 в год появлялось минимум по 1 платформе (в 2006 сразу две).\n",
    "В среднем новые платформы живут 11-12 лет (если рассматривать топ 10 платформ). Если рассматривать все платформы то в среднем платформы живут 7-8 лет.\n",
    "\n",
    "Акутальным периодом будет считаться 2013-2016 гг., с момента появления ps4."
   ]
  },
  {
   "cell_type": "code",
   "execution_count": 27,
   "metadata": {},
   "outputs": [
    {
     "data": {
      "text/html": [
       "<div>\n",
       "<style scoped>\n",
       "    .dataframe tbody tr th:only-of-type {\n",
       "        vertical-align: middle;\n",
       "    }\n",
       "\n",
       "    .dataframe tbody tr th {\n",
       "        vertical-align: top;\n",
       "    }\n",
       "\n",
       "    .dataframe thead th {\n",
       "        text-align: right;\n",
       "    }\n",
       "</style>\n",
       "<table border=\"1\" class=\"dataframe\">\n",
       "  <thead>\n",
       "    <tr style=\"text-align: right;\">\n",
       "      <th></th>\n",
       "      <th>platform</th>\n",
       "      <th>year_of_release</th>\n",
       "      <th>sum_sales</th>\n",
       "      <th>years</th>\n",
       "    </tr>\n",
       "  </thead>\n",
       "  <tbody>\n",
       "    <tr>\n",
       "      <th>0</th>\n",
       "      <td>3ds</td>\n",
       "      <td>2013</td>\n",
       "      <td>56.57</td>\n",
       "      <td>2013</td>\n",
       "    </tr>\n",
       "    <tr>\n",
       "      <th>1</th>\n",
       "      <td>3ds</td>\n",
       "      <td>2014</td>\n",
       "      <td>43.76</td>\n",
       "      <td>2014</td>\n",
       "    </tr>\n",
       "    <tr>\n",
       "      <th>2</th>\n",
       "      <td>3ds</td>\n",
       "      <td>2015</td>\n",
       "      <td>27.78</td>\n",
       "      <td>2015</td>\n",
       "    </tr>\n",
       "    <tr>\n",
       "      <th>3</th>\n",
       "      <td>3ds</td>\n",
       "      <td>2016</td>\n",
       "      <td>15.14</td>\n",
       "      <td>2016</td>\n",
       "    </tr>\n",
       "  </tbody>\n",
       "</table>\n",
       "</div>"
      ],
      "text/plain": [
       "  platform  year_of_release  sum_sales  years\n",
       "0      3ds             2013      56.57   2013\n",
       "1      3ds             2014      43.76   2014\n",
       "2      3ds             2015      27.78   2015\n",
       "3      3ds             2016      15.14   2016"
      ]
     },
     "execution_count": 27,
     "metadata": {},
     "output_type": "execute_result"
    }
   ],
   "source": [
    "df_platform_actual = df_platform.query('years >= 2013')\n",
    "df_platform_actual = df_platform_actual.reset_index()\n",
    "df_platform_actual.query('platform == \"3ds\"').head(10)"
   ]
  },
  {
   "cell_type": "code",
   "execution_count": 28,
   "metadata": {},
   "outputs": [
    {
     "data": {
      "text/html": [
       "<div>\n",
       "<style scoped>\n",
       "    .dataframe tbody tr th:only-of-type {\n",
       "        vertical-align: middle;\n",
       "    }\n",
       "\n",
       "    .dataframe tbody tr th {\n",
       "        vertical-align: top;\n",
       "    }\n",
       "\n",
       "    .dataframe thead th {\n",
       "        text-align: right;\n",
       "    }\n",
       "</style>\n",
       "<table border=\"1\" class=\"dataframe\">\n",
       "  <thead>\n",
       "    <tr style=\"text-align: right;\">\n",
       "      <th></th>\n",
       "      <th>platform</th>\n",
       "      <th>year_of_release</th>\n",
       "      <th>sum_sales</th>\n",
       "      <th>years</th>\n",
       "    </tr>\n",
       "  </thead>\n",
       "  <tbody>\n",
       "    <tr>\n",
       "      <th>0</th>\n",
       "      <td>3ds</td>\n",
       "      <td>2013</td>\n",
       "      <td>56.57</td>\n",
       "      <td>2013</td>\n",
       "    </tr>\n",
       "    <tr>\n",
       "      <th>1</th>\n",
       "      <td>3ds</td>\n",
       "      <td>2014</td>\n",
       "      <td>43.76</td>\n",
       "      <td>2014</td>\n",
       "    </tr>\n",
       "    <tr>\n",
       "      <th>2</th>\n",
       "      <td>3ds</td>\n",
       "      <td>2015</td>\n",
       "      <td>27.78</td>\n",
       "      <td>2015</td>\n",
       "    </tr>\n",
       "    <tr>\n",
       "      <th>3</th>\n",
       "      <td>3ds</td>\n",
       "      <td>2016</td>\n",
       "      <td>15.14</td>\n",
       "      <td>2016</td>\n",
       "    </tr>\n",
       "    <tr>\n",
       "      <th>4</th>\n",
       "      <td>ds</td>\n",
       "      <td>2013</td>\n",
       "      <td>1.54</td>\n",
       "      <td>2013</td>\n",
       "    </tr>\n",
       "    <tr>\n",
       "      <th>5</th>\n",
       "      <td>pc</td>\n",
       "      <td>2013</td>\n",
       "      <td>12.38</td>\n",
       "      <td>2013</td>\n",
       "    </tr>\n",
       "    <tr>\n",
       "      <th>6</th>\n",
       "      <td>pc</td>\n",
       "      <td>2014</td>\n",
       "      <td>13.28</td>\n",
       "      <td>2014</td>\n",
       "    </tr>\n",
       "    <tr>\n",
       "      <th>7</th>\n",
       "      <td>pc</td>\n",
       "      <td>2015</td>\n",
       "      <td>8.52</td>\n",
       "      <td>2015</td>\n",
       "    </tr>\n",
       "    <tr>\n",
       "      <th>8</th>\n",
       "      <td>pc</td>\n",
       "      <td>2016</td>\n",
       "      <td>5.25</td>\n",
       "      <td>2016</td>\n",
       "    </tr>\n",
       "    <tr>\n",
       "      <th>9</th>\n",
       "      <td>ps3</td>\n",
       "      <td>2013</td>\n",
       "      <td>113.25</td>\n",
       "      <td>2013</td>\n",
       "    </tr>\n",
       "    <tr>\n",
       "      <th>10</th>\n",
       "      <td>ps3</td>\n",
       "      <td>2014</td>\n",
       "      <td>47.76</td>\n",
       "      <td>2014</td>\n",
       "    </tr>\n",
       "    <tr>\n",
       "      <th>11</th>\n",
       "      <td>ps3</td>\n",
       "      <td>2015</td>\n",
       "      <td>16.82</td>\n",
       "      <td>2015</td>\n",
       "    </tr>\n",
       "    <tr>\n",
       "      <th>12</th>\n",
       "      <td>ps3</td>\n",
       "      <td>2016</td>\n",
       "      <td>3.60</td>\n",
       "      <td>2016</td>\n",
       "    </tr>\n",
       "    <tr>\n",
       "      <th>13</th>\n",
       "      <td>ps4</td>\n",
       "      <td>2013</td>\n",
       "      <td>25.99</td>\n",
       "      <td>2013</td>\n",
       "    </tr>\n",
       "    <tr>\n",
       "      <th>14</th>\n",
       "      <td>ps4</td>\n",
       "      <td>2014</td>\n",
       "      <td>100.00</td>\n",
       "      <td>2014</td>\n",
       "    </tr>\n",
       "    <tr>\n",
       "      <th>15</th>\n",
       "      <td>ps4</td>\n",
       "      <td>2015</td>\n",
       "      <td>118.90</td>\n",
       "      <td>2015</td>\n",
       "    </tr>\n",
       "    <tr>\n",
       "      <th>16</th>\n",
       "      <td>ps4</td>\n",
       "      <td>2016</td>\n",
       "      <td>69.25</td>\n",
       "      <td>2016</td>\n",
       "    </tr>\n",
       "    <tr>\n",
       "      <th>17</th>\n",
       "      <td>psp</td>\n",
       "      <td>2013</td>\n",
       "      <td>3.14</td>\n",
       "      <td>2013</td>\n",
       "    </tr>\n",
       "    <tr>\n",
       "      <th>18</th>\n",
       "      <td>psp</td>\n",
       "      <td>2014</td>\n",
       "      <td>0.24</td>\n",
       "      <td>2014</td>\n",
       "    </tr>\n",
       "    <tr>\n",
       "      <th>19</th>\n",
       "      <td>psp</td>\n",
       "      <td>2015</td>\n",
       "      <td>0.12</td>\n",
       "      <td>2015</td>\n",
       "    </tr>\n",
       "    <tr>\n",
       "      <th>20</th>\n",
       "      <td>psv</td>\n",
       "      <td>2013</td>\n",
       "      <td>10.59</td>\n",
       "      <td>2013</td>\n",
       "    </tr>\n",
       "    <tr>\n",
       "      <th>21</th>\n",
       "      <td>psv</td>\n",
       "      <td>2014</td>\n",
       "      <td>11.90</td>\n",
       "      <td>2014</td>\n",
       "    </tr>\n",
       "    <tr>\n",
       "      <th>22</th>\n",
       "      <td>psv</td>\n",
       "      <td>2015</td>\n",
       "      <td>6.25</td>\n",
       "      <td>2015</td>\n",
       "    </tr>\n",
       "    <tr>\n",
       "      <th>23</th>\n",
       "      <td>psv</td>\n",
       "      <td>2016</td>\n",
       "      <td>4.25</td>\n",
       "      <td>2016</td>\n",
       "    </tr>\n",
       "    <tr>\n",
       "      <th>24</th>\n",
       "      <td>wii</td>\n",
       "      <td>2013</td>\n",
       "      <td>8.59</td>\n",
       "      <td>2013</td>\n",
       "    </tr>\n",
       "    <tr>\n",
       "      <th>25</th>\n",
       "      <td>wii</td>\n",
       "      <td>2014</td>\n",
       "      <td>3.75</td>\n",
       "      <td>2014</td>\n",
       "    </tr>\n",
       "    <tr>\n",
       "      <th>26</th>\n",
       "      <td>wii</td>\n",
       "      <td>2015</td>\n",
       "      <td>1.14</td>\n",
       "      <td>2015</td>\n",
       "    </tr>\n",
       "    <tr>\n",
       "      <th>27</th>\n",
       "      <td>wii</td>\n",
       "      <td>2016</td>\n",
       "      <td>0.18</td>\n",
       "      <td>2016</td>\n",
       "    </tr>\n",
       "    <tr>\n",
       "      <th>28</th>\n",
       "      <td>wiiu</td>\n",
       "      <td>2013</td>\n",
       "      <td>21.65</td>\n",
       "      <td>2013</td>\n",
       "    </tr>\n",
       "    <tr>\n",
       "      <th>29</th>\n",
       "      <td>wiiu</td>\n",
       "      <td>2014</td>\n",
       "      <td>22.03</td>\n",
       "      <td>2014</td>\n",
       "    </tr>\n",
       "    <tr>\n",
       "      <th>30</th>\n",
       "      <td>wiiu</td>\n",
       "      <td>2015</td>\n",
       "      <td>16.35</td>\n",
       "      <td>2015</td>\n",
       "    </tr>\n",
       "    <tr>\n",
       "      <th>31</th>\n",
       "      <td>wiiu</td>\n",
       "      <td>2016</td>\n",
       "      <td>4.60</td>\n",
       "      <td>2016</td>\n",
       "    </tr>\n",
       "    <tr>\n",
       "      <th>32</th>\n",
       "      <td>x360</td>\n",
       "      <td>2013</td>\n",
       "      <td>88.58</td>\n",
       "      <td>2013</td>\n",
       "    </tr>\n",
       "    <tr>\n",
       "      <th>33</th>\n",
       "      <td>x360</td>\n",
       "      <td>2014</td>\n",
       "      <td>34.74</td>\n",
       "      <td>2014</td>\n",
       "    </tr>\n",
       "    <tr>\n",
       "      <th>34</th>\n",
       "      <td>x360</td>\n",
       "      <td>2015</td>\n",
       "      <td>11.96</td>\n",
       "      <td>2015</td>\n",
       "    </tr>\n",
       "    <tr>\n",
       "      <th>35</th>\n",
       "      <td>x360</td>\n",
       "      <td>2016</td>\n",
       "      <td>1.52</td>\n",
       "      <td>2016</td>\n",
       "    </tr>\n",
       "    <tr>\n",
       "      <th>36</th>\n",
       "      <td>xone</td>\n",
       "      <td>2013</td>\n",
       "      <td>18.96</td>\n",
       "      <td>2013</td>\n",
       "    </tr>\n",
       "    <tr>\n",
       "      <th>37</th>\n",
       "      <td>xone</td>\n",
       "      <td>2014</td>\n",
       "      <td>54.07</td>\n",
       "      <td>2014</td>\n",
       "    </tr>\n",
       "    <tr>\n",
       "      <th>38</th>\n",
       "      <td>xone</td>\n",
       "      <td>2015</td>\n",
       "      <td>60.14</td>\n",
       "      <td>2015</td>\n",
       "    </tr>\n",
       "    <tr>\n",
       "      <th>39</th>\n",
       "      <td>xone</td>\n",
       "      <td>2016</td>\n",
       "      <td>26.15</td>\n",
       "      <td>2016</td>\n",
       "    </tr>\n",
       "  </tbody>\n",
       "</table>\n",
       "</div>"
      ],
      "text/plain": [
       "   platform  year_of_release  sum_sales  years\n",
       "0       3ds             2013      56.57   2013\n",
       "1       3ds             2014      43.76   2014\n",
       "2       3ds             2015      27.78   2015\n",
       "3       3ds             2016      15.14   2016\n",
       "4        ds             2013       1.54   2013\n",
       "5        pc             2013      12.38   2013\n",
       "6        pc             2014      13.28   2014\n",
       "7        pc             2015       8.52   2015\n",
       "8        pc             2016       5.25   2016\n",
       "9       ps3             2013     113.25   2013\n",
       "10      ps3             2014      47.76   2014\n",
       "11      ps3             2015      16.82   2015\n",
       "12      ps3             2016       3.60   2016\n",
       "13      ps4             2013      25.99   2013\n",
       "14      ps4             2014     100.00   2014\n",
       "15      ps4             2015     118.90   2015\n",
       "16      ps4             2016      69.25   2016\n",
       "17      psp             2013       3.14   2013\n",
       "18      psp             2014       0.24   2014\n",
       "19      psp             2015       0.12   2015\n",
       "20      psv             2013      10.59   2013\n",
       "21      psv             2014      11.90   2014\n",
       "22      psv             2015       6.25   2015\n",
       "23      psv             2016       4.25   2016\n",
       "24      wii             2013       8.59   2013\n",
       "25      wii             2014       3.75   2014\n",
       "26      wii             2015       1.14   2015\n",
       "27      wii             2016       0.18   2016\n",
       "28     wiiu             2013      21.65   2013\n",
       "29     wiiu             2014      22.03   2014\n",
       "30     wiiu             2015      16.35   2015\n",
       "31     wiiu             2016       4.60   2016\n",
       "32     x360             2013      88.58   2013\n",
       "33     x360             2014      34.74   2014\n",
       "34     x360             2015      11.96   2015\n",
       "35     x360             2016       1.52   2016\n",
       "36     xone             2013      18.96   2013\n",
       "37     xone             2014      54.07   2014\n",
       "38     xone             2015      60.14   2015\n",
       "39     xone             2016      26.15   2016"
      ]
     },
     "execution_count": 28,
     "metadata": {},
     "output_type": "execute_result"
    }
   ],
   "source": [
    "df_platform_actual"
   ]
  },
  {
   "cell_type": "code",
   "execution_count": 29,
   "metadata": {},
   "outputs": [
    {
     "data": {
      "image/png": "[encoded data removed]",
      "text/plain": [
       "<Figure size 720x360 with 1 Axes>"
      ]
     },
     "metadata": {
      "needs_background": "light"
     },
     "output_type": "display_data"
    }
   ],
   "source": [
    "(df_platform_actual\n",
    " .pivot_table(index=['years'], columns='platform', values='sum_sales', aggfunc='sum')\n",
    " .plot(title='Sum sales in actual period', figsize=(10, 5))\n",
    " )\n",
    "plt.show()"
   ]
  },
  {
   "cell_type": "markdown",
   "metadata": {},
   "source": [
    "По графику 'Sum sales in actual period' видно, что только две платформы имеют положите тренды - это xone и ps4. Все остальные имеют отрицательные тренды.\n",
    "\n",
    "По графику 'Sum sales in actual period' можно сделать вывод, что продажам лидируют следующие 5 платформ: ps4, xone, ps3, x360, 3ds.\n",
    "\n",
    "Потенциально прибыльные платформы - эплатформы имеющие положительный тренд (xone и ps4). Но также к потенциально прибыльном можно отнести PC (хоть и наблюдается небольшая отрицательная корреляция), но продажи по ним более стабильны (отсутствуют резкие отклонения)."
   ]
  },
  {
   "cell_type": "code",
   "execution_count": 30,
   "metadata": {},
   "outputs": [
    {
     "data": {
      "image/png": "[encoded data removed]",
      "text/plain": [
       "<Figure size 432x288 with 1 Axes>"
      ]
     },
     "metadata": {
      "needs_background": "light"
     },
     "output_type": "display_data"
    }
   ],
   "source": [
    "df_platform_actual_res = df_platform.reset_index()\n",
    "df_platform_global = df_platform_actual_res.pivot_table(index='platform', values='sum_sales', aggfunc='sum')\n",
    "df_platform_global.boxplot()\n",
    "plt.show()"
   ]
  },
  {
   "cell_type": "markdown",
   "metadata": {},
   "source": [
    "По диаграмме размаха можно сделать вывод, что медианное значение продаж по всем платформам равно 200. 50% всех суммарных продаж находятся в пределах 30-280. Минимальный размер продаж близок к нулю, а максимальный к 300. Шесть значение больше 300 - статистические выбросы.  "
   ]
  },
  {
   "cell_type": "code",
   "execution_count": 31,
   "metadata": {},
   "outputs": [],
   "source": [
    "df=df.query('year >= 2013')"
   ]
  },
  {
   "cell_type": "code",
   "execution_count": 32,
   "metadata": {},
   "outputs": [
    {
     "data": {
      "text/html": [
       "<div>\n",
       "<style scoped>\n",
       "    .dataframe tbody tr th:only-of-type {\n",
       "        vertical-align: middle;\n",
       "    }\n",
       "\n",
       "    .dataframe tbody tr th {\n",
       "        vertical-align: top;\n",
       "    }\n",
       "\n",
       "    .dataframe thead th {\n",
       "        text-align: right;\n",
       "    }\n",
       "</style>\n",
       "<table border=\"1\" class=\"dataframe\">\n",
       "  <thead>\n",
       "    <tr style=\"text-align: right;\">\n",
       "      <th></th>\n",
       "      <th>name</th>\n",
       "      <th>platform</th>\n",
       "      <th>year_of_release</th>\n",
       "      <th>genre</th>\n",
       "      <th>na_sales</th>\n",
       "      <th>eu_sales</th>\n",
       "      <th>jp_sales</th>\n",
       "      <th>other_sales</th>\n",
       "      <th>critic_score</th>\n",
       "      <th>user_score</th>\n",
       "      <th>rating</th>\n",
       "      <th>year</th>\n",
       "      <th>sum_sales</th>\n",
       "    </tr>\n",
       "  </thead>\n",
       "  <tbody>\n",
       "    <tr>\n",
       "      <th>16</th>\n",
       "      <td>grand theft auto v</td>\n",
       "      <td>ps3</td>\n",
       "      <td>2013</td>\n",
       "      <td>action</td>\n",
       "      <td>7.02</td>\n",
       "      <td>9.09</td>\n",
       "      <td>0.98</td>\n",
       "      <td>3.96</td>\n",
       "      <td>97.0</td>\n",
       "      <td>8.2</td>\n",
       "      <td>M</td>\n",
       "      <td>2013.0</td>\n",
       "      <td>21.05</td>\n",
       "    </tr>\n",
       "    <tr>\n",
       "      <th>23</th>\n",
       "      <td>grand theft auto v</td>\n",
       "      <td>x360</td>\n",
       "      <td>2013</td>\n",
       "      <td>action</td>\n",
       "      <td>9.66</td>\n",
       "      <td>5.14</td>\n",
       "      <td>0.06</td>\n",
       "      <td>1.41</td>\n",
       "      <td>97.0</td>\n",
       "      <td>8.1</td>\n",
       "      <td>M</td>\n",
       "      <td>2013.0</td>\n",
       "      <td>16.27</td>\n",
       "    </tr>\n",
       "    <tr>\n",
       "      <th>31</th>\n",
       "      <td>call of duty: black ops 3</td>\n",
       "      <td>ps4</td>\n",
       "      <td>2015</td>\n",
       "      <td>shooter</td>\n",
       "      <td>6.03</td>\n",
       "      <td>5.86</td>\n",
       "      <td>0.36</td>\n",
       "      <td>2.38</td>\n",
       "      <td>NaN</td>\n",
       "      <td>NaN</td>\n",
       "      <td>NaN</td>\n",
       "      <td>2015.0</td>\n",
       "      <td>14.63</td>\n",
       "    </tr>\n",
       "    <tr>\n",
       "      <th>33</th>\n",
       "      <td>pokemon x/pokemon y</td>\n",
       "      <td>3ds</td>\n",
       "      <td>2013</td>\n",
       "      <td>role-playing</td>\n",
       "      <td>5.28</td>\n",
       "      <td>4.19</td>\n",
       "      <td>4.35</td>\n",
       "      <td>0.78</td>\n",
       "      <td>NaN</td>\n",
       "      <td>NaN</td>\n",
       "      <td>NaN</td>\n",
       "      <td>2013.0</td>\n",
       "      <td>14.60</td>\n",
       "    </tr>\n",
       "    <tr>\n",
       "      <th>42</th>\n",
       "      <td>grand theft auto v</td>\n",
       "      <td>ps4</td>\n",
       "      <td>2014</td>\n",
       "      <td>action</td>\n",
       "      <td>3.96</td>\n",
       "      <td>6.31</td>\n",
       "      <td>0.38</td>\n",
       "      <td>1.97</td>\n",
       "      <td>97.0</td>\n",
       "      <td>8.3</td>\n",
       "      <td>M</td>\n",
       "      <td>2014.0</td>\n",
       "      <td>12.62</td>\n",
       "    </tr>\n",
       "  </tbody>\n",
       "</table>\n",
       "</div>"
      ],
      "text/plain": [
       "                         name platform  year_of_release         genre  \\\n",
       "16         grand theft auto v      ps3             2013        action   \n",
       "23         grand theft auto v     x360             2013        action   \n",
       "31  call of duty: black ops 3      ps4             2015       shooter   \n",
       "33        pokemon x/pokemon y      3ds             2013  role-playing   \n",
       "42         grand theft auto v      ps4             2014        action   \n",
       "\n",
       "    na_sales  eu_sales  jp_sales  other_sales  critic_score  user_score  \\\n",
       "16      7.02      9.09      0.98         3.96          97.0         8.2   \n",
       "23      9.66      5.14      0.06         1.41          97.0         8.1   \n",
       "31      6.03      5.86      0.36         2.38           NaN         NaN   \n",
       "33      5.28      4.19      4.35         0.78           NaN         NaN   \n",
       "42      3.96      6.31      0.38         1.97          97.0         8.3   \n",
       "\n",
       "   rating    year  sum_sales  \n",
       "16      M  2013.0      21.05  \n",
       "23      M  2013.0      16.27  \n",
       "31    NaN  2015.0      14.63  \n",
       "33    NaN  2013.0      14.60  \n",
       "42      M  2014.0      12.62  "
      ]
     },
     "execution_count": 32,
     "metadata": {},
     "output_type": "execute_result"
    }
   ],
   "source": [
    "df.head()"
   ]
  },
  {
   "cell_type": "code",
   "execution_count": 33,
   "metadata": {},
   "outputs": [
    {
     "name": "stdout",
     "output_type": "stream",
     "text": [
      "<class 'pandas.core.frame.DataFrame'>\n",
      "Int64Index: 2233 entries, 16 to 16714\n",
      "Data columns (total 13 columns):\n",
      " #   Column           Non-Null Count  Dtype  \n",
      "---  ------           --------------  -----  \n",
      " 0   name             2233 non-null   object \n",
      " 1   platform         2233 non-null   object \n",
      " 2   year_of_release  2233 non-null   Int64  \n",
      " 3   genre            2233 non-null   object \n",
      " 4   na_sales         2233 non-null   float64\n",
      " 5   eu_sales         2233 non-null   float64\n",
      " 6   jp_sales         2233 non-null   float64\n",
      " 7   other_sales      2233 non-null   float64\n",
      " 8   critic_score     991 non-null    float64\n",
      " 9   user_score       1192 non-null   float64\n",
      " 10  rating           1256 non-null   object \n",
      " 11  year             2233 non-null   float64\n",
      " 12  sum_sales        2233 non-null   float64\n",
      "dtypes: Int64(1), float64(8), object(4)\n",
      "memory usage: 246.4+ KB\n"
     ]
    }
   ],
   "source": [
    "df.info()"
   ]
  },
  {
   "cell_type": "code",
   "execution_count": 34,
   "metadata": {
    "scrolled": true
   },
   "outputs": [
    {
     "data": {
      "image/png": "[encoded data removed]",
      "text/plain": [
       "<Figure size 432x288 with 1 Axes>"
      ]
     },
     "metadata": {
      "needs_background": "light"
     },
     "output_type": "display_data"
    }
   ],
   "source": [
    "df.boxplot(by='platform', column='sum_sales')\n",
    "plt.ylim(0, 3)\n",
    "plt.show()"
   ]
  },
  {
   "cell_type": "markdown",
   "metadata": {},
   "source": [
    "Медианное значениепо продажам игр больше у крупных и новых консолей чем у остальных. Причём и размах у этих консоле тоже больше, что говорит о том, что высокодоходные игры выпускаются преимущественно на новые мощные консоли."
   ]
  },
  {
   "cell_type": "code",
   "execution_count": 35,
   "metadata": {},
   "outputs": [
    {
     "data": {
      "text/html": [
       "<div>\n",
       "<style scoped>\n",
       "    .dataframe tbody tr th:only-of-type {\n",
       "        vertical-align: middle;\n",
       "    }\n",
       "\n",
       "    .dataframe tbody tr th {\n",
       "        vertical-align: top;\n",
       "    }\n",
       "\n",
       "    .dataframe thead th {\n",
       "        text-align: right;\n",
       "    }\n",
       "</style>\n",
       "<table border=\"1\" class=\"dataframe\">\n",
       "  <thead>\n",
       "    <tr style=\"text-align: right;\">\n",
       "      <th></th>\n",
       "      <th>name</th>\n",
       "      <th>platform</th>\n",
       "      <th>year_of_release</th>\n",
       "      <th>genre</th>\n",
       "      <th>na_sales</th>\n",
       "      <th>eu_sales</th>\n",
       "      <th>jp_sales</th>\n",
       "      <th>other_sales</th>\n",
       "      <th>critic_score</th>\n",
       "      <th>user_score</th>\n",
       "      <th>rating</th>\n",
       "      <th>year</th>\n",
       "      <th>sum_sales</th>\n",
       "    </tr>\n",
       "  </thead>\n",
       "  <tbody>\n",
       "    <tr>\n",
       "      <th>16</th>\n",
       "      <td>grand theft auto v</td>\n",
       "      <td>ps3</td>\n",
       "      <td>2013</td>\n",
       "      <td>action</td>\n",
       "      <td>7.02</td>\n",
       "      <td>9.09</td>\n",
       "      <td>0.98</td>\n",
       "      <td>3.96</td>\n",
       "      <td>97.0</td>\n",
       "      <td>8.2</td>\n",
       "      <td>M</td>\n",
       "      <td>2013.0</td>\n",
       "      <td>21.05</td>\n",
       "    </tr>\n",
       "    <tr>\n",
       "      <th>23</th>\n",
       "      <td>grand theft auto v</td>\n",
       "      <td>x360</td>\n",
       "      <td>2013</td>\n",
       "      <td>action</td>\n",
       "      <td>9.66</td>\n",
       "      <td>5.14</td>\n",
       "      <td>0.06</td>\n",
       "      <td>1.41</td>\n",
       "      <td>97.0</td>\n",
       "      <td>8.1</td>\n",
       "      <td>M</td>\n",
       "      <td>2013.0</td>\n",
       "      <td>16.27</td>\n",
       "    </tr>\n",
       "    <tr>\n",
       "      <th>31</th>\n",
       "      <td>call of duty: black ops 3</td>\n",
       "      <td>ps4</td>\n",
       "      <td>2015</td>\n",
       "      <td>shooter</td>\n",
       "      <td>6.03</td>\n",
       "      <td>5.86</td>\n",
       "      <td>0.36</td>\n",
       "      <td>2.38</td>\n",
       "      <td>NaN</td>\n",
       "      <td>NaN</td>\n",
       "      <td>NaN</td>\n",
       "      <td>2015.0</td>\n",
       "      <td>14.63</td>\n",
       "    </tr>\n",
       "    <tr>\n",
       "      <th>33</th>\n",
       "      <td>pokemon x/pokemon y</td>\n",
       "      <td>3ds</td>\n",
       "      <td>2013</td>\n",
       "      <td>role-playing</td>\n",
       "      <td>5.28</td>\n",
       "      <td>4.19</td>\n",
       "      <td>4.35</td>\n",
       "      <td>0.78</td>\n",
       "      <td>NaN</td>\n",
       "      <td>NaN</td>\n",
       "      <td>NaN</td>\n",
       "      <td>2013.0</td>\n",
       "      <td>14.60</td>\n",
       "    </tr>\n",
       "    <tr>\n",
       "      <th>42</th>\n",
       "      <td>grand theft auto v</td>\n",
       "      <td>ps4</td>\n",
       "      <td>2014</td>\n",
       "      <td>action</td>\n",
       "      <td>3.96</td>\n",
       "      <td>6.31</td>\n",
       "      <td>0.38</td>\n",
       "      <td>1.97</td>\n",
       "      <td>97.0</td>\n",
       "      <td>8.3</td>\n",
       "      <td>M</td>\n",
       "      <td>2014.0</td>\n",
       "      <td>12.62</td>\n",
       "    </tr>\n",
       "  </tbody>\n",
       "</table>\n",
       "</div>"
      ],
      "text/plain": [
       "                         name platform  year_of_release         genre  \\\n",
       "16         grand theft auto v      ps3             2013        action   \n",
       "23         grand theft auto v     x360             2013        action   \n",
       "31  call of duty: black ops 3      ps4             2015       shooter   \n",
       "33        pokemon x/pokemon y      3ds             2013  role-playing   \n",
       "42         grand theft auto v      ps4             2014        action   \n",
       "\n",
       "    na_sales  eu_sales  jp_sales  other_sales  critic_score  user_score  \\\n",
       "16      7.02      9.09      0.98         3.96          97.0         8.2   \n",
       "23      9.66      5.14      0.06         1.41          97.0         8.1   \n",
       "31      6.03      5.86      0.36         2.38           NaN         NaN   \n",
       "33      5.28      4.19      4.35         0.78           NaN         NaN   \n",
       "42      3.96      6.31      0.38         1.97          97.0         8.3   \n",
       "\n",
       "   rating    year  sum_sales  \n",
       "16      M  2013.0      21.05  \n",
       "23      M  2013.0      16.27  \n",
       "31    NaN  2015.0      14.63  \n",
       "33    NaN  2013.0      14.60  \n",
       "42      M  2014.0      12.62  "
      ]
     },
     "execution_count": 35,
     "metadata": {},
     "output_type": "execute_result"
    }
   ],
   "source": [
    "df.head()"
   ]
  },
  {
   "cell_type": "code",
   "execution_count": 36,
   "metadata": {},
   "outputs": [],
   "source": [
    "df = df.drop('year', 1)"
   ]
  },
  {
   "cell_type": "code",
   "execution_count": 37,
   "metadata": {
    "scrolled": false
   },
   "outputs": [
    {
     "data": {
      "image/png": "[encoded data removed]",
      "text/plain": [
       "<Figure size 432x288 with 1 Axes>"
      ]
     },
     "metadata": {
      "needs_background": "light"
     },
     "output_type": "display_data"
    }
   ],
   "source": [
    "df_ps4 = df.query('platform == \"ps4\"')\n",
    "df_ps4.plot(kind='scatter', y='sum_sales', x='user_score', title='Scattering diagram')\n",
    "plt.show()"
   ]
  },
  {
   "cell_type": "code",
   "execution_count": 38,
   "metadata": {},
   "outputs": [
    {
     "data": {
      "text/plain": [
       "-0.031957110204556424"
      ]
     },
     "execution_count": 38,
     "metadata": {},
     "output_type": "execute_result"
    }
   ],
   "source": [
    "df_ps4['sum_sales'].corr(df_ps4['user_score'])"
   ]
  },
  {
   "cell_type": "markdown",
   "metadata": {},
   "source": [
    "Корреляция между оценками пользователей и продажами игры на платформе ps4 отсутствует. Встречаются случаи, когда когда высокие оценки совпадают с высокими продажами, что может быть связано с хорошо сформированным коммьюнити определённой игры. Это объясняет ещё и то, почему оценки пользователей могут быть невысокими, но продажи высокими."
   ]
  },
  {
   "cell_type": "code",
   "execution_count": 39,
   "metadata": {},
   "outputs": [
    {
     "data": {
      "image/png": "[encoded data removed]",
      "text/plain": [
       "<Figure size 432x288 with 1 Axes>"
      ]
     },
     "metadata": {
      "needs_background": "light"
     },
     "output_type": "display_data"
    }
   ],
   "source": [
    "df_ps4.plot(kind='scatter', y='sum_sales', x='critic_score', title='Relations between sales and critic score')\n",
    "plt.show()"
   ]
  },
  {
   "cell_type": "code",
   "execution_count": 40,
   "metadata": {},
   "outputs": [
    {
     "data": {
      "text/plain": [
       "0.406567902061781"
      ]
     },
     "execution_count": 40,
     "metadata": {},
     "output_type": "execute_result"
    }
   ],
   "source": [
    "df_ps4['sum_sales'].corr(df_ps4['critic_score'])"
   ]
  },
  {
   "cell_type": "code",
   "execution_count": 41,
   "metadata": {},
   "outputs": [
    {
     "data": {
      "text/plain": [
       "0.5576539782764632"
      ]
     },
     "execution_count": 41,
     "metadata": {},
     "output_type": "execute_result"
    }
   ],
   "source": [
    "df_ps4['critic_score'].corr(df_ps4['user_score'])"
   ]
  },
  {
   "cell_type": "markdown",
   "metadata": {},
   "source": [
    "Существует прямая умеренная корреляция между проадажами и рейтингом критиков. Это связано с тем, что многие игроки в процессе решения выбора игры ориентируются на оценки критиков. Связь не является сильной, так как стоит ещё учитывать фактор рекламы, который сподвигает геймеров покупать игры."
   ]
  },
  {
   "cell_type": "code",
   "execution_count": 42,
   "metadata": {},
   "outputs": [
    {
     "data": {
      "text/plain": [
       "name                  0\n",
       "platform              0\n",
       "year_of_release       0\n",
       "genre                 0\n",
       "na_sales              0\n",
       "eu_sales              0\n",
       "jp_sales              0\n",
       "other_sales           0\n",
       "critic_score       1242\n",
       "user_score         1041\n",
       "rating              977\n",
       "sum_sales             0\n",
       "dtype: int64"
      ]
     },
     "execution_count": 42,
     "metadata": {},
     "output_type": "execute_result"
    }
   ],
   "source": [
    "df.isna().sum()"
   ]
  },
  {
   "cell_type": "code",
   "execution_count": 43,
   "metadata": {
    "scrolled": false
   },
   "outputs": [
    {
     "data": {
      "text/html": [
       "<div>\n",
       "<style scoped>\n",
       "    .dataframe tbody tr th:only-of-type {\n",
       "        vertical-align: middle;\n",
       "    }\n",
       "\n",
       "    .dataframe tbody tr th {\n",
       "        vertical-align: top;\n",
       "    }\n",
       "\n",
       "    .dataframe thead th {\n",
       "        text-align: right;\n",
       "    }\n",
       "</style>\n",
       "<table border=\"1\" class=\"dataframe\">\n",
       "  <thead>\n",
       "    <tr style=\"text-align: right;\">\n",
       "      <th></th>\n",
       "      <th>platform</th>\n",
       "      <th>user_score</th>\n",
       "      <th>critic_score</th>\n",
       "    </tr>\n",
       "  </thead>\n",
       "  <tbody>\n",
       "    <tr>\n",
       "      <th>0</th>\n",
       "      <td>2600</td>\n",
       "      <td>NaN</td>\n",
       "      <td>NaN</td>\n",
       "    </tr>\n",
       "    <tr>\n",
       "      <th>1</th>\n",
       "      <td>3do</td>\n",
       "      <td>NaN</td>\n",
       "      <td>NaN</td>\n",
       "    </tr>\n",
       "    <tr>\n",
       "      <th>2</th>\n",
       "      <td>3ds</td>\n",
       "      <td>0.272990</td>\n",
       "      <td>0.339235</td>\n",
       "    </tr>\n",
       "    <tr>\n",
       "      <th>3</th>\n",
       "      <td>dc</td>\n",
       "      <td>NaN</td>\n",
       "      <td>NaN</td>\n",
       "    </tr>\n",
       "    <tr>\n",
       "      <th>4</th>\n",
       "      <td>ds</td>\n",
       "      <td>NaN</td>\n",
       "      <td>NaN</td>\n",
       "    </tr>\n",
       "    <tr>\n",
       "      <th>5</th>\n",
       "      <td>gb</td>\n",
       "      <td>NaN</td>\n",
       "      <td>NaN</td>\n",
       "    </tr>\n",
       "    <tr>\n",
       "      <th>6</th>\n",
       "      <td>gba</td>\n",
       "      <td>NaN</td>\n",
       "      <td>NaN</td>\n",
       "    </tr>\n",
       "    <tr>\n",
       "      <th>7</th>\n",
       "      <td>gc</td>\n",
       "      <td>NaN</td>\n",
       "      <td>NaN</td>\n",
       "    </tr>\n",
       "    <tr>\n",
       "      <th>8</th>\n",
       "      <td>gen</td>\n",
       "      <td>NaN</td>\n",
       "      <td>NaN</td>\n",
       "    </tr>\n",
       "    <tr>\n",
       "      <th>9</th>\n",
       "      <td>gg</td>\n",
       "      <td>NaN</td>\n",
       "      <td>NaN</td>\n",
       "    </tr>\n",
       "    <tr>\n",
       "      <th>10</th>\n",
       "      <td>n64</td>\n",
       "      <td>NaN</td>\n",
       "      <td>NaN</td>\n",
       "    </tr>\n",
       "    <tr>\n",
       "      <th>11</th>\n",
       "      <td>nes</td>\n",
       "      <td>NaN</td>\n",
       "      <td>NaN</td>\n",
       "    </tr>\n",
       "    <tr>\n",
       "      <th>12</th>\n",
       "      <td>ng</td>\n",
       "      <td>NaN</td>\n",
       "      <td>NaN</td>\n",
       "    </tr>\n",
       "    <tr>\n",
       "      <th>13</th>\n",
       "      <td>pc</td>\n",
       "      <td>-0.109235</td>\n",
       "      <td>0.194124</td>\n",
       "    </tr>\n",
       "    <tr>\n",
       "      <th>14</th>\n",
       "      <td>pcfx</td>\n",
       "      <td>NaN</td>\n",
       "      <td>NaN</td>\n",
       "    </tr>\n",
       "    <tr>\n",
       "      <th>15</th>\n",
       "      <td>ps</td>\n",
       "      <td>NaN</td>\n",
       "      <td>NaN</td>\n",
       "    </tr>\n",
       "    <tr>\n",
       "      <th>16</th>\n",
       "      <td>ps2</td>\n",
       "      <td>NaN</td>\n",
       "      <td>NaN</td>\n",
       "    </tr>\n",
       "    <tr>\n",
       "      <th>17</th>\n",
       "      <td>ps3</td>\n",
       "      <td>0.022691</td>\n",
       "      <td>0.333807</td>\n",
       "    </tr>\n",
       "    <tr>\n",
       "      <th>18</th>\n",
       "      <td>ps4</td>\n",
       "      <td>-0.033625</td>\n",
       "      <td>0.405895</td>\n",
       "    </tr>\n",
       "    <tr>\n",
       "      <th>19</th>\n",
       "      <td>psp</td>\n",
       "      <td>NaN</td>\n",
       "      <td>NaN</td>\n",
       "    </tr>\n",
       "    <tr>\n",
       "      <th>20</th>\n",
       "      <td>psv</td>\n",
       "      <td>0.265478</td>\n",
       "      <td>0.254100</td>\n",
       "    </tr>\n",
       "    <tr>\n",
       "      <th>21</th>\n",
       "      <td>sat</td>\n",
       "      <td>NaN</td>\n",
       "      <td>NaN</td>\n",
       "    </tr>\n",
       "    <tr>\n",
       "      <th>22</th>\n",
       "      <td>scd</td>\n",
       "      <td>NaN</td>\n",
       "      <td>NaN</td>\n",
       "    </tr>\n",
       "    <tr>\n",
       "      <th>23</th>\n",
       "      <td>snes</td>\n",
       "      <td>NaN</td>\n",
       "      <td>NaN</td>\n",
       "    </tr>\n",
       "    <tr>\n",
       "      <th>24</th>\n",
       "      <td>tg16</td>\n",
       "      <td>NaN</td>\n",
       "      <td>NaN</td>\n",
       "    </tr>\n",
       "    <tr>\n",
       "      <th>25</th>\n",
       "      <td>wii</td>\n",
       "      <td>NaN</td>\n",
       "      <td>NaN</td>\n",
       "    </tr>\n",
       "    <tr>\n",
       "      <th>26</th>\n",
       "      <td>wiiu</td>\n",
       "      <td>0.408692</td>\n",
       "      <td>0.379504</td>\n",
       "    </tr>\n",
       "    <tr>\n",
       "      <th>27</th>\n",
       "      <td>ws</td>\n",
       "      <td>NaN</td>\n",
       "      <td>NaN</td>\n",
       "    </tr>\n",
       "    <tr>\n",
       "      <th>28</th>\n",
       "      <td>x360</td>\n",
       "      <td>-0.006238</td>\n",
       "      <td>0.350345</td>\n",
       "    </tr>\n",
       "    <tr>\n",
       "      <th>29</th>\n",
       "      <td>xb</td>\n",
       "      <td>NaN</td>\n",
       "      <td>NaN</td>\n",
       "    </tr>\n",
       "    <tr>\n",
       "      <th>30</th>\n",
       "      <td>xone</td>\n",
       "      <td>-0.094003</td>\n",
       "      <td>0.410422</td>\n",
       "    </tr>\n",
       "  </tbody>\n",
       "</table>\n",
       "</div>"
      ],
      "text/plain": [
       "   platform  user_score  critic_score\n",
       "0      2600         NaN           NaN\n",
       "1       3do         NaN           NaN\n",
       "2       3ds    0.272990      0.339235\n",
       "3        dc         NaN           NaN\n",
       "4        ds         NaN           NaN\n",
       "5        gb         NaN           NaN\n",
       "6       gba         NaN           NaN\n",
       "7        gc         NaN           NaN\n",
       "8       gen         NaN           NaN\n",
       "9        gg         NaN           NaN\n",
       "10      n64         NaN           NaN\n",
       "11      nes         NaN           NaN\n",
       "12       ng         NaN           NaN\n",
       "13       pc   -0.109235      0.194124\n",
       "14     pcfx         NaN           NaN\n",
       "15       ps         NaN           NaN\n",
       "16      ps2         NaN           NaN\n",
       "17      ps3    0.022691      0.333807\n",
       "18      ps4   -0.033625      0.405895\n",
       "19      psp         NaN           NaN\n",
       "20      psv    0.265478      0.254100\n",
       "21      sat         NaN           NaN\n",
       "22      scd         NaN           NaN\n",
       "23     snes         NaN           NaN\n",
       "24     tg16         NaN           NaN\n",
       "25      wii         NaN           NaN\n",
       "26     wiiu    0.408692      0.379504\n",
       "27       ws         NaN           NaN\n",
       "28     x360   -0.006238      0.350345\n",
       "29       xb         NaN           NaN\n",
       "30     xone   -0.094003      0.410422"
      ]
     },
     "metadata": {},
     "output_type": "display_data"
    }
   ],
   "source": [
    "plt_list = []\n",
    "for i in all_pl:\n",
    "    df_temp = df[(df['platform'] == i)&(df['user_score'].notna())&(df['critic_score'].notna())]\n",
    "    plt_list.append([i, df_temp['sum_sales'].corr(df_temp['user_score']), df_temp['sum_sales'].corr(df_temp['critic_score'])])\n",
    "df_temp_fin = pd.DataFrame(columns=['platform', 'user_score', 'critic_score'], data=plt_list)\n",
    "display(df_temp_fin)"
   ]
  },
  {
   "cell_type": "code",
   "execution_count": 44,
   "metadata": {},
   "outputs": [
    {
     "data": {
      "text/html": [
       "<div>\n",
       "<style scoped>\n",
       "    .dataframe tbody tr th:only-of-type {\n",
       "        vertical-align: middle;\n",
       "    }\n",
       "\n",
       "    .dataframe tbody tr th {\n",
       "        vertical-align: top;\n",
       "    }\n",
       "\n",
       "    .dataframe thead th {\n",
       "        text-align: right;\n",
       "    }\n",
       "</style>\n",
       "<table border=\"1\" class=\"dataframe\">\n",
       "  <thead>\n",
       "    <tr style=\"text-align: right;\">\n",
       "      <th></th>\n",
       "      <th>name</th>\n",
       "    </tr>\n",
       "    <tr>\n",
       "      <th>platform</th>\n",
       "      <th></th>\n",
       "    </tr>\n",
       "  </thead>\n",
       "  <tbody>\n",
       "    <tr>\n",
       "      <th>3ds</th>\n",
       "      <td>80</td>\n",
       "    </tr>\n",
       "    <tr>\n",
       "      <th>ds</th>\n",
       "      <td>1</td>\n",
       "    </tr>\n",
       "    <tr>\n",
       "      <th>pc</th>\n",
       "      <td>155</td>\n",
       "    </tr>\n",
       "    <tr>\n",
       "      <th>ps3</th>\n",
       "      <td>186</td>\n",
       "    </tr>\n",
       "    <tr>\n",
       "      <th>ps4</th>\n",
       "      <td>257</td>\n",
       "    </tr>\n",
       "    <tr>\n",
       "      <th>psp</th>\n",
       "      <td>2</td>\n",
       "    </tr>\n",
       "    <tr>\n",
       "      <th>psv</th>\n",
       "      <td>99</td>\n",
       "    </tr>\n",
       "    <tr>\n",
       "      <th>wii</th>\n",
       "      <td>7</td>\n",
       "    </tr>\n",
       "    <tr>\n",
       "      <th>wiiu</th>\n",
       "      <td>80</td>\n",
       "    </tr>\n",
       "    <tr>\n",
       "      <th>x360</th>\n",
       "      <td>143</td>\n",
       "    </tr>\n",
       "    <tr>\n",
       "      <th>xone</th>\n",
       "      <td>182</td>\n",
       "    </tr>\n",
       "  </tbody>\n",
       "</table>\n",
       "</div>"
      ],
      "text/plain": [
       "          name\n",
       "platform      \n",
       "3ds         80\n",
       "ds           1\n",
       "pc         155\n",
       "ps3        186\n",
       "ps4        257\n",
       "psp          2\n",
       "psv         99\n",
       "wii          7\n",
       "wiiu        80\n",
       "x360       143\n",
       "xone       182"
      ]
     },
     "execution_count": 44,
     "metadata": {},
     "output_type": "execute_result"
    }
   ],
   "source": [
    "df[df['user_score'].notna()].pivot_table(index='platform', values='name', aggfunc='count')"
   ]
  },
  {
   "cell_type": "markdown",
   "metadata": {},
   "source": [
    "Единой картины между связью оценки пользователей и продажами нет. В основном превалирует ситуация с слобой прямой корреляцией (исключение dc - слабая отрицательная корреляция). Корреляция же между оценкой критиков и продажами носит либо прямой слабый, либо прямой умеренный характер."
   ]
  },
  {
   "cell_type": "code",
   "execution_count": 45,
   "metadata": {},
   "outputs": [
    {
     "data": {
      "image/png": "[encoded data removed]",
      "text/plain": [
       "<Figure size 432x288 with 1 Axes>"
      ]
     },
     "metadata": {
      "needs_background": "light"
     },
     "output_type": "display_data"
    },
    {
     "data": {
      "image/png": "[encoded data removed]",
      "text/plain": [
       "<Figure size 432x288 with 1 Axes>"
      ]
     },
     "metadata": {
      "needs_background": "light"
     },
     "output_type": "display_data"
    }
   ],
   "source": [
    "df_genre = df.pivot_table(index='genre', values='sum_sales', aggfunc=['sum', 'count'])\n",
    "df_genre.columns = ['sum_sales', 'count']\n",
    "df_genre.sort_values(by='sum_sales', ascending=True).plot(kind='bar', title='Genre sales', legend=True, y='sum_sales')\n",
    "df_genre.sort_values(by='count', ascending=True).plot(kind='bar', title='Genre count', legend=True, y='count')\n",
    "plt.show()"
   ]
  },
  {
   "cell_type": "markdown",
   "metadata": {},
   "source": [
    "Самыми продаваемыми жанрами являются боевики, спорт и шутеры. Наименее продаваемые жанры: стратегии, путешествия и головоломки. Больше всего выпускают игры жанра action. Поскольку количество игр сильно отличается посчитаем медианные продажи игр по жанрам."
   ]
  },
  {
   "cell_type": "code",
   "execution_count": 46,
   "metadata": {
    "scrolled": true
   },
   "outputs": [
    {
     "data": {
      "image/png": "[encoded data removed]",
      "text/plain": [
       "<Figure size 432x288 with 1 Axes>"
      ]
     },
     "metadata": {
      "needs_background": "light"
     },
     "output_type": "display_data"
    }
   ],
   "source": [
    "(df\n",
    " .pivot_table(index='genre', values='sum_sales', aggfunc='median')\n",
    " .sort_values(by='sum_sales')\n",
    " .plot(title='Median sales by genres', legend=True, kind='bar')\n",
    " )\n",
    "plt.show()"
   ]
  },
  {
   "cell_type": "markdown",
   "metadata": {},
   "source": [
    "Наиболее продаваемым жанром является шутер."
   ]
  },
  {
   "cell_type": "code",
   "execution_count": 47,
   "metadata": {},
   "outputs": [
    {
     "data": {
      "text/plain": [
       "ps4     144\n",
       "psv     125\n",
       "3ds     116\n",
       "ps3     114\n",
       "xone     85\n",
       "x360     62\n",
       "pc       50\n",
       "wiiu     48\n",
       "psp      12\n",
       "wii       8\n",
       "ds        2\n",
       "Name: platform, dtype: int64"
      ]
     },
     "execution_count": 47,
     "metadata": {},
     "output_type": "execute_result"
    }
   ],
   "source": [
    "df.query('genre == \"action\"')['platform'].value_counts()"
   ]
  },
  {
   "cell_type": "code",
   "execution_count": 48,
   "metadata": {},
   "outputs": [
    {
     "data": {
      "text/plain": [
       "ps4     41\n",
       "xone    38\n",
       "x360    34\n",
       "pc      32\n",
       "ps3     31\n",
       "wiiu     8\n",
       "psv      2\n",
       "3ds      1\n",
       "Name: platform, dtype: int64"
      ]
     },
     "execution_count": 48,
     "metadata": {},
     "output_type": "execute_result"
    }
   ],
   "source": [
    "df.query('genre == \"shooter\"')['platform'].value_counts()"
   ]
  },
  {
   "cell_type": "markdown",
   "metadata": {},
   "source": [
    "Самые продаваемые жанры игры выпускаются на самых продаваемых платформах."
   ]
  },
  {
   "cell_type": "markdown",
   "metadata": {},
   "source": [
    "### Выводы"
   ]
  },
  {
   "cell_type": "markdown",
   "metadata": {},
   "source": [
    "1. Исходя из построенного графика частоты релиза игр по годам можно сделать вывод, что сфера гейминга начала становится очень популярна начиная с 2000-ых годов.\n",
    "2. По графику суммарных продаж по платформам видно, что c 2004 по 2006 в год появлялось минимум по 1 платформе (в 2006 сразу две).\n",
    "3. В среднем новые платформы живут 11-12 лет (если рассматривать топ 10 платформ). Если рассматривать все платформы то в среднем платформы живут 7-8 лет.\n",
    "4. Акутальным периодом будет считаться 2013-2016 гг., с момента появления ps4.\n",
    "5. По графику 'Sum sales in actual period' видно, что только две платформы имеют положите тренды - это xone и ps4. Все остальные имеют отрицательные тренды.\n",
    "6. По графику 'Sum sales in actual period' можно сделать вывод, что продажам лидируют следующие 5 платформ: ps4, xone, ps3, x360, 3ds.\n",
    "7. Потенциально прибыльные платформы - эплатформы имеющие положительный тренд (xone и ps4). Но также к потенциально прибыльном можно отнести PC (хоть и наблюдается небольшая отрицательная корреляция), но продажи по ним более стабильны (отсутствуют резкие отклонения).\n",
    "8. Корреляция между оценками пользователей и продажами игры на платформе ps4 отсутствует. Встречаются случаи, когда когда высокие оценки совпадают с высокими продажами, что может быть связано с хорошо сформированным коммьюнити определённой игры. Это объясняет ещё и то, почему оценки пользователей могут быть невысокими, но продажи высокими.\n",
    "9. Существует прямая умеренная корреляция между проадажами и рейтингом критиков. Это связано с тем, что многие игроки в процессе решения выбора игры ориентируются на оценки критиков. Связь не является сильной, так как мнение критиков не всегда сходится с мнением игроков. Некоторые игроки больше склонны доверять мнению игроков.\n",
    "10. Единой картины между связью оценки пользователей и продажами нет. В основном превалирует ситуация с слобой прямой корреляцией (исключение dc - слабая отрицательная корреляция). Корреляция же между оценкой критиков и продажами носит либо прямой слабый, либо прямой умеренный характер.\n",
    "11. Самые продаваемые жанры игры выпускаются на самых продаваемых платформах.\n",
    "12. Медианное значениепо продажам игр больше у крупных и новых консолей чем у остальных. Причём и размах у этих консоле тоже больше, что говорит о том, что высокодоходные игры выпускаются преимущественно на новые мощные консоли.\n",
    "13. Наиболее продаваемым жанром является шутер."
   ]
  },
  {
   "cell_type": "markdown",
   "metadata": {},
   "source": [
    "## Составление портрета пользователя каждого региона"
   ]
  },
  {
   "cell_type": "code",
   "execution_count": 49,
   "metadata": {},
   "outputs": [
    {
     "data": {
      "text/html": [
       "<div>\n",
       "<style scoped>\n",
       "    .dataframe tbody tr th:only-of-type {\n",
       "        vertical-align: middle;\n",
       "    }\n",
       "\n",
       "    .dataframe tbody tr th {\n",
       "        vertical-align: top;\n",
       "    }\n",
       "\n",
       "    .dataframe thead th {\n",
       "        text-align: right;\n",
       "    }\n",
       "</style>\n",
       "<table border=\"1\" class=\"dataframe\">\n",
       "  <thead>\n",
       "    <tr style=\"text-align: right;\">\n",
       "      <th></th>\n",
       "      <th>na_sales</th>\n",
       "    </tr>\n",
       "    <tr>\n",
       "      <th>platform</th>\n",
       "      <th></th>\n",
       "    </tr>\n",
       "  </thead>\n",
       "  <tbody>\n",
       "    <tr>\n",
       "      <th>3ds</th>\n",
       "      <td>38.20</td>\n",
       "    </tr>\n",
       "    <tr>\n",
       "      <th>ds</th>\n",
       "      <td>0.57</td>\n",
       "    </tr>\n",
       "    <tr>\n",
       "      <th>pc</th>\n",
       "      <td>11.11</td>\n",
       "    </tr>\n",
       "    <tr>\n",
       "      <th>ps3</th>\n",
       "      <td>63.50</td>\n",
       "    </tr>\n",
       "    <tr>\n",
       "      <th>ps4</th>\n",
       "      <td>108.74</td>\n",
       "    </tr>\n",
       "    <tr>\n",
       "      <th>psp</th>\n",
       "      <td>0.00</td>\n",
       "    </tr>\n",
       "    <tr>\n",
       "      <th>psv</th>\n",
       "      <td>5.04</td>\n",
       "    </tr>\n",
       "    <tr>\n",
       "      <th>wii</th>\n",
       "      <td>6.56</td>\n",
       "    </tr>\n",
       "    <tr>\n",
       "      <th>wiiu</th>\n",
       "      <td>29.21</td>\n",
       "    </tr>\n",
       "    <tr>\n",
       "      <th>x360</th>\n",
       "      <td>81.66</td>\n",
       "    </tr>\n",
       "    <tr>\n",
       "      <th>xone</th>\n",
       "      <td>93.12</td>\n",
       "    </tr>\n",
       "  </tbody>\n",
       "</table>\n",
       "</div>"
      ],
      "text/plain": [
       "          na_sales\n",
       "platform          \n",
       "3ds          38.20\n",
       "ds            0.57\n",
       "pc           11.11\n",
       "ps3          63.50\n",
       "ps4         108.74\n",
       "psp           0.00\n",
       "psv           5.04\n",
       "wii           6.56\n",
       "wiiu         29.21\n",
       "x360         81.66\n",
       "xone         93.12"
      ]
     },
     "execution_count": 49,
     "metadata": {},
     "output_type": "execute_result"
    }
   ],
   "source": [
    "df_na = df.pivot_table(index='platform', values='na_sales', aggfunc='sum')\n",
    "df_eu = df.pivot_table(index='platform', values='eu_sales', aggfunc='sum')\n",
    "df_jp = df.pivot_table(index='platform', values='jp_sales', aggfunc='sum')\n",
    "df_na"
   ]
  },
  {
   "cell_type": "code",
   "execution_count": 50,
   "metadata": {},
   "outputs": [
    {
     "data": {
      "image/png": "[encoded data removed]",
      "text/plain": [
       "<Figure size 432x432 with 1 Axes>"
      ]
     },
     "metadata": {},
     "output_type": "display_data"
    }
   ],
   "source": [
    "df_na.plot(kind='pie', title='Sales shares in North America', y='na_sales', figsize=(6, 6))\n",
    "plt.show()"
   ]
  },
  {
   "cell_type": "markdown",
   "metadata": {},
   "source": [
    "Самые популярные платформы для игр в Северной Америке - это ps4, xone, x360. В Северной Америке основная конкуренция сосредоточена между двумя компаниями Playstation и Xbox. Они делят лидирующие позиции, так как Xbox американская компания и они лучше могут готовить рекламную компанию, так как хорошо знают своих клиентов. Playstation же лидирует, так как это самая популярная платформа в мире и в ней самая большая библиотека игр."
   ]
  },
  {
   "cell_type": "code",
   "execution_count": 51,
   "metadata": {},
   "outputs": [
    {
     "data": {
      "image/png": "[encoded data removed]",
      "text/plain": [
       "<Figure size 432x432 with 1 Axes>"
      ]
     },
     "metadata": {},
     "output_type": "display_data"
    }
   ],
   "source": [
    "df_eu.plot(kind='pie', y='eu_sales', title='Sales shares in Europe', figsize=(6, 6))\n",
    "plt.show()"
   ]
  },
  {
   "cell_type": "markdown",
   "metadata": {},
   "source": [
    "В Европе лидер очевиден, так как чуть больше трети рынка - это ps4. В Европе на первый план вырывается сам продукт с его характеристиками и играми."
   ]
  },
  {
   "cell_type": "code",
   "execution_count": 52,
   "metadata": {},
   "outputs": [
    {
     "data": {
      "image/png": "[encoded data removed]",
      "text/plain": [
       "<Figure size 432x432 with 1 Axes>"
      ]
     },
     "metadata": {},
     "output_type": "display_data"
    }
   ],
   "source": [
    "df_jp.plot(kind='pie', y='jp_sales', title='Sales shares in Japan', figsize=(6, 6))\n",
    "plt.show()"
   ]
  },
  {
   "cell_type": "markdown",
   "metadata": {},
   "source": [
    "В Японии в лидеры вырывается японская платформа 3ds (почти 50% рынка). Среди возможных причин: лучшее знание японского рынка и потребности населения Японии, более эффективная реклама на территории страны производителя."
   ]
  },
  {
   "cell_type": "code",
   "execution_count": 53,
   "metadata": {
    "scrolled": true
   },
   "outputs": [
    {
     "data": {
      "image/png": "[encoded data removed]",
      "text/plain": [
       "<Figure size 432x432 with 1 Axes>"
      ]
     },
     "metadata": {},
     "output_type": "display_data"
    }
   ],
   "source": [
    "(df_na\n",
    " .sort_values(by='na_sales', ascending=False)[:5]\n",
    " .plot(kind='pie', title='Sales shares in North America', y='na_sales', figsize=(6, 6))\n",
    " )\n",
    "plt.show()"
   ]
  },
  {
   "cell_type": "code",
   "execution_count": 54,
   "metadata": {
    "scrolled": true
   },
   "outputs": [
    {
     "data": {
      "text/html": [
       "<div>\n",
       "<style scoped>\n",
       "    .dataframe tbody tr th:only-of-type {\n",
       "        vertical-align: middle;\n",
       "    }\n",
       "\n",
       "    .dataframe tbody tr th {\n",
       "        vertical-align: top;\n",
       "    }\n",
       "\n",
       "    .dataframe thead th {\n",
       "        text-align: right;\n",
       "    }\n",
       "</style>\n",
       "<table border=\"1\" class=\"dataframe\">\n",
       "  <thead>\n",
       "    <tr style=\"text-align: right;\">\n",
       "      <th></th>\n",
       "      <th>na_sales</th>\n",
       "      <th>share</th>\n",
       "    </tr>\n",
       "    <tr>\n",
       "      <th>platform</th>\n",
       "      <th></th>\n",
       "      <th></th>\n",
       "    </tr>\n",
       "  </thead>\n",
       "  <tbody>\n",
       "    <tr>\n",
       "      <th>ps4</th>\n",
       "      <td>108.74</td>\n",
       "      <td>0.248429</td>\n",
       "    </tr>\n",
       "    <tr>\n",
       "      <th>xone</th>\n",
       "      <td>93.12</td>\n",
       "      <td>0.212744</td>\n",
       "    </tr>\n",
       "    <tr>\n",
       "      <th>x360</th>\n",
       "      <td>81.66</td>\n",
       "      <td>0.186562</td>\n",
       "    </tr>\n",
       "    <tr>\n",
       "      <th>ps3</th>\n",
       "      <td>63.50</td>\n",
       "      <td>0.145073</td>\n",
       "    </tr>\n",
       "    <tr>\n",
       "      <th>3ds</th>\n",
       "      <td>38.20</td>\n",
       "      <td>0.087272</td>\n",
       "    </tr>\n",
       "  </tbody>\n",
       "</table>\n",
       "</div>"
      ],
      "text/plain": [
       "          na_sales     share\n",
       "platform                    \n",
       "ps4         108.74  0.248429\n",
       "xone         93.12  0.212744\n",
       "x360         81.66  0.186562\n",
       "ps3          63.50  0.145073\n",
       "3ds          38.20  0.087272"
      ]
     },
     "execution_count": 54,
     "metadata": {},
     "output_type": "execute_result"
    }
   ],
   "source": [
    "df_na1 = df_na.sort_values(by='na_sales', ascending=False)[:5]\n",
    "df_na1['share'] = df_na1['na_sales']/sum(df_na['na_sales'])\n",
    "df_na1"
   ]
  },
  {
   "cell_type": "code",
   "execution_count": 55,
   "metadata": {
    "scrolled": true
   },
   "outputs": [
    {
     "data": {
      "image/png": "[encoded data removed]",
      "text/plain": [
       "<Figure size 432x432 with 1 Axes>"
      ]
     },
     "metadata": {},
     "output_type": "display_data"
    }
   ],
   "source": [
    "(df_eu\n",
    " .sort_values(by='eu_sales', ascending=False)[:5]\n",
    " .plot(kind='pie', y='eu_sales', title='Sales shares in Europe', figsize=(6, 6))\n",
    " )\n",
    "plt.show()"
   ]
  },
  {
   "cell_type": "code",
   "execution_count": 56,
   "metadata": {},
   "outputs": [
    {
     "data": {
      "text/html": [
       "<div>\n",
       "<style scoped>\n",
       "    .dataframe tbody tr th:only-of-type {\n",
       "        vertical-align: middle;\n",
       "    }\n",
       "\n",
       "    .dataframe tbody tr th {\n",
       "        vertical-align: top;\n",
       "    }\n",
       "\n",
       "    .dataframe thead th {\n",
       "        text-align: right;\n",
       "    }\n",
       "</style>\n",
       "<table border=\"1\" class=\"dataframe\">\n",
       "  <thead>\n",
       "    <tr style=\"text-align: right;\">\n",
       "      <th></th>\n",
       "      <th>eu_sales</th>\n",
       "      <th>share</th>\n",
       "    </tr>\n",
       "    <tr>\n",
       "      <th>platform</th>\n",
       "      <th></th>\n",
       "      <th></th>\n",
       "    </tr>\n",
       "  </thead>\n",
       "  <tbody>\n",
       "    <tr>\n",
       "      <th>ps4</th>\n",
       "      <td>141.09</td>\n",
       "      <td>0.359712</td>\n",
       "    </tr>\n",
       "    <tr>\n",
       "      <th>ps3</th>\n",
       "      <td>67.81</td>\n",
       "      <td>0.172883</td>\n",
       "    </tr>\n",
       "    <tr>\n",
       "      <th>xone</th>\n",
       "      <td>51.59</td>\n",
       "      <td>0.131530</td>\n",
       "    </tr>\n",
       "    <tr>\n",
       "      <th>x360</th>\n",
       "      <td>42.52</td>\n",
       "      <td>0.108406</td>\n",
       "    </tr>\n",
       "    <tr>\n",
       "      <th>3ds</th>\n",
       "      <td>30.96</td>\n",
       "      <td>0.078933</td>\n",
       "    </tr>\n",
       "  </tbody>\n",
       "</table>\n",
       "</div>"
      ],
      "text/plain": [
       "          eu_sales     share\n",
       "platform                    \n",
       "ps4         141.09  0.359712\n",
       "ps3          67.81  0.172883\n",
       "xone         51.59  0.131530\n",
       "x360         42.52  0.108406\n",
       "3ds          30.96  0.078933"
      ]
     },
     "execution_count": 56,
     "metadata": {},
     "output_type": "execute_result"
    }
   ],
   "source": [
    "df_eu1 = df_eu.sort_values(by='eu_sales', ascending=False)[:5]\n",
    "df_eu1['share'] = df_eu1['eu_sales']/sum(df_eu['eu_sales'])\n",
    "df_eu1"
   ]
  },
  {
   "cell_type": "code",
   "execution_count": 57,
   "metadata": {},
   "outputs": [
    {
     "data": {
      "image/png": "[encoded data removed]",
      "text/plain": [
       "<Figure size 432x432 with 1 Axes>"
      ]
     },
     "metadata": {},
     "output_type": "display_data"
    }
   ],
   "source": [
    "(df_jp\n",
    " .sort_values(by='jp_sales', ascending=False)[:5]\n",
    " .plot(kind='pie', y='jp_sales', title='Sales shares in Japan', figsize=(6, 6))\n",
    " )\n",
    "plt.show()"
   ]
  },
  {
   "cell_type": "code",
   "execution_count": 58,
   "metadata": {},
   "outputs": [
    {
     "data": {
      "text/html": [
       "<div>\n",
       "<style scoped>\n",
       "    .dataframe tbody tr th:only-of-type {\n",
       "        vertical-align: middle;\n",
       "    }\n",
       "\n",
       "    .dataframe tbody tr th {\n",
       "        vertical-align: top;\n",
       "    }\n",
       "\n",
       "    .dataframe thead th {\n",
       "        text-align: right;\n",
       "    }\n",
       "</style>\n",
       "<table border=\"1\" class=\"dataframe\">\n",
       "  <thead>\n",
       "    <tr style=\"text-align: right;\">\n",
       "      <th></th>\n",
       "      <th>jp_sales</th>\n",
       "      <th>share</th>\n",
       "    </tr>\n",
       "    <tr>\n",
       "      <th>platform</th>\n",
       "      <th></th>\n",
       "      <th></th>\n",
       "    </tr>\n",
       "  </thead>\n",
       "  <tbody>\n",
       "    <tr>\n",
       "      <th>3ds</th>\n",
       "      <td>67.81</td>\n",
       "      <td>0.481674</td>\n",
       "    </tr>\n",
       "    <tr>\n",
       "      <th>ps3</th>\n",
       "      <td>23.35</td>\n",
       "      <td>0.165862</td>\n",
       "    </tr>\n",
       "    <tr>\n",
       "      <th>psv</th>\n",
       "      <td>18.59</td>\n",
       "      <td>0.132050</td>\n",
       "    </tr>\n",
       "    <tr>\n",
       "      <th>ps4</th>\n",
       "      <td>15.96</td>\n",
       "      <td>0.113368</td>\n",
       "    </tr>\n",
       "    <tr>\n",
       "      <th>wiiu</th>\n",
       "      <td>10.88</td>\n",
       "      <td>0.077284</td>\n",
       "    </tr>\n",
       "  </tbody>\n",
       "</table>\n",
       "</div>"
      ],
      "text/plain": [
       "          jp_sales     share\n",
       "platform                    \n",
       "3ds          67.81  0.481674\n",
       "ps3          23.35  0.165862\n",
       "psv          18.59  0.132050\n",
       "ps4          15.96  0.113368\n",
       "wiiu         10.88  0.077284"
      ]
     },
     "execution_count": 58,
     "metadata": {},
     "output_type": "execute_result"
    }
   ],
   "source": [
    "df_jp1 = df_jp.sort_values(by='jp_sales', ascending=False)[:5]\n",
    "df_jp1['share'] = df_jp1['jp_sales']/sum(df_jp['jp_sales'])\n",
    "df_jp1"
   ]
  },
  {
   "cell_type": "code",
   "execution_count": 59,
   "metadata": {
    "scrolled": true
   },
   "outputs": [],
   "source": [
    "df_na_genre = df.pivot_table(index='genre', values='na_sales', aggfunc='sum').sort_values(by='na_sales', ascending=False)[:5]\n",
    "df_eu_genre = df.pivot_table(index='genre', values='eu_sales', aggfunc='sum').sort_values(by='eu_sales', ascending=False)[:5]\n",
    "df_jp_genre = df.pivot_table(index='genre', values='jp_sales', aggfunc='sum').sort_values(by='jp_sales', ascending=False)[:5]"
   ]
  },
  {
   "cell_type": "code",
   "execution_count": 60,
   "metadata": {},
   "outputs": [
    {
     "data": {
      "image/png": "[encoded data removed]",
      "text/plain": [
       "<Figure size 432x288 with 1 Axes>"
      ]
     },
     "metadata": {
      "needs_background": "light"
     },
     "output_type": "display_data"
    }
   ],
   "source": [
    "df_na_genre.plot(kind='bar', y='na_sales', title='Top-5 genres in North America')\n",
    "plt.show()"
   ]
  },
  {
   "cell_type": "markdown",
   "metadata": {},
   "source": [
    "Самые популярные жанры игр в Северной Америке: боевики, шутеры, спорт, ролевые игры и музыкальные игры."
   ]
  },
  {
   "cell_type": "code",
   "execution_count": 61,
   "metadata": {},
   "outputs": [
    {
     "data": {
      "image/png": "[encoded data removed]",
      "text/plain": [
       "<Figure size 432x288 with 1 Axes>"
      ]
     },
     "metadata": {
      "needs_background": "light"
     },
     "output_type": "display_data"
    }
   ],
   "source": [
    "df_eu_genre.plot(kind='bar', y='eu_sales', title='Top-5 genres in Europe')\n",
    "plt.show()"
   ]
  },
  {
   "cell_type": "markdown",
   "metadata": {},
   "source": [
    "Самые популярные жанры игр в Европе: боевики, шутеры, спорт, ролевые игры и гонки."
   ]
  },
  {
   "cell_type": "code",
   "execution_count": 62,
   "metadata": {},
   "outputs": [
    {
     "data": {
      "image/png": "[encoded data removed]",
      "text/plain": [
       "<Figure size 432x288 with 1 Axes>"
      ]
     },
     "metadata": {
      "needs_background": "light"
     },
     "output_type": "display_data"
    }
   ],
   "source": [
    "df_jp_genre.plot(kind='bar', y='jp_sales', title='Top-5 genres in Japan')\n",
    "plt.show()"
   ]
  },
  {
   "cell_type": "markdown",
   "metadata": {},
   "source": [
    "Самые популярные жанры игр в Японии: ролевые игры, боевики, музыкальные игры, драки и шутеры.\n",
    "\n",
    "Разница в популярности жанров игр связана с культурными особенностями. Поскольку услвоия быта и культура стран Европы и Северной Америки похожи, то и их предпочтения по жанрам игр похожи. В Японии ролевые игры выходят на первый план, поскольку в культурной жизни молодёжи в Японии огромную роль играют аниме. На основе аниме создаются ролевые игры, где каждый человек может стать своим любимым персонажем."
   ]
  },
  {
   "cell_type": "code",
   "execution_count": 63,
   "metadata": {},
   "outputs": [
    {
     "data": {
      "text/html": [
       "<div>\n",
       "<style scoped>\n",
       "    .dataframe tbody tr th:only-of-type {\n",
       "        vertical-align: middle;\n",
       "    }\n",
       "\n",
       "    .dataframe tbody tr th {\n",
       "        vertical-align: top;\n",
       "    }\n",
       "\n",
       "    .dataframe thead th {\n",
       "        text-align: right;\n",
       "    }\n",
       "</style>\n",
       "<table border=\"1\" class=\"dataframe\">\n",
       "  <thead>\n",
       "    <tr style=\"text-align: right;\">\n",
       "      <th></th>\n",
       "      <th>name</th>\n",
       "      <th>platform</th>\n",
       "      <th>year_of_release</th>\n",
       "      <th>genre</th>\n",
       "      <th>na_sales</th>\n",
       "      <th>eu_sales</th>\n",
       "      <th>jp_sales</th>\n",
       "      <th>other_sales</th>\n",
       "      <th>critic_score</th>\n",
       "      <th>user_score</th>\n",
       "      <th>rating</th>\n",
       "      <th>sum_sales</th>\n",
       "    </tr>\n",
       "  </thead>\n",
       "  <tbody>\n",
       "    <tr>\n",
       "      <th>16</th>\n",
       "      <td>grand theft auto v</td>\n",
       "      <td>ps3</td>\n",
       "      <td>2013</td>\n",
       "      <td>action</td>\n",
       "      <td>7.02</td>\n",
       "      <td>9.09</td>\n",
       "      <td>0.98</td>\n",
       "      <td>3.96</td>\n",
       "      <td>97.0</td>\n",
       "      <td>8.2</td>\n",
       "      <td>M</td>\n",
       "      <td>21.05</td>\n",
       "    </tr>\n",
       "    <tr>\n",
       "      <th>23</th>\n",
       "      <td>grand theft auto v</td>\n",
       "      <td>x360</td>\n",
       "      <td>2013</td>\n",
       "      <td>action</td>\n",
       "      <td>9.66</td>\n",
       "      <td>5.14</td>\n",
       "      <td>0.06</td>\n",
       "      <td>1.41</td>\n",
       "      <td>97.0</td>\n",
       "      <td>8.1</td>\n",
       "      <td>M</td>\n",
       "      <td>16.27</td>\n",
       "    </tr>\n",
       "    <tr>\n",
       "      <th>31</th>\n",
       "      <td>call of duty: black ops 3</td>\n",
       "      <td>ps4</td>\n",
       "      <td>2015</td>\n",
       "      <td>shooter</td>\n",
       "      <td>6.03</td>\n",
       "      <td>5.86</td>\n",
       "      <td>0.36</td>\n",
       "      <td>2.38</td>\n",
       "      <td>NaN</td>\n",
       "      <td>NaN</td>\n",
       "      <td>NaN</td>\n",
       "      <td>14.63</td>\n",
       "    </tr>\n",
       "    <tr>\n",
       "      <th>33</th>\n",
       "      <td>pokemon x/pokemon y</td>\n",
       "      <td>3ds</td>\n",
       "      <td>2013</td>\n",
       "      <td>role-playing</td>\n",
       "      <td>5.28</td>\n",
       "      <td>4.19</td>\n",
       "      <td>4.35</td>\n",
       "      <td>0.78</td>\n",
       "      <td>NaN</td>\n",
       "      <td>NaN</td>\n",
       "      <td>NaN</td>\n",
       "      <td>14.60</td>\n",
       "    </tr>\n",
       "    <tr>\n",
       "      <th>42</th>\n",
       "      <td>grand theft auto v</td>\n",
       "      <td>ps4</td>\n",
       "      <td>2014</td>\n",
       "      <td>action</td>\n",
       "      <td>3.96</td>\n",
       "      <td>6.31</td>\n",
       "      <td>0.38</td>\n",
       "      <td>1.97</td>\n",
       "      <td>97.0</td>\n",
       "      <td>8.3</td>\n",
       "      <td>M</td>\n",
       "      <td>12.62</td>\n",
       "    </tr>\n",
       "    <tr>\n",
       "      <th>...</th>\n",
       "      <td>...</td>\n",
       "      <td>...</td>\n",
       "      <td>...</td>\n",
       "      <td>...</td>\n",
       "      <td>...</td>\n",
       "      <td>...</td>\n",
       "      <td>...</td>\n",
       "      <td>...</td>\n",
       "      <td>...</td>\n",
       "      <td>...</td>\n",
       "      <td>...</td>\n",
       "      <td>...</td>\n",
       "    </tr>\n",
       "    <tr>\n",
       "      <th>16703</th>\n",
       "      <td>strawberry nauts</td>\n",
       "      <td>psv</td>\n",
       "      <td>2016</td>\n",
       "      <td>adventure</td>\n",
       "      <td>0.00</td>\n",
       "      <td>0.00</td>\n",
       "      <td>0.01</td>\n",
       "      <td>0.00</td>\n",
       "      <td>NaN</td>\n",
       "      <td>NaN</td>\n",
       "      <td>NaN</td>\n",
       "      <td>0.01</td>\n",
       "    </tr>\n",
       "    <tr>\n",
       "      <th>16707</th>\n",
       "      <td>aiyoku no eustia</td>\n",
       "      <td>psv</td>\n",
       "      <td>2014</td>\n",
       "      <td>misc</td>\n",
       "      <td>0.00</td>\n",
       "      <td>0.00</td>\n",
       "      <td>0.01</td>\n",
       "      <td>0.00</td>\n",
       "      <td>NaN</td>\n",
       "      <td>NaN</td>\n",
       "      <td>NaN</td>\n",
       "      <td>0.01</td>\n",
       "    </tr>\n",
       "    <tr>\n",
       "      <th>16710</th>\n",
       "      <td>samurai warriors: sanada maru</td>\n",
       "      <td>ps3</td>\n",
       "      <td>2016</td>\n",
       "      <td>action</td>\n",
       "      <td>0.00</td>\n",
       "      <td>0.00</td>\n",
       "      <td>0.01</td>\n",
       "      <td>0.00</td>\n",
       "      <td>NaN</td>\n",
       "      <td>NaN</td>\n",
       "      <td>NaN</td>\n",
       "      <td>0.01</td>\n",
       "    </tr>\n",
       "    <tr>\n",
       "      <th>16712</th>\n",
       "      <td>haitaka no psychedelica</td>\n",
       "      <td>psv</td>\n",
       "      <td>2016</td>\n",
       "      <td>adventure</td>\n",
       "      <td>0.00</td>\n",
       "      <td>0.00</td>\n",
       "      <td>0.01</td>\n",
       "      <td>0.00</td>\n",
       "      <td>NaN</td>\n",
       "      <td>NaN</td>\n",
       "      <td>NaN</td>\n",
       "      <td>0.01</td>\n",
       "    </tr>\n",
       "    <tr>\n",
       "      <th>16714</th>\n",
       "      <td>winning post 8 2016</td>\n",
       "      <td>psv</td>\n",
       "      <td>2016</td>\n",
       "      <td>simulation</td>\n",
       "      <td>0.00</td>\n",
       "      <td>0.00</td>\n",
       "      <td>0.01</td>\n",
       "      <td>0.00</td>\n",
       "      <td>NaN</td>\n",
       "      <td>NaN</td>\n",
       "      <td>NaN</td>\n",
       "      <td>0.01</td>\n",
       "    </tr>\n",
       "  </tbody>\n",
       "</table>\n",
       "<p>2233 rows × 12 columns</p>\n",
       "</div>"
      ],
      "text/plain": [
       "                                name platform  year_of_release         genre  \\\n",
       "16                grand theft auto v      ps3             2013        action   \n",
       "23                grand theft auto v     x360             2013        action   \n",
       "31         call of duty: black ops 3      ps4             2015       shooter   \n",
       "33               pokemon x/pokemon y      3ds             2013  role-playing   \n",
       "42                grand theft auto v      ps4             2014        action   \n",
       "...                              ...      ...              ...           ...   \n",
       "16703               strawberry nauts      psv             2016     adventure   \n",
       "16707               aiyoku no eustia      psv             2014          misc   \n",
       "16710  samurai warriors: sanada maru      ps3             2016        action   \n",
       "16712        haitaka no psychedelica      psv             2016     adventure   \n",
       "16714            winning post 8 2016      psv             2016    simulation   \n",
       "\n",
       "       na_sales  eu_sales  jp_sales  other_sales  critic_score  user_score  \\\n",
       "16         7.02      9.09      0.98         3.96          97.0         8.2   \n",
       "23         9.66      5.14      0.06         1.41          97.0         8.1   \n",
       "31         6.03      5.86      0.36         2.38           NaN         NaN   \n",
       "33         5.28      4.19      4.35         0.78           NaN         NaN   \n",
       "42         3.96      6.31      0.38         1.97          97.0         8.3   \n",
       "...         ...       ...       ...          ...           ...         ...   \n",
       "16703      0.00      0.00      0.01         0.00           NaN         NaN   \n",
       "16707      0.00      0.00      0.01         0.00           NaN         NaN   \n",
       "16710      0.00      0.00      0.01         0.00           NaN         NaN   \n",
       "16712      0.00      0.00      0.01         0.00           NaN         NaN   \n",
       "16714      0.00      0.00      0.01         0.00           NaN         NaN   \n",
       "\n",
       "      rating  sum_sales  \n",
       "16         M      21.05  \n",
       "23         M      16.27  \n",
       "31       NaN      14.63  \n",
       "33       NaN      14.60  \n",
       "42         M      12.62  \n",
       "...      ...        ...  \n",
       "16703    NaN       0.01  \n",
       "16707    NaN       0.01  \n",
       "16710    NaN       0.01  \n",
       "16712    NaN       0.01  \n",
       "16714    NaN       0.01  \n",
       "\n",
       "[2233 rows x 12 columns]"
      ]
     },
     "execution_count": 63,
     "metadata": {},
     "output_type": "execute_result"
    }
   ],
   "source": [
    "df"
   ]
  },
  {
   "cell_type": "code",
   "execution_count": 64,
   "metadata": {},
   "outputs": [],
   "source": [
    "df['rating'] = df['rating'].fillna('No rating')"
   ]
  },
  {
   "cell_type": "code",
   "execution_count": 65,
   "metadata": {},
   "outputs": [],
   "source": [
    "df_na_rating = df.pivot_table(index='rating', values='na_sales', aggfunc='sum').sort_values(by='na_sales', ascending=False)\n",
    "df_eu_rating = df.pivot_table(index='rating', values='eu_sales', aggfunc='sum').sort_values(by='eu_sales', ascending=False)\n",
    "df_jp_rating = df.pivot_table(index='rating', values='jp_sales', aggfunc='sum').sort_values(by='jp_sales', ascending=False)"
   ]
  },
  {
   "cell_type": "code",
   "execution_count": 66,
   "metadata": {},
   "outputs": [
    {
     "data": {
      "image/png": "[encoded data removed]",
      "text/plain": [
       "<Figure size 432x288 with 1 Axes>"
      ]
     },
     "metadata": {
      "needs_background": "light"
     },
     "output_type": "display_data"
    }
   ],
   "source": [
    "df_na_rating.plot(kind='bar', y='na_sales', title='Relations between esrb rating and sales in NA')\n",
    "plt.show()"
   ]
  },
  {
   "cell_type": "code",
   "execution_count": 67,
   "metadata": {},
   "outputs": [
    {
     "data": {
      "image/png": "[encoded data removed]",
      "text/plain": [
       "<Figure size 432x288 with 1 Axes>"
      ]
     },
     "metadata": {
      "needs_background": "light"
     },
     "output_type": "display_data"
    }
   ],
   "source": [
    "df_eu_rating.plot(kind='bar', y='eu_sales', title='Relations between esrb rating and sales in EU')\n",
    "plt.show()"
   ]
  },
  {
   "cell_type": "markdown",
   "metadata": {},
   "source": [
    "В связи с культурной близостью Европы и Северной Америки продажи по рейтингам ESRB практически идентичны. В порядке убвания зависимость продаж от рейтинга выглядит так: M --> E --> E10+ --> T. Также важно учесть, что доля игр без рейтинга в Европе и Северной Америке высока."
   ]
  },
  {
   "cell_type": "code",
   "execution_count": 68,
   "metadata": {},
   "outputs": [
    {
     "data": {
      "image/png": "[encoded data removed]",
      "text/plain": [
       "<Figure size 432x288 with 1 Axes>"
      ]
     },
     "metadata": {
      "needs_background": "light"
     },
     "output_type": "display_data"
    }
   ],
   "source": [
    "df_jp_rating.plot(kind='bar', y='jp_sales', title='Relations between esrb rating and sales in JP')\n",
    "plt.show()"
   ]
  },
  {
   "cell_type": "markdown",
   "metadata": {},
   "source": [
    "Поскольку в Японии аниме особенно популярно среди подростков (то есть ролевые игры популярны тоже преимущетсвенно среди подростоков), то выстраивается следующая картина зависимости продаж от рейтинга ESRB (в порядке убывания): Е --> E --> M --> E10+. На первом месте в Японии игры без рейтинга. Возможно это связано с тем, что эти игры создавалсиь для локального рынка, поэтому мировые рейтинги их не учитывали."
   ]
  },
  {
   "cell_type": "markdown",
   "metadata": {},
   "source": [
    "### Выводы"
   ]
  },
  {
   "cell_type": "markdown",
   "metadata": {},
   "source": [
    "1. Самые популярные платформы для игр в Северной Америке - это ps4, xone, x360. В Северной Америке основная конкуренция сосредоточена между двумя компаниями Playstation и Xbox. Они делят лидирующие позиции, так как Xbox американская компания и они лучше могут готовить рекламную компанию, так как хорошо знают своих клиентов. Playstation же лидирует, так как это самая популярная платформа в мире и в ней самая большая библиотека игр.\n",
    "2. В Европе лидер очевиден, так как чуть больше трети рынка - это ps4. В Европе на первый план вырывается сам продукт с его характеристиками и играми.\n",
    "3. В Японии в лидеры вырывается японская платформа 3ds (почти 50% рынка). Среди возможных причин: лучшее знание японского рынка и потребности населения Японии, более эффективная реклама на территории страны производителя.\n",
    "4. Самые популярные жанры игр в Северной Америке: боевики, шутеры, спорт, ролевые игры и музыкальные игры.\n",
    "5. Самые популярные жанры игр в Европе: боевики, шутеры, спорт, ролевые игры и гонки.\n",
    "6. Самые популярные жанры игр в Японии: ролевые игры, боевики, музыкальные игры, драки и шутеры.\n",
    "7. Разница в популярности жанров игр связана с культурными особенностями. Поскольку услвоия быта и культура стран Европы и Северной Америки похожи, то и их предпочтения по жанрам игр похожи. В Японии ролевые игры выходят на первый план, поскольку в культурной жизни молодёжи в Японии огромную роль играют аниме. На основе аниме создаются ролевые игры, где каждый человек может стать своим любимым персонажем.\n",
    "8. В связи с культурной близостью Европы и Северной Америки продажи по рейтингам ESRB практически идентичны. В порядке убвания зависимость продаж от рейтинга выглядит так: M --> E --> E10+ --> T.\n",
    "9. Поскольку в Японии аниме особенно популярно среди подростков (то есть ролевые игры популярны тоже преимущетсвенно среди подростоков), то выстраивается следующая картина зависимости продаж от рейтинга ESRB (в порядке убывания): Е --> E --> M --> E10+"
   ]
  },
  {
   "cell_type": "markdown",
   "metadata": {},
   "source": [
    "## Проверка гипотез"
   ]
  },
  {
   "cell_type": "markdown",
   "metadata": {},
   "source": [
    "Базовые гипотезы формируются исходя из равенства двух наблюдаемых событий. Альтернативная же гипотеза формируется исходя из обратной базовой гипотезы, поэтому получаем следующие две базовые гипотезы:\n",
    "1. Средние пользовательские рейтинги платформ Xbox One и PC одинаковые;\n",
    "2. Средние пользовательские рейтинги жанров Action (англ. «действие», экшен-игры) и Sports (англ. «спортивные соревнования») равны.\n",
    "\n",
    "Альтернативными будут являтся соотвествующие гипотезы: \n",
    "1. Средние пользовательские рейтинги платформ Xbox One и PC неодинаковые;\n",
    "2. Средние пользовательские рейтинги жанров Action (англ. «действие», экшен-игры) и Sports (англ. «спортивные соревнования») разные.\n",
    "\n",
    "Критерием для проверки гипотез будет считаться равенство средних двух  выборок. В таком случае можно будет говорить об истинности двух нулевых гипотез. Уровень статистической значимости (alpha) = 5%."
   ]
  },
  {
   "cell_type": "markdown",
   "metadata": {},
   "source": [
    "### Базовая гипотеза 1: Средние пользовательские рейтинги платформ Xbox One и PC одинаковые"
   ]
  },
  {
   "cell_type": "code",
   "execution_count": 69,
   "metadata": {},
   "outputs": [
    {
     "name": "stdout",
     "output_type": "stream",
     "text": [
      "Дисперсия выборки xone и её длина 1.8965188383045533 | 182\n",
      "Дисперсия выборки pc и её длина 3.0163063475546332 | 155\n"
     ]
    }
   ],
   "source": [
    "df_xone_rating = df.query('platform == \"xone\"')['user_score'].dropna()\n",
    "df_pc_rating = df.query('platform == \"pc\"')['user_score'].dropna()\n",
    "print('Дисперсия выборки xone и её длина', np.var(df_xone_rating), '|', len(df_xone_rating))\n",
    "print('Дисперсия выборки pc и её длина', np.var(df_pc_rating), '|', len(df_pc_rating))"
   ]
  },
  {
   "cell_type": "code",
   "execution_count": 70,
   "metadata": {},
   "outputs": [
    {
     "name": "stdout",
     "output_type": "stream",
     "text": [
      "pvalue: 0.14759594013430463\n",
      "Нулевая гипотеза о том, что средние пользовательские рейтинги платформ Xbox One и PC одинаковые, не отвергается.\n"
     ]
    }
   ],
   "source": [
    "result = st.ttest_ind(df_xone_rating, df_pc_rating, equal_var=False)\n",
    "alpha = 0.05\n",
    "print('pvalue:', result.pvalue)\n",
    "if result.pvalue < alpha:\n",
    "    print('Нулевая гипотеза о том, что средние пользовательские рейтинги платформ Xbox One и PC одинаковые,  отвергается.')\n",
    "else:\n",
    "    print('Нулевая гипотеза о том, что средние пользовательские рейтинги платформ Xbox One и PC одинаковые, не отвергается.')"
   ]
  },
  {
   "cell_type": "markdown",
   "metadata": {},
   "source": [
    "### Базовая гипотеза 2: Средние пользовательские рейтинги жанров Action (англ. «действие», экшен-игры) и Sports (англ. «спортивные соревнования») равны"
   ]
  },
  {
   "cell_type": "code",
   "execution_count": 71,
   "metadata": {},
   "outputs": [
    {
     "name": "stdout",
     "output_type": "stream",
     "text": [
      "Дисперсия оценки пользователей по жанру action и её длина 0.249938645706222 | 766\n",
      "Дисперсия оценки пользователей по жанру sports и её длина 0.18866276530701373 | 214\n"
     ]
    }
   ],
   "source": [
    "df_action_us = df.query('genre == \"action\"')['user_score'].notna()\n",
    "df_sport_us = df.query('genre == \"sports\"')['user_score'].notna()\n",
    "print('Дисперсия оценки пользователей по жанру action и её длина', np.var(df_action_us), '|', len(df_action_us))\n",
    "print('Дисперсия оценки пользователей по жанру sports и её длина', np.var(df_sport_us), '|', len(df_sport_us))"
   ]
  },
  {
   "cell_type": "code",
   "execution_count": 72,
   "metadata": {},
   "outputs": [
    {
     "name": "stdout",
     "output_type": "stream",
     "text": [
      "pvalue 2.324411835675499e-11\n",
      "Нулевая гипотеза о том, что средние пользовательские рейтинги жанров Action и Sports равны, отвергается.\n"
     ]
    }
   ],
   "source": [
    "results = st.ttest_ind(df_action_us ,df_sport_us, equal_var=False)\n",
    "print('pvalue', results.pvalue)\n",
    "if results.pvalue < alpha:\n",
    "    print('Нулевая гипотеза о том, что средние пользовательские рейтинги жанров Action и Sports равны, отвергается.')\n",
    "else:\n",
    "    print('Нулевая гипотеза о том, что средние пользовательские рейтинги жанров Action и Sports равны, не отвергается')"
   ]
  },
  {
   "cell_type": "code",
   "execution_count": 73,
   "metadata": {},
   "outputs": [
    {
     "name": "stdout",
     "output_type": "stream",
     "text": [
      "Средняя оценка пользователей по жанру action: 0.5078328981723238\n",
      "Средняя оценка пользователей по жанру sports: 0.7476635514018691\n"
     ]
    }
   ],
   "source": [
    "print('Средняя оценка пользователей по жанру action:', df_action_us.mean())\n",
    "print('Средняя оценка пользователей по жанру sports:', df_sport_us.mean())"
   ]
  },
  {
   "cell_type": "markdown",
   "metadata": {},
   "source": [
    "### Выводы"
   ]
  },
  {
   "cell_type": "markdown",
   "metadata": {},
   "source": [
    "Гипотезы. Поскольку выборки разных размеров, а их дисперсии отличаются в среднем на 30%, то переменная equal_var принимает значение False. Для проверки первой гипотезы использовался метод ttest_ind, так как он сравнивает средние двух выборок. Решение о принятии или не принятии гипотезы исходит исходя из значения pvalue - уровень значимости этой стаситики (вероятность получить наблюдаемый результат), пороговое значение которой для данной выборки установлено alpha = 5%.\n",
    "\n",
    "**Нулевая гипотеза о том, что средние пользовательские рейтинги платформ Xbox One и PC одинаковые, не отвергается.**\n",
    "\n",
    "**Нулевая гипотеза о том, что средние пользовательские рейтинги жанров Action и Sports равны, отвергается.**\n",
    "\n",
    "Средняя оценка пользователей по жанру action выше на 50% средней оценки по жанру sports."
   ]
  },
  {
   "cell_type": "markdown",
   "metadata": {},
   "source": [
    "## Общие выводы"
   ]
  },
  {
   "cell_type": "markdown",
   "metadata": {},
   "source": [
    "1. Названия столбцов приведены к общему виду и к нижнему регистр.\n",
    "2. Пропуски в столбце с названием игры заменить нельзя, так как информации недостаточно для ее определения.\n",
    "3. Пропуски в столбце с датой релиза менять не следует. Возможен вариант замены пропусков на среднее значение годов выпуска игр по платформам, но поскольку обнолвения платформ проводятся редко, то имеется большой риск искозить данные.\n",
    "4. Столбец с оценкой критиков. В данном случае есть два варианта работы: замена пропусков на медианное значение по жанру и оставление пропусков. Поскольку пропусков слишком много не следует заменять на медианное значение, поскольку в случае появления в последствии оценок критиков правильный сдвиг происходить не будет из-за большое концентрации оценок на медианном значении.\n",
    "5. Значения \"tbd\" в столбце с оценкой пользователей можно заменить вместе с пропущенными значениями (Nan), так как данное решение статистику не искозит.\n",
    "6. Столбец с рейтингом. Пропуски в данном случае трогать не следует, так как неизвестно нет достаточных оснаваний полагать, какой рейтинг будет у той или иной игры. \n",
    "7. Данных по вриведённым двум играм (где пропуски в их наименованиях) практически нет, объёмы продаж в разных странах небольшой, поэтому удаление этих строчек никак не отразится на результатах анализа.\n",
    "8. Столбцы со строчными данными приведены к нижнему регистру для удобного поиска дубликатов в следующем разделе.\n",
    "9. Исходя из построенного графика частоты релиза игр по годам можно сделать вывод, что сфера гейминга начала становится очень популярна начиная с 2000-ых годов.\n",
    "10. По графику суммарных продаж по платформам видно, что c 2004 по 2006 в год появлялось минимум по 1 платформе (в 2006 сразу две).\n",
    "11. В среднем новые платформы живут 11-12 лет (если рассматривать топ 10 платформ). Если рассматривать все платформы то в среднем платформы живут 7-8 лет.\n",
    "12. Акутальным периодом будет считаться 2013-2016 гг., с момента появления ps4.\n",
    "13. По графику 'Sum sales in actual period' видно, что только две платформы имеют положите тренды - это xone и ps4. Все остальные имеют отрицательные тренды.\n",
    "14. По графику 'Sum sales in actual period' можно сделать вывод, что продажам лидируют следующие 5 платформ: ps4, xone, ps3, x360, 3ds.\n",
    "15. Потенциально прибыльные платформы - эплатформы имеющие положительный тренд (xone и ps4). Но также к потенциально прибыльном можно отнести PC (хоть и наблюдается небольшая отрицательная корреляция), но продажи по ним более стабильны (отсутствуют резкие отклонения).\n",
    "16. Корреляция между оценками пользователей и продажами игры на платформе ps4 отсутствует. Встречаются случаи, когда когда высокие оценки совпадают с высокими продажами, что может быть связано с хорошо сформированным коммьюнити определённой игры. Это объясняет ещё и то, почему оценки пользователей могут быть невысокими, но продажи высокими.\n",
    "17. Существует прямая умеренная корреляция между проадажами и рейтингом критиков. Это связано с тем, что многие игроки в процессе решения выбора игры ориентируются на оценки критиков. Связь не является сильной, так как мнение критиков не всегда сходится с мнением игроков. Некоторые игроки больше склонны доверять мнению игроков.\n",
    "18. Единой картины между связью оценки пользователей и продажами нет. В основном превалирует ситуация с слобой прямой корреляцией (исключение dc - слабая отрицательная корреляция). Корреляция же между оценкой критиков и продажами носит либо прямой слабый, либо прямой умеренный характер.\n",
    "19. Самые продаваемые жанры игры выпускаются на самых продаваемых платформах.\n",
    "20. Самые популярные платформы для игр в Северной Америке - это ps4, xone, x360. В Северной Америке основная конкуренция сосредоточена между двумя компаниями Playstation и Xbox. Они делят лидирующие позиции, так как Xbox американская компания и они лучше могут готовить рекламную компанию, так как хорошо знают своих клиентов. Playstation же лидирует, так как это самая популярная платформа в мире и в ней самая большая библиотека игр.\n",
    "21. В Европе лидер очевиден, так как чуть больше трети рынка - это ps4. В Европе на первый план вырывается сам продукт с его характеристиками и играми.\n",
    "22. В Японии в лидеры вырывается японская платформа 3ds (почти 50% рынка). Среди возможных причин: лучшее знание японского рынка и потребности населения Японии, более эффективная реклама на территории страны производителя.\n",
    "23. Самые популярные жанры игр в Северной Америке: боевики, шутеры, спорт, ролевые игры и музыкальные игры.\n",
    "24. Самые популярные жанры игр в Европе: боевики, шутеры, спорт, ролевые игры и гонки.\n",
    "25. Самые популярные жанры игр в Японии: ролевые игры, боевики, музыкальные игры, драки и шутеры.\n",
    "26. Разница в популярности жанров игр связана с культурными особенностями. Поскольку услвоия быта и культура стран Европы и Северной Америки похожи, то и их предпочтения по жанрам игр похожи. В Японии ролевые игры выходят на первый план, поскольку в культурной жизни молодёжи в Японии огромную роль играют аниме. На основе аниме создаются ролевые игры, где каждый человек может стать своим любимым персонажем.\n",
    "27. В связи с культурной близостью Европы и Северной Америки продажи по рейтингам ESRB практически идентичны. В порядке убвания зависимость продаж от рейтинга выглядит так: M --> E --> E10+ --> T.\n",
    "28. Поскольку в Японии аниме особенно популярно среди подростков (то есть ролевые игры популярны тоже преимущетсвенно среди подростоков), то выстраивается следующая картина зависимости продаж от рейтинга ESRB (в порядке убывания): Е --> E --> M --> E10+\n",
    "29. Средняя оценка пользователей по жанру action выше на 50% средней оценки по жанру sports.\n",
    "30. Нулевая гипотеза о том, что средние пользовательские рейтинги платформ Xbox One и PC одинаковые, не отвергается.\n",
    "31. Нулевая гипотеза о том, что средние пользовательские рейтинги жанров Action и Sports равны, отвергается.\n",
    "\n",
    "Исходя из вышесказанного, можно выделить следующие факторы, определяющие успешность игры: платформы игры, жанр, оценка критиков, регион (со всеми его мнофакторными особенностями), рейтинг ESRB. Основываясь на эти факторы можно сделать ставку на популярный продукт и спланировать рекламные компании."
   ]
  }
 ],
 "metadata": {
  "ExecuteTimeLog": [
   {
    "duration": 980,
    "start_time": "2022-01-30T18:11:06.809Z"
   },
   {
    "duration": 1837,
    "start_time": "2022-01-30T18:19:15.654Z"
   },
   {
    "duration": 1847,
    "start_time": "2022-01-30T18:20:10.364Z"
   },
   {
    "duration": 2304,
    "start_time": "2022-01-30T18:37:08.480Z"
   },
   {
    "duration": 2,
    "start_time": "2022-01-30T18:40:20.633Z"
   },
   {
    "duration": 2070,
    "start_time": "2022-01-30T18:40:22.720Z"
   },
   {
    "duration": 1801,
    "start_time": "2022-01-30T18:40:47.289Z"
   },
   {
    "duration": 3,
    "start_time": "2022-01-30T18:42:55.000Z"
   },
   {
    "duration": 1810,
    "start_time": "2022-01-30T18:42:57.183Z"
   },
   {
    "duration": 369,
    "start_time": "2022-01-30T18:45:51.673Z"
   },
   {
    "duration": 11,
    "start_time": "2022-01-30T18:46:03.501Z"
   },
   {
    "duration": 9,
    "start_time": "2022-01-30T18:46:13.064Z"
   },
   {
    "duration": 8,
    "start_time": "2022-01-30T18:46:17.900Z"
   },
   {
    "duration": 10,
    "start_time": "2022-01-30T18:46:20.425Z"
   },
   {
    "duration": 8,
    "start_time": "2022-01-30T18:46:39.327Z"
   },
   {
    "duration": 8,
    "start_time": "2022-01-30T18:46:51.651Z"
   },
   {
    "duration": 10,
    "start_time": "2022-01-30T18:47:05.142Z"
   },
   {
    "duration": 7,
    "start_time": "2022-01-30T18:47:17.137Z"
   },
   {
    "duration": 7,
    "start_time": "2022-01-30T18:47:28.843Z"
   },
   {
    "duration": 1870,
    "start_time": "2022-02-01T06:57:44.833Z"
   },
   {
    "duration": 767,
    "start_time": "2022-02-01T06:57:46.707Z"
   },
   {
    "duration": 24,
    "start_time": "2022-02-01T06:57:47.478Z"
   },
   {
    "duration": 15,
    "start_time": "2022-02-01T06:57:47.505Z"
   },
   {
    "duration": 37,
    "start_time": "2022-02-01T06:57:47.523Z"
   },
   {
    "duration": 11,
    "start_time": "2022-02-01T06:57:47.563Z"
   },
   {
    "duration": 12,
    "start_time": "2022-02-01T06:57:47.577Z"
   },
   {
    "duration": 15,
    "start_time": "2022-02-01T06:57:47.592Z"
   },
   {
    "duration": 28,
    "start_time": "2022-02-01T06:58:28.878Z"
   },
   {
    "duration": 13,
    "start_time": "2022-02-01T07:02:26.813Z"
   },
   {
    "duration": 47,
    "start_time": "2022-02-01T07:03:28.362Z"
   },
   {
    "duration": 22,
    "start_time": "2022-02-01T07:04:36.080Z"
   },
   {
    "duration": 13,
    "start_time": "2022-02-01T07:21:50.890Z"
   },
   {
    "duration": 24,
    "start_time": "2022-02-01T07:22:29.433Z"
   },
   {
    "duration": 52,
    "start_time": "2022-02-01T07:31:51.874Z"
   },
   {
    "duration": 11,
    "start_time": "2022-02-01T07:38:06.016Z"
   },
   {
    "duration": 21,
    "start_time": "2022-02-01T07:38:42.997Z"
   },
   {
    "duration": 18,
    "start_time": "2022-02-01T07:40:12.719Z"
   },
   {
    "duration": 484,
    "start_time": "2022-02-01T07:41:37.177Z"
   },
   {
    "duration": 10,
    "start_time": "2022-02-01T07:41:42.343Z"
   },
   {
    "duration": 17,
    "start_time": "2022-02-01T07:46:18.185Z"
   },
   {
    "duration": 10,
    "start_time": "2022-02-01T07:49:09.516Z"
   },
   {
    "duration": 28,
    "start_time": "2022-02-01T07:52:10.648Z"
   },
   {
    "duration": 10,
    "start_time": "2022-02-01T07:52:20.433Z"
   },
   {
    "duration": 1800,
    "start_time": "2022-02-01T09:20:14.208Z"
   },
   {
    "duration": 565,
    "start_time": "2022-02-01T09:20:16.010Z"
   },
   {
    "duration": 16,
    "start_time": "2022-02-01T09:20:16.578Z"
   },
   {
    "duration": 33,
    "start_time": "2022-02-01T09:20:16.597Z"
   },
   {
    "duration": 36,
    "start_time": "2022-02-01T09:20:16.633Z"
   },
   {
    "duration": 12,
    "start_time": "2022-02-01T09:20:16.672Z"
   },
   {
    "duration": 22,
    "start_time": "2022-02-01T09:20:16.687Z"
   },
   {
    "duration": 73,
    "start_time": "2022-02-01T09:20:16.713Z"
   },
   {
    "duration": 10,
    "start_time": "2022-02-01T09:20:16.789Z"
   },
   {
    "duration": 22,
    "start_time": "2022-02-01T09:20:16.801Z"
   },
   {
    "duration": 37,
    "start_time": "2022-02-01T09:20:16.826Z"
   },
   {
    "duration": 10,
    "start_time": "2022-02-01T09:20:16.865Z"
   },
   {
    "duration": 17,
    "start_time": "2022-02-01T09:20:16.877Z"
   },
   {
    "duration": 10,
    "start_time": "2022-02-01T09:20:16.897Z"
   },
   {
    "duration": 51,
    "start_time": "2022-02-01T09:20:16.910Z"
   },
   {
    "duration": 76,
    "start_time": "2022-02-01T09:58:06.766Z"
   },
   {
    "duration": 7,
    "start_time": "2022-02-01T09:58:47.648Z"
   },
   {
    "duration": 625,
    "start_time": "2022-02-01T09:59:37.044Z"
   },
   {
    "duration": 381,
    "start_time": "2022-02-01T10:00:11.759Z"
   },
   {
    "duration": 21,
    "start_time": "2022-02-01T10:04:06.393Z"
   },
   {
    "duration": 23,
    "start_time": "2022-02-01T10:04:51.726Z"
   },
   {
    "duration": 13,
    "start_time": "2022-02-01T10:05:01.265Z"
   },
   {
    "duration": 304,
    "start_time": "2022-02-01T10:06:53.091Z"
   },
   {
    "duration": 5,
    "start_time": "2022-02-01T10:07:00.257Z"
   },
   {
    "duration": 39,
    "start_time": "2022-02-01T10:07:31.105Z"
   },
   {
    "duration": 20,
    "start_time": "2022-02-01T10:07:32.234Z"
   },
   {
    "duration": 12,
    "start_time": "2022-02-01T10:07:34.157Z"
   },
   {
    "duration": 29,
    "start_time": "2022-02-01T10:08:05.432Z"
   },
   {
    "duration": 20,
    "start_time": "2022-02-01T10:08:05.862Z"
   },
   {
    "duration": 11,
    "start_time": "2022-02-01T10:08:07.212Z"
   },
   {
    "duration": 323,
    "start_time": "2022-02-01T10:11:00.191Z"
   },
   {
    "duration": 304,
    "start_time": "2022-02-01T10:11:12.885Z"
   },
   {
    "duration": 693,
    "start_time": "2022-02-01T10:12:34.154Z"
   },
   {
    "duration": 625,
    "start_time": "2022-02-01T10:13:28.365Z"
   },
   {
    "duration": 329,
    "start_time": "2022-02-01T10:15:00.832Z"
   },
   {
    "duration": 492,
    "start_time": "2022-02-01T10:15:19.241Z"
   },
   {
    "duration": 372,
    "start_time": "2022-02-01T10:15:55.522Z"
   },
   {
    "duration": 494,
    "start_time": "2022-02-01T10:27:51.136Z"
   },
   {
    "duration": 20,
    "start_time": "2022-02-01T10:30:51.784Z"
   },
   {
    "duration": 356,
    "start_time": "2022-02-01T10:31:17.317Z"
   },
   {
    "duration": 28,
    "start_time": "2022-02-01T10:31:41.165Z"
   },
   {
    "duration": 33,
    "start_time": "2022-02-01T10:32:17.301Z"
   },
   {
    "duration": 20,
    "start_time": "2022-02-01T10:32:34.043Z"
   },
   {
    "duration": 13,
    "start_time": "2022-02-01T10:33:46.771Z"
   },
   {
    "duration": 13,
    "start_time": "2022-02-01T10:33:58.434Z"
   },
   {
    "duration": 9,
    "start_time": "2022-02-01T10:34:17.864Z"
   },
   {
    "duration": 9,
    "start_time": "2022-02-01T10:34:41.931Z"
   },
   {
    "duration": 652,
    "start_time": "2022-02-01T10:35:48.173Z"
   },
   {
    "duration": 20,
    "start_time": "2022-02-01T10:36:12.335Z"
   },
   {
    "duration": 152,
    "start_time": "2022-02-01T10:43:44.519Z"
   },
   {
    "duration": 918,
    "start_time": "2022-02-01T10:44:49.447Z"
   },
   {
    "duration": 338,
    "start_time": "2022-02-01T10:57:35.324Z"
   },
   {
    "duration": 262,
    "start_time": "2022-02-01T17:39:14.765Z"
   },
   {
    "duration": 1075,
    "start_time": "2022-02-01T17:39:22.520Z"
   },
   {
    "duration": 405,
    "start_time": "2022-02-01T17:39:23.597Z"
   },
   {
    "duration": 12,
    "start_time": "2022-02-01T17:39:24.004Z"
   },
   {
    "duration": 20,
    "start_time": "2022-02-01T17:39:24.018Z"
   },
   {
    "duration": 18,
    "start_time": "2022-02-01T17:39:24.040Z"
   },
   {
    "duration": 8,
    "start_time": "2022-02-01T17:39:24.060Z"
   },
   {
    "duration": 43,
    "start_time": "2022-02-01T17:39:24.070Z"
   },
   {
    "duration": 30,
    "start_time": "2022-02-01T17:39:24.115Z"
   },
   {
    "duration": 7,
    "start_time": "2022-02-01T17:39:24.147Z"
   },
   {
    "duration": 17,
    "start_time": "2022-02-01T17:39:24.155Z"
   },
   {
    "duration": 7,
    "start_time": "2022-02-01T17:39:24.174Z"
   },
   {
    "duration": 34,
    "start_time": "2022-02-01T17:39:24.183Z"
   },
   {
    "duration": 13,
    "start_time": "2022-02-01T17:39:24.219Z"
   },
   {
    "duration": 9,
    "start_time": "2022-02-01T17:39:24.234Z"
   },
   {
    "duration": 10,
    "start_time": "2022-02-01T17:39:24.245Z"
   },
   {
    "duration": 82,
    "start_time": "2022-02-01T17:39:24.256Z"
   },
   {
    "duration": 14,
    "start_time": "2022-02-01T17:39:24.340Z"
   },
   {
    "duration": 7,
    "start_time": "2022-02-01T17:39:24.356Z"
   },
   {
    "duration": 16,
    "start_time": "2022-02-01T17:39:24.365Z"
   },
   {
    "duration": 34,
    "start_time": "2022-02-01T17:39:24.382Z"
   },
   {
    "duration": 16,
    "start_time": "2022-02-01T17:39:24.417Z"
   },
   {
    "duration": 17,
    "start_time": "2022-02-01T17:39:24.435Z"
   },
   {
    "duration": 10,
    "start_time": "2022-02-01T17:39:24.455Z"
   },
   {
    "duration": 10,
    "start_time": "2022-02-01T17:39:24.467Z"
   },
   {
    "duration": 6,
    "start_time": "2022-02-01T17:39:24.512Z"
   },
   {
    "duration": 6,
    "start_time": "2022-02-01T17:39:24.520Z"
   },
   {
    "duration": 180,
    "start_time": "2022-02-01T17:39:24.528Z"
   },
   {
    "duration": 9,
    "start_time": "2022-02-01T17:39:24.711Z"
   },
   {
    "duration": 25,
    "start_time": "2022-02-01T17:44:43.610Z"
   },
   {
    "duration": 10,
    "start_time": "2022-02-01T17:45:02.599Z"
   },
   {
    "duration": 7,
    "start_time": "2022-02-01T19:33:58.957Z"
   },
   {
    "duration": 25,
    "start_time": "2022-02-01T19:35:10.106Z"
   },
   {
    "duration": 9,
    "start_time": "2022-02-01T19:35:10.578Z"
   },
   {
    "duration": 6,
    "start_time": "2022-02-01T19:35:12.728Z"
   },
   {
    "duration": 347,
    "start_time": "2022-02-01T19:37:57.841Z"
   },
   {
    "duration": 4,
    "start_time": "2022-02-01T19:39:01.456Z"
   },
   {
    "duration": 245,
    "start_time": "2022-02-01T19:39:15.634Z"
   },
   {
    "duration": 648,
    "start_time": "2022-02-01T19:40:27.616Z"
   },
   {
    "duration": 5,
    "start_time": "2022-02-01T19:43:39.413Z"
   },
   {
    "duration": 11,
    "start_time": "2022-02-01T19:44:02.206Z"
   },
   {
    "duration": 238,
    "start_time": "2022-02-01T19:44:29.546Z"
   },
   {
    "duration": 7,
    "start_time": "2022-02-01T19:45:03.517Z"
   },
   {
    "duration": 11,
    "start_time": "2022-02-01T19:45:06.049Z"
   },
   {
    "duration": 39,
    "start_time": "2022-02-01T19:51:19.251Z"
   },
   {
    "duration": 40,
    "start_time": "2022-02-01T19:58:37.139Z"
   },
   {
    "duration": 58,
    "start_time": "2022-02-01T19:59:54.669Z"
   },
   {
    "duration": 72,
    "start_time": "2022-02-01T20:00:00.946Z"
   },
   {
    "duration": 70,
    "start_time": "2022-02-01T20:00:34.718Z"
   },
   {
    "duration": 1033,
    "start_time": "2022-02-01T20:00:54.389Z"
   },
   {
    "duration": 388,
    "start_time": "2022-02-01T20:00:55.426Z"
   },
   {
    "duration": 12,
    "start_time": "2022-02-01T20:00:55.818Z"
   },
   {
    "duration": 22,
    "start_time": "2022-02-01T20:00:55.832Z"
   },
   {
    "duration": 16,
    "start_time": "2022-02-01T20:00:55.855Z"
   },
   {
    "duration": 8,
    "start_time": "2022-02-01T20:00:55.873Z"
   },
   {
    "duration": 43,
    "start_time": "2022-02-01T20:00:55.882Z"
   },
   {
    "duration": 28,
    "start_time": "2022-02-01T20:00:55.927Z"
   },
   {
    "duration": 7,
    "start_time": "2022-02-01T20:00:55.957Z"
   },
   {
    "duration": 14,
    "start_time": "2022-02-01T20:00:55.965Z"
   },
   {
    "duration": 32,
    "start_time": "2022-02-01T20:00:55.981Z"
   },
   {
    "duration": 6,
    "start_time": "2022-02-01T20:00:56.014Z"
   },
   {
    "duration": 12,
    "start_time": "2022-02-01T20:00:56.021Z"
   },
   {
    "duration": 7,
    "start_time": "2022-02-01T20:00:56.035Z"
   },
   {
    "duration": 7,
    "start_time": "2022-02-01T20:00:56.044Z"
   },
   {
    "duration": 86,
    "start_time": "2022-02-01T20:00:56.053Z"
   },
   {
    "duration": 14,
    "start_time": "2022-02-01T20:00:56.141Z"
   },
   {
    "duration": 8,
    "start_time": "2022-02-01T20:00:56.156Z"
   },
   {
    "duration": 12,
    "start_time": "2022-02-01T20:00:56.166Z"
   },
   {
    "duration": 33,
    "start_time": "2022-02-01T20:00:56.180Z"
   },
   {
    "duration": 16,
    "start_time": "2022-02-01T20:00:56.214Z"
   },
   {
    "duration": 15,
    "start_time": "2022-02-01T20:00:56.231Z"
   },
   {
    "duration": 9,
    "start_time": "2022-02-01T20:00:56.248Z"
   },
   {
    "duration": 9,
    "start_time": "2022-02-01T20:00:56.259Z"
   },
   {
    "duration": 5,
    "start_time": "2022-02-01T20:00:56.269Z"
   },
   {
    "duration": 39,
    "start_time": "2022-02-01T20:00:56.275Z"
   },
   {
    "duration": 189,
    "start_time": "2022-02-01T20:00:56.316Z"
   },
   {
    "duration": 22,
    "start_time": "2022-02-01T20:00:56.512Z"
   },
   {
    "duration": 9,
    "start_time": "2022-02-01T20:00:56.536Z"
   },
   {
    "duration": 95,
    "start_time": "2022-02-01T20:00:56.546Z"
   },
   {
    "duration": 63,
    "start_time": "2022-02-01T20:03:57.934Z"
   },
   {
    "duration": 288,
    "start_time": "2022-02-02T06:40:50.624Z"
   },
   {
    "duration": 1101,
    "start_time": "2022-02-02T06:40:58.698Z"
   },
   {
    "duration": 393,
    "start_time": "2022-02-02T06:40:59.801Z"
   },
   {
    "duration": 12,
    "start_time": "2022-02-02T06:41:00.196Z"
   },
   {
    "duration": 26,
    "start_time": "2022-02-02T06:41:00.210Z"
   },
   {
    "duration": 17,
    "start_time": "2022-02-02T06:41:00.238Z"
   },
   {
    "duration": 8,
    "start_time": "2022-02-02T06:41:00.256Z"
   },
   {
    "duration": 28,
    "start_time": "2022-02-02T06:41:00.266Z"
   },
   {
    "duration": 41,
    "start_time": "2022-02-02T06:41:00.297Z"
   },
   {
    "duration": 7,
    "start_time": "2022-02-02T06:41:00.340Z"
   },
   {
    "duration": 21,
    "start_time": "2022-02-02T06:41:00.349Z"
   },
   {
    "duration": 9,
    "start_time": "2022-02-02T06:41:00.371Z"
   },
   {
    "duration": 33,
    "start_time": "2022-02-02T06:41:00.381Z"
   },
   {
    "duration": 24,
    "start_time": "2022-02-02T06:41:00.416Z"
   },
   {
    "duration": 36,
    "start_time": "2022-02-02T06:41:00.442Z"
   },
   {
    "duration": 33,
    "start_time": "2022-02-02T06:41:00.479Z"
   },
   {
    "duration": 78,
    "start_time": "2022-02-02T06:41:00.514Z"
   },
   {
    "duration": 14,
    "start_time": "2022-02-02T06:41:00.593Z"
   },
   {
    "duration": 17,
    "start_time": "2022-02-02T06:41:00.609Z"
   },
   {
    "duration": 29,
    "start_time": "2022-02-02T06:41:00.627Z"
   },
   {
    "duration": 15,
    "start_time": "2022-02-02T06:41:00.658Z"
   },
   {
    "duration": 17,
    "start_time": "2022-02-02T06:41:00.675Z"
   },
   {
    "duration": 26,
    "start_time": "2022-02-02T06:41:00.693Z"
   },
   {
    "duration": 14,
    "start_time": "2022-02-02T06:41:00.722Z"
   },
   {
    "duration": 12,
    "start_time": "2022-02-02T06:41:00.738Z"
   },
   {
    "duration": 15,
    "start_time": "2022-02-02T06:41:00.752Z"
   },
   {
    "duration": 14,
    "start_time": "2022-02-02T06:41:00.769Z"
   },
   {
    "duration": 180,
    "start_time": "2022-02-02T06:41:00.784Z"
   },
   {
    "duration": 24,
    "start_time": "2022-02-02T06:41:00.966Z"
   },
   {
    "duration": 25,
    "start_time": "2022-02-02T06:41:00.992Z"
   },
   {
    "duration": 359,
    "start_time": "2022-02-02T06:41:01.018Z"
   },
   {
    "duration": 260,
    "start_time": "2022-02-02T06:41:34.587Z"
   },
   {
    "duration": 365,
    "start_time": "2022-02-02T06:41:42.437Z"
   },
   {
    "duration": 37,
    "start_time": "2022-02-02T06:42:00.261Z"
   },
   {
    "duration": 38,
    "start_time": "2022-02-02T06:46:07.729Z"
   },
   {
    "duration": 44,
    "start_time": "2022-02-02T06:46:19.745Z"
   },
   {
    "duration": 1120,
    "start_time": "2022-02-02T06:48:27.631Z"
   },
   {
    "duration": 47,
    "start_time": "2022-02-02T06:48:36.973Z"
   },
   {
    "duration": 46,
    "start_time": "2022-02-02T06:48:43.085Z"
   },
   {
    "duration": 51,
    "start_time": "2022-02-02T06:49:05.131Z"
   },
   {
    "duration": 50,
    "start_time": "2022-02-02T06:58:50.013Z"
   },
   {
    "duration": 7,
    "start_time": "2022-02-02T07:02:27.289Z"
   },
   {
    "duration": 244,
    "start_time": "2022-02-02T07:07:46.807Z"
   },
   {
    "duration": 357,
    "start_time": "2022-02-02T07:08:11.344Z"
   },
   {
    "duration": 39,
    "start_time": "2022-02-02T07:09:29.894Z"
   },
   {
    "duration": 40,
    "start_time": "2022-02-02T07:10:30.598Z"
   },
   {
    "duration": 8,
    "start_time": "2022-02-02T07:11:20.780Z"
   },
   {
    "duration": 334,
    "start_time": "2022-02-02T07:15:35.272Z"
   },
   {
    "duration": 268,
    "start_time": "2022-02-02T07:17:51.657Z"
   },
   {
    "duration": 1010,
    "start_time": "2022-02-02T07:18:05.317Z"
   },
   {
    "duration": 371,
    "start_time": "2022-02-02T07:18:06.329Z"
   },
   {
    "duration": 12,
    "start_time": "2022-02-02T07:18:06.702Z"
   },
   {
    "duration": 20,
    "start_time": "2022-02-02T07:18:06.715Z"
   },
   {
    "duration": 15,
    "start_time": "2022-02-02T07:18:06.736Z"
   },
   {
    "duration": 8,
    "start_time": "2022-02-02T07:18:06.752Z"
   },
   {
    "duration": 16,
    "start_time": "2022-02-02T07:18:06.761Z"
   },
   {
    "duration": 56,
    "start_time": "2022-02-02T07:18:06.779Z"
   },
   {
    "duration": 7,
    "start_time": "2022-02-02T07:18:06.838Z"
   },
   {
    "duration": 16,
    "start_time": "2022-02-02T07:18:06.846Z"
   },
   {
    "duration": 8,
    "start_time": "2022-02-02T07:18:06.863Z"
   },
   {
    "duration": 7,
    "start_time": "2022-02-02T07:18:06.872Z"
   },
   {
    "duration": 40,
    "start_time": "2022-02-02T07:18:06.881Z"
   },
   {
    "duration": 7,
    "start_time": "2022-02-02T07:18:06.922Z"
   },
   {
    "duration": 8,
    "start_time": "2022-02-02T07:18:06.931Z"
   },
   {
    "duration": 96,
    "start_time": "2022-02-02T07:18:06.940Z"
   },
   {
    "duration": 13,
    "start_time": "2022-02-02T07:18:07.038Z"
   },
   {
    "duration": 9,
    "start_time": "2022-02-02T07:18:07.053Z"
   },
   {
    "duration": 14,
    "start_time": "2022-02-02T07:18:07.064Z"
   },
   {
    "duration": 33,
    "start_time": "2022-02-02T07:18:07.080Z"
   },
   {
    "duration": 11,
    "start_time": "2022-02-02T07:18:07.115Z"
   },
   {
    "duration": 10,
    "start_time": "2022-02-02T07:18:07.128Z"
   },
   {
    "duration": 10,
    "start_time": "2022-02-02T07:18:07.141Z"
   },
   {
    "duration": 10,
    "start_time": "2022-02-02T07:18:07.153Z"
   },
   {
    "duration": 5,
    "start_time": "2022-02-02T07:18:07.165Z"
   },
   {
    "duration": 41,
    "start_time": "2022-02-02T07:18:07.171Z"
   },
   {
    "duration": 161,
    "start_time": "2022-02-02T07:18:07.214Z"
   },
   {
    "duration": 22,
    "start_time": "2022-02-02T07:18:07.377Z"
   },
   {
    "duration": 18,
    "start_time": "2022-02-02T07:18:07.400Z"
   },
   {
    "duration": 62,
    "start_time": "2022-02-02T07:18:07.420Z"
   },
   {
    "duration": 65,
    "start_time": "2022-02-02T07:18:07.484Z"
   },
   {
    "duration": 68,
    "start_time": "2022-02-02T07:18:07.551Z"
   },
   {
    "duration": 44,
    "start_time": "2022-02-02T08:17:18.490Z"
   },
   {
    "duration": 345,
    "start_time": "2022-02-02T09:05:04.451Z"
   },
   {
    "duration": 77,
    "start_time": "2022-02-02T09:05:07.801Z"
   },
   {
    "duration": 268,
    "start_time": "2022-02-02T09:06:33.531Z"
   },
   {
    "duration": 3,
    "start_time": "2022-02-02T09:22:16.455Z"
   },
   {
    "duration": 46,
    "start_time": "2022-02-02T09:22:17.635Z"
   },
   {
    "duration": 44,
    "start_time": "2022-02-02T09:27:37.966Z"
   },
   {
    "duration": 47,
    "start_time": "2022-02-02T09:29:36.476Z"
   },
   {
    "duration": 11,
    "start_time": "2022-02-02T09:31:28.584Z"
   },
   {
    "duration": 11,
    "start_time": "2022-02-02T09:31:32.999Z"
   },
   {
    "duration": 1036,
    "start_time": "2022-02-02T11:21:57.697Z"
   },
   {
    "duration": 371,
    "start_time": "2022-02-02T11:21:58.735Z"
   },
   {
    "duration": 11,
    "start_time": "2022-02-02T11:21:59.108Z"
   },
   {
    "duration": 20,
    "start_time": "2022-02-02T11:21:59.121Z"
   },
   {
    "duration": 15,
    "start_time": "2022-02-02T11:21:59.143Z"
   },
   {
    "duration": 8,
    "start_time": "2022-02-02T11:21:59.160Z"
   },
   {
    "duration": 19,
    "start_time": "2022-02-02T11:21:59.169Z"
   },
   {
    "duration": 28,
    "start_time": "2022-02-02T11:21:59.212Z"
   },
   {
    "duration": 7,
    "start_time": "2022-02-02T11:21:59.241Z"
   },
   {
    "duration": 16,
    "start_time": "2022-02-02T11:21:59.250Z"
   },
   {
    "duration": 9,
    "start_time": "2022-02-02T11:21:59.268Z"
   },
   {
    "duration": 34,
    "start_time": "2022-02-02T11:21:59.279Z"
   },
   {
    "duration": 12,
    "start_time": "2022-02-02T11:21:59.316Z"
   },
   {
    "duration": 8,
    "start_time": "2022-02-02T11:21:59.330Z"
   },
   {
    "duration": 9,
    "start_time": "2022-02-02T11:21:59.340Z"
   },
   {
    "duration": 110,
    "start_time": "2022-02-02T11:21:59.351Z"
   },
   {
    "duration": 17,
    "start_time": "2022-02-02T11:21:59.463Z"
   },
   {
    "duration": 10,
    "start_time": "2022-02-02T11:21:59.481Z"
   },
   {
    "duration": 15,
    "start_time": "2022-02-02T11:21:59.513Z"
   },
   {
    "duration": 15,
    "start_time": "2022-02-02T11:21:59.530Z"
   },
   {
    "duration": 13,
    "start_time": "2022-02-02T11:21:59.547Z"
   },
   {
    "duration": 13,
    "start_time": "2022-02-02T11:21:59.562Z"
   },
   {
    "duration": 43,
    "start_time": "2022-02-02T11:21:59.578Z"
   },
   {
    "duration": 14,
    "start_time": "2022-02-02T11:21:59.623Z"
   },
   {
    "duration": 10,
    "start_time": "2022-02-02T11:21:59.638Z"
   },
   {
    "duration": 10,
    "start_time": "2022-02-02T11:21:59.650Z"
   },
   {
    "duration": 190,
    "start_time": "2022-02-02T11:21:59.661Z"
   },
   {
    "duration": 23,
    "start_time": "2022-02-02T11:21:59.853Z"
   },
   {
    "duration": 10,
    "start_time": "2022-02-02T11:21:59.877Z"
   },
   {
    "duration": 80,
    "start_time": "2022-02-02T11:21:59.888Z"
   },
   {
    "duration": 52,
    "start_time": "2022-02-02T11:21:59.970Z"
   },
   {
    "duration": 3,
    "start_time": "2022-02-02T11:22:00.023Z"
   },
   {
    "duration": 60,
    "start_time": "2022-02-02T11:22:00.027Z"
   },
   {
    "duration": 11,
    "start_time": "2022-02-02T11:22:00.089Z"
   },
   {
    "duration": 319,
    "start_time": "2022-02-02T11:23:43.974Z"
   },
   {
    "duration": 270,
    "start_time": "2022-02-02T11:24:21.190Z"
   },
   {
    "duration": 35,
    "start_time": "2022-02-02T11:24:48.349Z"
   },
   {
    "duration": 31,
    "start_time": "2022-02-02T11:25:00.989Z"
   },
   {
    "duration": 261,
    "start_time": "2022-02-02T11:27:01.593Z"
   },
   {
    "duration": 31,
    "start_time": "2022-02-02T11:27:06.005Z"
   },
   {
    "duration": 73,
    "start_time": "2022-02-02T11:27:30.970Z"
   },
   {
    "duration": 267,
    "start_time": "2022-02-02T11:36:06.103Z"
   },
   {
    "duration": 236,
    "start_time": "2022-02-02T11:36:49.281Z"
   },
   {
    "duration": 5,
    "start_time": "2022-02-02T11:37:16.088Z"
   },
   {
    "duration": 237,
    "start_time": "2022-02-02T11:37:28.742Z"
   },
   {
    "duration": 1014,
    "start_time": "2022-02-02T11:37:41.176Z"
   },
   {
    "duration": 388,
    "start_time": "2022-02-02T11:37:42.192Z"
   },
   {
    "duration": 11,
    "start_time": "2022-02-02T11:37:42.582Z"
   },
   {
    "duration": 22,
    "start_time": "2022-02-02T11:37:42.595Z"
   },
   {
    "duration": 17,
    "start_time": "2022-02-02T11:37:42.619Z"
   },
   {
    "duration": 8,
    "start_time": "2022-02-02T11:37:42.638Z"
   },
   {
    "duration": 18,
    "start_time": "2022-02-02T11:37:42.648Z"
   },
   {
    "duration": 51,
    "start_time": "2022-02-02T11:37:42.669Z"
   },
   {
    "duration": 8,
    "start_time": "2022-02-02T11:37:42.722Z"
   },
   {
    "duration": 16,
    "start_time": "2022-02-02T11:37:42.731Z"
   },
   {
    "duration": 7,
    "start_time": "2022-02-02T11:37:42.749Z"
   },
   {
    "duration": 8,
    "start_time": "2022-02-02T11:37:42.757Z"
   },
   {
    "duration": 10,
    "start_time": "2022-02-02T11:37:42.767Z"
   },
   {
    "duration": 33,
    "start_time": "2022-02-02T11:37:42.779Z"
   },
   {
    "duration": 7,
    "start_time": "2022-02-02T11:37:42.814Z"
   },
   {
    "duration": 90,
    "start_time": "2022-02-02T11:37:42.822Z"
   },
   {
    "duration": 14,
    "start_time": "2022-02-02T11:37:42.914Z"
   },
   {
    "duration": 7,
    "start_time": "2022-02-02T11:37:42.930Z"
   },
   {
    "duration": 16,
    "start_time": "2022-02-02T11:37:42.939Z"
   },
   {
    "duration": 12,
    "start_time": "2022-02-02T11:37:42.957Z"
   },
   {
    "duration": 10,
    "start_time": "2022-02-02T11:37:42.970Z"
   },
   {
    "duration": 35,
    "start_time": "2022-02-02T11:37:42.982Z"
   },
   {
    "duration": 10,
    "start_time": "2022-02-02T11:37:43.020Z"
   },
   {
    "duration": 9,
    "start_time": "2022-02-02T11:37:43.032Z"
   },
   {
    "duration": 6,
    "start_time": "2022-02-02T11:37:43.043Z"
   },
   {
    "duration": 5,
    "start_time": "2022-02-02T11:37:43.051Z"
   },
   {
    "duration": 201,
    "start_time": "2022-02-02T11:37:43.058Z"
   },
   {
    "duration": 24,
    "start_time": "2022-02-02T11:37:43.260Z"
   },
   {
    "duration": 12,
    "start_time": "2022-02-02T11:37:43.285Z"
   },
   {
    "duration": 64,
    "start_time": "2022-02-02T11:37:43.313Z"
   },
   {
    "duration": 55,
    "start_time": "2022-02-02T11:37:43.378Z"
   },
   {
    "duration": 3,
    "start_time": "2022-02-02T11:37:43.434Z"
   },
   {
    "duration": 52,
    "start_time": "2022-02-02T11:37:43.438Z"
   },
   {
    "duration": 46,
    "start_time": "2022-02-02T11:37:43.491Z"
   },
   {
    "duration": 12,
    "start_time": "2022-02-02T11:37:43.539Z"
   },
   {
    "duration": 367,
    "start_time": "2022-02-02T11:38:33.740Z"
   },
   {
    "duration": 236,
    "start_time": "2022-02-02T11:39:33.824Z"
   },
   {
    "duration": 11,
    "start_time": "2022-02-02T11:40:03.377Z"
   },
   {
    "duration": 8,
    "start_time": "2022-02-02T11:40:40.942Z"
   },
   {
    "duration": 285,
    "start_time": "2022-02-02T11:51:36.652Z"
   },
   {
    "duration": 1033,
    "start_time": "2022-02-02T11:52:15.257Z"
   },
   {
    "duration": 392,
    "start_time": "2022-02-02T11:52:16.291Z"
   },
   {
    "duration": 12,
    "start_time": "2022-02-02T11:52:16.685Z"
   },
   {
    "duration": 21,
    "start_time": "2022-02-02T11:52:16.699Z"
   },
   {
    "duration": 16,
    "start_time": "2022-02-02T11:52:16.722Z"
   },
   {
    "duration": 8,
    "start_time": "2022-02-02T11:52:16.740Z"
   },
   {
    "duration": 18,
    "start_time": "2022-02-02T11:52:16.750Z"
   },
   {
    "duration": 54,
    "start_time": "2022-02-02T11:52:16.771Z"
   },
   {
    "duration": 8,
    "start_time": "2022-02-02T11:52:16.827Z"
   },
   {
    "duration": 16,
    "start_time": "2022-02-02T11:52:16.836Z"
   },
   {
    "duration": 8,
    "start_time": "2022-02-02T11:52:16.853Z"
   },
   {
    "duration": 12,
    "start_time": "2022-02-02T11:52:16.862Z"
   },
   {
    "duration": 38,
    "start_time": "2022-02-02T11:52:16.875Z"
   },
   {
    "duration": 21,
    "start_time": "2022-02-02T11:52:16.915Z"
   },
   {
    "duration": 20,
    "start_time": "2022-02-02T11:52:16.938Z"
   },
   {
    "duration": 80,
    "start_time": "2022-02-02T11:52:16.959Z"
   },
   {
    "duration": 14,
    "start_time": "2022-02-02T11:52:17.040Z"
   },
   {
    "duration": 17,
    "start_time": "2022-02-02T11:52:17.056Z"
   },
   {
    "duration": 17,
    "start_time": "2022-02-02T11:52:17.074Z"
   },
   {
    "duration": 26,
    "start_time": "2022-02-02T11:52:17.092Z"
   },
   {
    "duration": 12,
    "start_time": "2022-02-02T11:52:17.120Z"
   },
   {
    "duration": 10,
    "start_time": "2022-02-02T11:52:17.134Z"
   },
   {
    "duration": 9,
    "start_time": "2022-02-02T11:52:17.147Z"
   },
   {
    "duration": 11,
    "start_time": "2022-02-02T11:52:17.158Z"
   },
   {
    "duration": 8,
    "start_time": "2022-02-02T11:52:17.171Z"
   },
   {
    "duration": 44,
    "start_time": "2022-02-02T11:52:17.180Z"
   },
   {
    "duration": 185,
    "start_time": "2022-02-02T11:52:17.226Z"
   },
   {
    "duration": 23,
    "start_time": "2022-02-02T11:52:17.412Z"
   },
   {
    "duration": 9,
    "start_time": "2022-02-02T11:52:17.437Z"
   },
   {
    "duration": 82,
    "start_time": "2022-02-02T11:52:17.447Z"
   },
   {
    "duration": 45,
    "start_time": "2022-02-02T11:52:17.531Z"
   },
   {
    "duration": 3,
    "start_time": "2022-02-02T11:52:17.578Z"
   },
   {
    "duration": 72,
    "start_time": "2022-02-02T11:52:17.583Z"
   },
   {
    "duration": 32,
    "start_time": "2022-02-02T11:52:17.657Z"
   },
   {
    "duration": 5,
    "start_time": "2022-02-02T11:52:17.690Z"
   },
   {
    "duration": 24,
    "start_time": "2022-02-02T11:52:17.697Z"
   },
   {
    "duration": 11,
    "start_time": "2022-02-02T11:52:17.722Z"
   },
   {
    "duration": 14,
    "start_time": "2022-02-02T11:52:46.972Z"
   },
   {
    "duration": 16,
    "start_time": "2022-02-02T11:52:55.510Z"
   },
   {
    "duration": 308,
    "start_time": "2022-02-02T11:53:32.553Z"
   },
   {
    "duration": 8,
    "start_time": "2022-02-02T11:58:52.279Z"
   },
   {
    "duration": 5921,
    "start_time": "2022-02-02T11:59:14.428Z"
   },
   {
    "duration": 1017,
    "start_time": "2022-02-02T11:59:25.674Z"
   },
   {
    "duration": 399,
    "start_time": "2022-02-02T11:59:26.693Z"
   },
   {
    "duration": 12,
    "start_time": "2022-02-02T11:59:27.093Z"
   },
   {
    "duration": 21,
    "start_time": "2022-02-02T11:59:27.107Z"
   },
   {
    "duration": 17,
    "start_time": "2022-02-02T11:59:27.130Z"
   },
   {
    "duration": 8,
    "start_time": "2022-02-02T11:59:27.149Z"
   },
   {
    "duration": 19,
    "start_time": "2022-02-02T11:59:27.158Z"
   },
   {
    "duration": 47,
    "start_time": "2022-02-02T11:59:27.179Z"
   },
   {
    "duration": 6,
    "start_time": "2022-02-02T11:59:27.228Z"
   },
   {
    "duration": 16,
    "start_time": "2022-02-02T11:59:27.236Z"
   },
   {
    "duration": 7,
    "start_time": "2022-02-02T11:59:27.253Z"
   },
   {
    "duration": 6,
    "start_time": "2022-02-02T11:59:27.262Z"
   },
   {
    "duration": 12,
    "start_time": "2022-02-02T11:59:27.270Z"
   },
   {
    "duration": 6,
    "start_time": "2022-02-02T11:59:27.312Z"
   },
   {
    "duration": 11,
    "start_time": "2022-02-02T11:59:27.320Z"
   },
   {
    "duration": 91,
    "start_time": "2022-02-02T11:59:27.333Z"
   },
   {
    "duration": 14,
    "start_time": "2022-02-02T11:59:27.426Z"
   },
   {
    "duration": 8,
    "start_time": "2022-02-02T11:59:27.441Z"
   },
   {
    "duration": 14,
    "start_time": "2022-02-02T11:59:27.450Z"
   },
   {
    "duration": 12,
    "start_time": "2022-02-02T11:59:27.466Z"
   },
   {
    "duration": 39,
    "start_time": "2022-02-02T11:59:27.480Z"
   },
   {
    "duration": 11,
    "start_time": "2022-02-02T11:59:27.521Z"
   },
   {
    "duration": 10,
    "start_time": "2022-02-02T11:59:27.535Z"
   },
   {
    "duration": 9,
    "start_time": "2022-02-02T11:59:27.547Z"
   },
   {
    "duration": 7,
    "start_time": "2022-02-02T11:59:27.558Z"
   },
   {
    "duration": 5,
    "start_time": "2022-02-02T11:59:27.567Z"
   },
   {
    "duration": 208,
    "start_time": "2022-02-02T11:59:27.573Z"
   },
   {
    "duration": 31,
    "start_time": "2022-02-02T11:59:27.783Z"
   },
   {
    "duration": 10,
    "start_time": "2022-02-02T11:59:27.816Z"
   },
   {
    "duration": 66,
    "start_time": "2022-02-02T11:59:27.827Z"
   },
   {
    "duration": 55,
    "start_time": "2022-02-02T11:59:27.895Z"
   },
   {
    "duration": 3,
    "start_time": "2022-02-02T11:59:27.951Z"
   },
   {
    "duration": 65,
    "start_time": "2022-02-02T11:59:27.955Z"
   },
   {
    "duration": 32,
    "start_time": "2022-02-02T11:59:28.022Z"
   },
   {
    "duration": 10,
    "start_time": "2022-02-02T11:59:28.056Z"
   },
   {
    "duration": 12,
    "start_time": "2022-02-02T11:59:28.067Z"
   },
   {
    "duration": 34,
    "start_time": "2022-02-02T11:59:28.081Z"
   },
   {
    "duration": 32,
    "start_time": "2022-02-02T13:07:38.373Z"
   },
   {
    "duration": 831,
    "start_time": "2022-02-02T13:09:41.511Z"
   },
   {
    "duration": 7,
    "start_time": "2022-02-02T13:09:51.185Z"
   },
   {
    "duration": 27,
    "start_time": "2022-02-02T13:09:59.752Z"
   },
   {
    "duration": 1098,
    "start_time": "2022-02-02T13:10:28.499Z"
   },
   {
    "duration": 397,
    "start_time": "2022-02-02T13:10:29.599Z"
   },
   {
    "duration": 12,
    "start_time": "2022-02-02T13:10:29.998Z"
   },
   {
    "duration": 21,
    "start_time": "2022-02-02T13:10:30.012Z"
   },
   {
    "duration": 17,
    "start_time": "2022-02-02T13:10:30.035Z"
   },
   {
    "duration": 9,
    "start_time": "2022-02-02T13:10:30.054Z"
   },
   {
    "duration": 26,
    "start_time": "2022-02-02T13:10:30.065Z"
   },
   {
    "duration": 29,
    "start_time": "2022-02-02T13:10:30.113Z"
   },
   {
    "duration": 8,
    "start_time": "2022-02-02T13:10:30.144Z"
   },
   {
    "duration": 27,
    "start_time": "2022-02-02T13:10:30.154Z"
   },
   {
    "duration": 11,
    "start_time": "2022-02-02T13:10:30.183Z"
   },
   {
    "duration": 22,
    "start_time": "2022-02-02T13:10:30.196Z"
   },
   {
    "duration": 23,
    "start_time": "2022-02-02T13:10:30.220Z"
   },
   {
    "duration": 17,
    "start_time": "2022-02-02T13:10:30.245Z"
   },
   {
    "duration": 17,
    "start_time": "2022-02-02T13:10:30.264Z"
   },
   {
    "duration": 90,
    "start_time": "2022-02-02T13:10:30.283Z"
   },
   {
    "duration": 15,
    "start_time": "2022-02-02T13:10:30.375Z"
   },
   {
    "duration": 21,
    "start_time": "2022-02-02T13:10:30.391Z"
   },
   {
    "duration": 19,
    "start_time": "2022-02-02T13:10:30.414Z"
   },
   {
    "duration": 24,
    "start_time": "2022-02-02T13:10:30.435Z"
   },
   {
    "duration": 15,
    "start_time": "2022-02-02T13:10:30.462Z"
   },
   {
    "duration": 14,
    "start_time": "2022-02-02T13:10:30.479Z"
   },
   {
    "duration": 12,
    "start_time": "2022-02-02T13:10:30.513Z"
   },
   {
    "duration": 20,
    "start_time": "2022-02-02T13:10:30.528Z"
   },
   {
    "duration": 13,
    "start_time": "2022-02-02T13:10:30.550Z"
   },
   {
    "duration": 19,
    "start_time": "2022-02-02T13:10:30.565Z"
   },
   {
    "duration": 183,
    "start_time": "2022-02-02T13:10:30.586Z"
   },
   {
    "duration": 25,
    "start_time": "2022-02-02T13:10:30.771Z"
   },
   {
    "duration": 25,
    "start_time": "2022-02-02T13:10:30.797Z"
   },
   {
    "duration": 83,
    "start_time": "2022-02-02T13:10:30.824Z"
   },
   {
    "duration": 46,
    "start_time": "2022-02-02T13:10:30.909Z"
   },
   {
    "duration": 3,
    "start_time": "2022-02-02T13:10:30.957Z"
   },
   {
    "duration": 70,
    "start_time": "2022-02-02T13:10:30.961Z"
   },
   {
    "duration": 36,
    "start_time": "2022-02-02T13:10:31.032Z"
   },
   {
    "duration": 20,
    "start_time": "2022-02-02T13:10:31.069Z"
   },
   {
    "duration": 31,
    "start_time": "2022-02-02T13:10:31.090Z"
   },
   {
    "duration": 7,
    "start_time": "2022-02-02T13:10:31.123Z"
   },
   {
    "duration": 5,
    "start_time": "2022-02-02T13:32:40.222Z"
   },
   {
    "duration": 118,
    "start_time": "2022-02-02T13:32:42.221Z"
   },
   {
    "duration": 4,
    "start_time": "2022-02-02T13:33:34.808Z"
   },
   {
    "duration": 115,
    "start_time": "2022-02-02T13:33:35.461Z"
   },
   {
    "duration": 14,
    "start_time": "2022-02-02T13:33:37.310Z"
   },
   {
    "duration": 19,
    "start_time": "2022-02-02T13:33:44.919Z"
   },
   {
    "duration": 9,
    "start_time": "2022-02-02T13:35:10.752Z"
   },
   {
    "duration": 4,
    "start_time": "2022-02-02T13:36:58.855Z"
   },
   {
    "duration": 119,
    "start_time": "2022-02-02T13:37:02.424Z"
   },
   {
    "duration": 8,
    "start_time": "2022-02-02T13:37:03.248Z"
   },
   {
    "duration": 4,
    "start_time": "2022-02-02T13:37:24.578Z"
   },
   {
    "duration": 120,
    "start_time": "2022-02-02T13:37:25.229Z"
   },
   {
    "duration": 9,
    "start_time": "2022-02-02T13:37:25.803Z"
   },
   {
    "duration": 5,
    "start_time": "2022-02-02T13:38:18.051Z"
   },
   {
    "duration": 118,
    "start_time": "2022-02-02T13:38:18.558Z"
   },
   {
    "duration": 9,
    "start_time": "2022-02-02T13:38:19.460Z"
   },
   {
    "duration": 18,
    "start_time": "2022-02-02T13:38:21.046Z"
   },
   {
    "duration": 337,
    "start_time": "2022-02-02T14:27:24.021Z"
   },
   {
    "duration": 245,
    "start_time": "2022-02-02T14:29:14.809Z"
   },
   {
    "duration": 246,
    "start_time": "2022-02-02T14:29:41.074Z"
   },
   {
    "duration": 226,
    "start_time": "2022-02-02T14:30:48.142Z"
   },
   {
    "duration": 219,
    "start_time": "2022-02-02T14:30:59.177Z"
   },
   {
    "duration": 223,
    "start_time": "2022-02-02T14:31:59.737Z"
   },
   {
    "duration": 277,
    "start_time": "2022-02-02T14:32:02.869Z"
   },
   {
    "duration": 8,
    "start_time": "2022-02-02T14:34:14.051Z"
   },
   {
    "duration": 220,
    "start_time": "2022-02-02T14:37:48.102Z"
   },
   {
    "duration": 229,
    "start_time": "2022-02-02T14:38:10.413Z"
   },
   {
    "duration": 214,
    "start_time": "2022-02-02T14:42:33.359Z"
   },
   {
    "duration": 230,
    "start_time": "2022-02-02T14:42:54.824Z"
   },
   {
    "duration": 11,
    "start_time": "2022-02-02T14:45:52.653Z"
   },
   {
    "duration": 10,
    "start_time": "2022-02-02T15:27:16.100Z"
   },
   {
    "duration": 8,
    "start_time": "2022-02-02T15:32:47.762Z"
   },
   {
    "duration": 9,
    "start_time": "2022-02-02T15:33:40.973Z"
   },
   {
    "duration": 10,
    "start_time": "2022-02-02T15:34:36.993Z"
   },
   {
    "duration": 11,
    "start_time": "2022-02-02T15:35:12.832Z"
   },
   {
    "duration": 238,
    "start_time": "2022-02-02T15:36:06.477Z"
   },
   {
    "duration": 10,
    "start_time": "2022-02-02T15:36:23.820Z"
   },
   {
    "duration": 10,
    "start_time": "2022-02-02T15:36:45.679Z"
   },
   {
    "duration": 9,
    "start_time": "2022-02-02T15:36:49.185Z"
   },
   {
    "duration": 21,
    "start_time": "2022-02-02T15:59:16.640Z"
   },
   {
    "duration": 21,
    "start_time": "2022-02-02T16:01:44.914Z"
   },
   {
    "duration": 22,
    "start_time": "2022-02-02T16:07:11.753Z"
   },
   {
    "duration": 243,
    "start_time": "2022-02-02T16:12:08.999Z"
   },
   {
    "duration": 240,
    "start_time": "2022-02-02T16:12:23.110Z"
   },
   {
    "duration": 232,
    "start_time": "2022-02-02T16:14:07.574Z"
   },
   {
    "duration": 239,
    "start_time": "2022-02-02T16:14:15.373Z"
   },
   {
    "duration": 218,
    "start_time": "2022-02-02T16:17:21.714Z"
   },
   {
    "duration": 219,
    "start_time": "2022-02-02T16:17:40.101Z"
   },
   {
    "duration": 296,
    "start_time": "2022-02-02T16:25:07.465Z"
   },
   {
    "duration": 213,
    "start_time": "2022-02-02T16:25:19.465Z"
   },
   {
    "duration": 454,
    "start_time": "2022-02-02T16:26:30.704Z"
   },
   {
    "duration": 224,
    "start_time": "2022-02-02T16:26:38.190Z"
   },
   {
    "duration": 219,
    "start_time": "2022-02-02T16:27:18.929Z"
   },
   {
    "duration": 448,
    "start_time": "2022-02-02T16:46:05.268Z"
   },
   {
    "duration": 255,
    "start_time": "2022-02-02T16:46:43.124Z"
   },
   {
    "duration": 262,
    "start_time": "2022-02-02T16:47:10.454Z"
   },
   {
    "duration": 66,
    "start_time": "2022-02-02T16:50:31.073Z"
   },
   {
    "duration": 262,
    "start_time": "2022-02-02T16:50:39.936Z"
   },
   {
    "duration": 266,
    "start_time": "2022-02-02T17:10:50.310Z"
   },
   {
    "duration": 253,
    "start_time": "2022-02-02T17:11:01.006Z"
   },
   {
    "duration": 324,
    "start_time": "2022-02-02T17:11:52.338Z"
   },
   {
    "duration": 249,
    "start_time": "2022-02-02T17:15:55.329Z"
   },
   {
    "duration": 16,
    "start_time": "2022-02-02T17:45:55.149Z"
   },
   {
    "duration": 243,
    "start_time": "2022-02-02T17:52:20.626Z"
   },
   {
    "duration": 411,
    "start_time": "2022-02-02T17:52:43.536Z"
   },
   {
    "duration": 16,
    "start_time": "2022-02-02T17:53:16.074Z"
   },
   {
    "duration": 404,
    "start_time": "2022-02-02T17:55:46.128Z"
   },
   {
    "duration": 8,
    "start_time": "2022-02-02T18:01:07.201Z"
   },
   {
    "duration": 4,
    "start_time": "2022-02-02T18:14:03.940Z"
   },
   {
    "duration": 5,
    "start_time": "2022-02-02T18:14:39.844Z"
   },
   {
    "duration": 10,
    "start_time": "2022-02-02T18:16:27.221Z"
   },
   {
    "duration": 4,
    "start_time": "2022-02-02T18:16:28.292Z"
   },
   {
    "duration": 20,
    "start_time": "2022-02-02T18:23:55.637Z"
   },
   {
    "duration": 17,
    "start_time": "2022-02-02T18:24:17.481Z"
   },
   {
    "duration": 9,
    "start_time": "2022-02-02T18:27:46.033Z"
   },
   {
    "duration": 4,
    "start_time": "2022-02-02T18:27:46.640Z"
   },
   {
    "duration": 4,
    "start_time": "2022-02-02T18:27:47.301Z"
   },
   {
    "duration": 34,
    "start_time": "2022-02-02T18:53:53.644Z"
   },
   {
    "duration": 1075,
    "start_time": "2022-02-02T18:54:50.609Z"
   },
   {
    "duration": 423,
    "start_time": "2022-02-02T18:54:51.686Z"
   },
   {
    "duration": 12,
    "start_time": "2022-02-02T18:54:52.111Z"
   },
   {
    "duration": 23,
    "start_time": "2022-02-02T18:54:52.125Z"
   },
   {
    "duration": 17,
    "start_time": "2022-02-02T18:54:52.150Z"
   },
   {
    "duration": 8,
    "start_time": "2022-02-02T18:54:52.169Z"
   },
   {
    "duration": 48,
    "start_time": "2022-02-02T18:54:52.178Z"
   },
   {
    "duration": 28,
    "start_time": "2022-02-02T18:54:52.228Z"
   },
   {
    "duration": 6,
    "start_time": "2022-02-02T18:54:52.258Z"
   },
   {
    "duration": 51,
    "start_time": "2022-02-02T18:54:52.266Z"
   },
   {
    "duration": 8,
    "start_time": "2022-02-02T18:54:52.319Z"
   },
   {
    "duration": 10,
    "start_time": "2022-02-02T18:54:52.329Z"
   },
   {
    "duration": 12,
    "start_time": "2022-02-02T18:54:52.340Z"
   },
   {
    "duration": 7,
    "start_time": "2022-02-02T18:54:52.354Z"
   },
   {
    "duration": 7,
    "start_time": "2022-02-02T18:54:52.363Z"
   },
   {
    "duration": 112,
    "start_time": "2022-02-02T18:54:52.372Z"
   },
   {
    "duration": 26,
    "start_time": "2022-02-02T18:54:52.486Z"
   },
   {
    "duration": 8,
    "start_time": "2022-02-02T18:54:52.514Z"
   },
   {
    "duration": 14,
    "start_time": "2022-02-02T18:54:52.523Z"
   },
   {
    "duration": 13,
    "start_time": "2022-02-02T18:54:52.539Z"
   },
   {
    "duration": 11,
    "start_time": "2022-02-02T18:54:52.553Z"
   },
   {
    "duration": 48,
    "start_time": "2022-02-02T18:54:52.565Z"
   },
   {
    "duration": 10,
    "start_time": "2022-02-02T18:54:52.617Z"
   },
   {
    "duration": 10,
    "start_time": "2022-02-02T18:54:52.629Z"
   },
   {
    "duration": 6,
    "start_time": "2022-02-02T18:54:52.641Z"
   },
   {
    "duration": 8,
    "start_time": "2022-02-02T18:54:52.648Z"
   },
   {
    "duration": 232,
    "start_time": "2022-02-02T18:54:52.657Z"
   },
   {
    "duration": 31,
    "start_time": "2022-02-02T18:54:52.891Z"
   },
   {
    "duration": 10,
    "start_time": "2022-02-02T18:54:52.924Z"
   },
   {
    "duration": 84,
    "start_time": "2022-02-02T18:54:52.935Z"
   },
   {
    "duration": 42,
    "start_time": "2022-02-02T18:54:53.021Z"
   },
   {
    "duration": 2,
    "start_time": "2022-02-02T18:54:53.065Z"
   },
   {
    "duration": 71,
    "start_time": "2022-02-02T18:54:53.069Z"
   },
   {
    "duration": 34,
    "start_time": "2022-02-02T18:54:53.142Z"
   },
   {
    "duration": 43,
    "start_time": "2022-02-02T18:54:53.177Z"
   },
   {
    "duration": 4,
    "start_time": "2022-02-02T18:54:53.222Z"
   },
   {
    "duration": 133,
    "start_time": "2022-02-02T18:54:53.228Z"
   },
   {
    "duration": 20,
    "start_time": "2022-02-02T18:54:53.363Z"
   },
   {
    "duration": 279,
    "start_time": "2022-02-02T18:54:53.384Z"
   },
   {
    "duration": 9,
    "start_time": "2022-02-02T18:54:53.665Z"
   },
   {
    "duration": 8,
    "start_time": "2022-02-02T18:54:53.676Z"
   },
   {
    "duration": 32,
    "start_time": "2022-02-02T18:54:53.687Z"
   },
   {
    "duration": 237,
    "start_time": "2022-02-02T18:54:53.721Z"
   },
   {
    "duration": 232,
    "start_time": "2022-02-02T18:54:53.960Z"
   },
   {
    "duration": 32,
    "start_time": "2022-02-02T18:54:54.194Z"
   },
   {
    "duration": 266,
    "start_time": "2022-02-02T18:54:54.228Z"
   },
   {
    "duration": 33,
    "start_time": "2022-02-02T18:54:54.496Z"
   },
   {
    "duration": 27,
    "start_time": "2022-02-02T18:54:54.531Z"
   },
   {
    "duration": 15,
    "start_time": "2022-02-02T18:54:54.561Z"
   },
   {
    "duration": 34,
    "start_time": "2022-02-02T18:54:54.578Z"
   },
   {
    "duration": 5,
    "start_time": "2022-02-02T18:54:54.614Z"
   },
   {
    "duration": 18,
    "start_time": "2022-02-02T18:54:54.620Z"
   },
   {
    "duration": 7,
    "start_time": "2022-02-02T18:54:54.639Z"
   },
   {
    "duration": 7,
    "start_time": "2022-02-02T18:54:54.647Z"
   },
   {
    "duration": 10,
    "start_time": "2022-02-02T18:54:54.656Z"
   },
   {
    "duration": 10,
    "start_time": "2022-02-02T18:56:22.537Z"
   },
   {
    "duration": 11,
    "start_time": "2022-02-02T19:02:42.139Z"
   },
   {
    "duration": 9,
    "start_time": "2022-02-02T19:02:57.718Z"
   },
   {
    "duration": 10,
    "start_time": "2022-02-02T19:03:05.822Z"
   },
   {
    "duration": 9,
    "start_time": "2022-02-02T19:04:12.904Z"
   },
   {
    "duration": 4,
    "start_time": "2022-02-02T19:04:13.514Z"
   },
   {
    "duration": 9,
    "start_time": "2022-02-02T19:24:58.547Z"
   },
   {
    "duration": 4,
    "start_time": "2022-02-02T19:24:59.230Z"
   },
   {
    "duration": 12,
    "start_time": "2022-02-02T19:25:51.603Z"
   },
   {
    "duration": 9,
    "start_time": "2022-02-02T19:26:51.612Z"
   },
   {
    "duration": 3,
    "start_time": "2022-02-02T19:26:56.784Z"
   },
   {
    "duration": 10,
    "start_time": "2022-02-02T19:30:33.437Z"
   },
   {
    "duration": 12,
    "start_time": "2022-02-02T19:33:34.360Z"
   },
   {
    "duration": 12,
    "start_time": "2022-02-02T19:35:20.661Z"
   },
   {
    "duration": 12,
    "start_time": "2022-02-02T19:35:38.580Z"
   },
   {
    "duration": 13,
    "start_time": "2022-02-02T19:39:53.722Z"
   },
   {
    "duration": 15,
    "start_time": "2022-02-02T19:40:19.487Z"
   },
   {
    "duration": 5,
    "start_time": "2022-02-02T19:40:26.042Z"
   },
   {
    "duration": 1074,
    "start_time": "2022-02-02T19:51:56.621Z"
   },
   {
    "duration": 379,
    "start_time": "2022-02-02T19:51:57.697Z"
   },
   {
    "duration": 11,
    "start_time": "2022-02-02T19:51:58.078Z"
   },
   {
    "duration": 21,
    "start_time": "2022-02-02T19:51:58.091Z"
   },
   {
    "duration": 16,
    "start_time": "2022-02-02T19:51:58.113Z"
   },
   {
    "duration": 8,
    "start_time": "2022-02-02T19:51:58.130Z"
   },
   {
    "duration": 17,
    "start_time": "2022-02-02T19:51:58.139Z"
   },
   {
    "duration": 26,
    "start_time": "2022-02-02T19:51:58.158Z"
   },
   {
    "duration": 31,
    "start_time": "2022-02-02T19:51:58.186Z"
   },
   {
    "duration": 14,
    "start_time": "2022-02-02T19:51:58.219Z"
   },
   {
    "duration": 11,
    "start_time": "2022-02-02T19:51:58.234Z"
   },
   {
    "duration": 6,
    "start_time": "2022-02-02T19:51:58.248Z"
   },
   {
    "duration": 11,
    "start_time": "2022-02-02T19:51:58.264Z"
   },
   {
    "duration": 7,
    "start_time": "2022-02-02T19:51:58.276Z"
   },
   {
    "duration": 33,
    "start_time": "2022-02-02T19:51:58.284Z"
   },
   {
    "duration": 72,
    "start_time": "2022-02-02T19:51:58.319Z"
   },
   {
    "duration": 30,
    "start_time": "2022-02-02T19:51:58.393Z"
   },
   {
    "duration": 7,
    "start_time": "2022-02-02T19:51:58.425Z"
   },
   {
    "duration": 14,
    "start_time": "2022-02-02T19:51:58.434Z"
   },
   {
    "duration": 13,
    "start_time": "2022-02-02T19:51:58.449Z"
   },
   {
    "duration": 11,
    "start_time": "2022-02-02T19:51:58.463Z"
   },
   {
    "duration": 38,
    "start_time": "2022-02-02T19:51:58.475Z"
   },
   {
    "duration": 9,
    "start_time": "2022-02-02T19:51:58.517Z"
   },
   {
    "duration": 10,
    "start_time": "2022-02-02T19:51:58.528Z"
   },
   {
    "duration": 6,
    "start_time": "2022-02-02T19:51:58.539Z"
   },
   {
    "duration": 5,
    "start_time": "2022-02-02T19:51:58.547Z"
   },
   {
    "duration": 202,
    "start_time": "2022-02-02T19:51:58.554Z"
   },
   {
    "duration": 23,
    "start_time": "2022-02-02T19:51:58.757Z"
   },
   {
    "duration": 9,
    "start_time": "2022-02-02T19:51:58.781Z"
   },
   {
    "duration": 85,
    "start_time": "2022-02-02T19:51:58.792Z"
   },
   {
    "duration": 55,
    "start_time": "2022-02-02T19:51:58.879Z"
   },
   {
    "duration": 3,
    "start_time": "2022-02-02T19:51:58.936Z"
   },
   {
    "duration": 47,
    "start_time": "2022-02-02T19:51:58.940Z"
   },
   {
    "duration": 48,
    "start_time": "2022-02-02T19:51:58.989Z"
   },
   {
    "duration": 20,
    "start_time": "2022-02-02T19:51:59.039Z"
   },
   {
    "duration": 5,
    "start_time": "2022-02-02T19:51:59.061Z"
   },
   {
    "duration": 142,
    "start_time": "2022-02-02T19:51:59.068Z"
   },
   {
    "duration": 17,
    "start_time": "2022-02-02T19:51:59.212Z"
   },
   {
    "duration": 261,
    "start_time": "2022-02-02T19:51:59.230Z"
   },
   {
    "duration": 20,
    "start_time": "2022-02-02T19:51:59.492Z"
   },
   {
    "duration": 8,
    "start_time": "2022-02-02T19:51:59.514Z"
   },
   {
    "duration": 11,
    "start_time": "2022-02-02T19:51:59.524Z"
   },
   {
    "duration": 251,
    "start_time": "2022-02-02T19:51:59.537Z"
   },
   {
    "duration": 223,
    "start_time": "2022-02-02T19:51:59.789Z"
   },
   {
    "duration": 22,
    "start_time": "2022-02-02T19:52:00.014Z"
   },
   {
    "duration": 279,
    "start_time": "2022-02-02T19:52:00.037Z"
   },
   {
    "duration": 20,
    "start_time": "2022-02-02T19:52:00.317Z"
   },
   {
    "duration": 23,
    "start_time": "2022-02-02T19:52:00.338Z"
   },
   {
    "duration": 16,
    "start_time": "2022-02-02T19:52:00.363Z"
   },
   {
    "duration": 34,
    "start_time": "2022-02-02T19:52:00.380Z"
   },
   {
    "duration": 3,
    "start_time": "2022-02-02T19:52:00.415Z"
   },
   {
    "duration": 24,
    "start_time": "2022-02-02T19:52:00.420Z"
   },
   {
    "duration": 11,
    "start_time": "2022-02-02T19:52:00.445Z"
   },
   {
    "duration": 7,
    "start_time": "2022-02-02T19:52:00.457Z"
   },
   {
    "duration": 17,
    "start_time": "2022-02-02T19:52:00.465Z"
   },
   {
    "duration": 1022,
    "start_time": "2022-02-02T19:58:30.453Z"
   },
   {
    "duration": 368,
    "start_time": "2022-02-02T19:58:31.477Z"
   },
   {
    "duration": 11,
    "start_time": "2022-02-02T19:58:31.847Z"
   },
   {
    "duration": 20,
    "start_time": "2022-02-02T19:58:31.859Z"
   },
   {
    "duration": 15,
    "start_time": "2022-02-02T19:58:31.881Z"
   },
   {
    "duration": 8,
    "start_time": "2022-02-02T19:58:31.898Z"
   },
   {
    "duration": 23,
    "start_time": "2022-02-02T19:58:31.907Z"
   },
   {
    "duration": 27,
    "start_time": "2022-02-02T19:58:31.932Z"
   },
   {
    "duration": 7,
    "start_time": "2022-02-02T19:58:31.961Z"
   },
   {
    "duration": 14,
    "start_time": "2022-02-02T19:58:31.970Z"
   },
   {
    "duration": 28,
    "start_time": "2022-02-02T19:58:31.985Z"
   },
   {
    "duration": 7,
    "start_time": "2022-02-02T19:58:32.015Z"
   },
   {
    "duration": 11,
    "start_time": "2022-02-02T19:58:32.024Z"
   },
   {
    "duration": 11,
    "start_time": "2022-02-02T19:58:32.037Z"
   },
   {
    "duration": 8,
    "start_time": "2022-02-02T19:58:32.049Z"
   },
   {
    "duration": 98,
    "start_time": "2022-02-02T19:58:32.059Z"
   },
   {
    "duration": 14,
    "start_time": "2022-02-02T19:58:32.159Z"
   },
   {
    "duration": 8,
    "start_time": "2022-02-02T19:58:32.175Z"
   },
   {
    "duration": 31,
    "start_time": "2022-02-02T19:58:32.184Z"
   },
   {
    "duration": 12,
    "start_time": "2022-02-02T19:58:32.217Z"
   },
   {
    "duration": 10,
    "start_time": "2022-02-02T19:58:32.231Z"
   },
   {
    "duration": 10,
    "start_time": "2022-02-02T19:58:32.243Z"
   },
   {
    "duration": 9,
    "start_time": "2022-02-02T19:58:32.257Z"
   },
   {
    "duration": 44,
    "start_time": "2022-02-02T19:58:32.268Z"
   },
   {
    "duration": 5,
    "start_time": "2022-02-02T19:58:32.314Z"
   },
   {
    "duration": 6,
    "start_time": "2022-02-02T19:58:32.320Z"
   },
   {
    "duration": 176,
    "start_time": "2022-02-02T19:58:32.327Z"
   },
   {
    "duration": 27,
    "start_time": "2022-02-02T19:58:32.504Z"
   },
   {
    "duration": 9,
    "start_time": "2022-02-02T19:58:32.533Z"
   },
   {
    "duration": 81,
    "start_time": "2022-02-02T19:58:32.543Z"
   },
   {
    "duration": 45,
    "start_time": "2022-02-02T19:58:32.625Z"
   },
   {
    "duration": 3,
    "start_time": "2022-02-02T19:58:32.671Z"
   },
   {
    "duration": 63,
    "start_time": "2022-02-02T19:58:32.676Z"
   },
   {
    "duration": 32,
    "start_time": "2022-02-02T19:58:32.741Z"
   },
   {
    "duration": 18,
    "start_time": "2022-02-02T19:58:32.775Z"
   },
   {
    "duration": 21,
    "start_time": "2022-02-02T19:58:32.794Z"
   },
   {
    "duration": 129,
    "start_time": "2022-02-02T19:58:32.816Z"
   },
   {
    "duration": 17,
    "start_time": "2022-02-02T19:58:32.947Z"
   },
   {
    "duration": 265,
    "start_time": "2022-02-02T19:58:32.966Z"
   },
   {
    "duration": 9,
    "start_time": "2022-02-02T19:58:33.232Z"
   },
   {
    "duration": 9,
    "start_time": "2022-02-02T19:58:33.243Z"
   },
   {
    "duration": 9,
    "start_time": "2022-02-02T19:58:33.254Z"
   },
   {
    "duration": 248,
    "start_time": "2022-02-02T19:58:33.264Z"
   },
   {
    "duration": 221,
    "start_time": "2022-02-02T19:58:33.513Z"
   },
   {
    "duration": 20,
    "start_time": "2022-02-02T19:58:33.736Z"
   },
   {
    "duration": 266,
    "start_time": "2022-02-02T19:58:33.758Z"
   },
   {
    "duration": 20,
    "start_time": "2022-02-02T19:58:34.026Z"
   },
   {
    "duration": 21,
    "start_time": "2022-02-02T19:58:34.047Z"
   },
   {
    "duration": 13,
    "start_time": "2022-02-02T19:58:34.069Z"
   },
   {
    "duration": 35,
    "start_time": "2022-02-02T19:58:34.083Z"
   },
   {
    "duration": 3,
    "start_time": "2022-02-02T19:58:34.120Z"
   },
   {
    "duration": 15,
    "start_time": "2022-02-02T19:58:34.125Z"
   },
   {
    "duration": 9,
    "start_time": "2022-02-02T19:58:34.142Z"
   },
   {
    "duration": 6,
    "start_time": "2022-02-02T19:58:34.153Z"
   },
   {
    "duration": 6,
    "start_time": "2022-02-02T19:58:34.160Z"
   },
   {
    "duration": 1139,
    "start_time": "2022-02-21T18:34:58.155Z"
   },
   {
    "duration": 45,
    "start_time": "2022-02-21T18:34:59.295Z"
   },
   {
    "duration": 16,
    "start_time": "2022-02-21T18:34:59.341Z"
   },
   {
    "duration": 12,
    "start_time": "2022-02-21T18:34:59.359Z"
   },
   {
    "duration": 11,
    "start_time": "2022-02-21T18:34:59.372Z"
   },
   {
    "duration": 24,
    "start_time": "2022-02-21T18:34:59.385Z"
   },
   {
    "duration": 3,
    "start_time": "2022-02-21T18:34:59.411Z"
   },
   {
    "duration": 4,
    "start_time": "2022-02-21T18:34:59.416Z"
   },
   {
    "duration": 38,
    "start_time": "2022-02-21T18:34:59.421Z"
   },
   {
    "duration": 447,
    "start_time": "2022-02-21T18:34:59.461Z"
   },
   {
    "duration": 686,
    "start_time": "2022-02-21T18:34:59.225Z"
   },
   {
    "duration": 682,
    "start_time": "2022-02-21T18:34:59.231Z"
   },
   {
    "duration": 678,
    "start_time": "2022-02-21T18:34:59.236Z"
   },
   {
    "duration": 673,
    "start_time": "2022-02-21T18:34:59.242Z"
   },
   {
    "duration": 670,
    "start_time": "2022-02-21T18:34:59.246Z"
   },
   {
    "duration": 665,
    "start_time": "2022-02-21T18:34:59.252Z"
   },
   {
    "duration": 660,
    "start_time": "2022-02-21T18:34:59.258Z"
   },
   {
    "duration": 656,
    "start_time": "2022-02-21T18:34:59.263Z"
   },
   {
    "duration": 651,
    "start_time": "2022-02-21T18:34:59.269Z"
   },
   {
    "duration": 646,
    "start_time": "2022-02-21T18:34:59.275Z"
   },
   {
    "duration": 643,
    "start_time": "2022-02-21T18:34:59.279Z"
   },
   {
    "duration": 638,
    "start_time": "2022-02-21T18:34:59.285Z"
   },
   {
    "duration": 633,
    "start_time": "2022-02-21T18:34:59.291Z"
   },
   {
    "duration": 629,
    "start_time": "2022-02-21T18:34:59.296Z"
   },
   {
    "duration": 624,
    "start_time": "2022-02-21T18:34:59.302Z"
   },
   {
    "duration": 618,
    "start_time": "2022-02-21T18:34:59.309Z"
   },
   {
    "duration": 614,
    "start_time": "2022-02-21T18:34:59.314Z"
   },
   {
    "duration": 608,
    "start_time": "2022-02-21T18:34:59.321Z"
   },
   {
    "duration": 590,
    "start_time": "2022-02-21T18:34:59.340Z"
   },
   {
    "duration": 583,
    "start_time": "2022-02-21T18:34:59.348Z"
   },
   {
    "duration": 581,
    "start_time": "2022-02-21T18:34:59.351Z"
   },
   {
    "duration": 579,
    "start_time": "2022-02-21T18:34:59.354Z"
   },
   {
    "duration": 577,
    "start_time": "2022-02-21T18:34:59.357Z"
   },
   {
    "duration": 575,
    "start_time": "2022-02-21T18:34:59.360Z"
   },
   {
    "duration": 573,
    "start_time": "2022-02-21T18:34:59.363Z"
   },
   {
    "duration": 571,
    "start_time": "2022-02-21T18:34:59.366Z"
   },
   {
    "duration": 569,
    "start_time": "2022-02-21T18:34:59.369Z"
   },
   {
    "duration": 566,
    "start_time": "2022-02-21T18:34:59.372Z"
   },
   {
    "duration": 563,
    "start_time": "2022-02-21T18:34:59.376Z"
   },
   {
    "duration": 559,
    "start_time": "2022-02-21T18:34:59.381Z"
   },
   {
    "duration": 556,
    "start_time": "2022-02-21T18:34:59.385Z"
   },
   {
    "duration": 552,
    "start_time": "2022-02-21T18:34:59.389Z"
   },
   {
    "duration": 551,
    "start_time": "2022-02-21T18:34:59.391Z"
   },
   {
    "duration": 549,
    "start_time": "2022-02-21T18:34:59.394Z"
   },
   {
    "duration": 547,
    "start_time": "2022-02-21T18:34:59.397Z"
   },
   {
    "duration": 545,
    "start_time": "2022-02-21T18:34:59.400Z"
   },
   {
    "duration": 543,
    "start_time": "2022-02-21T18:34:59.403Z"
   },
   {
    "duration": 541,
    "start_time": "2022-02-21T18:34:59.406Z"
   },
   {
    "duration": 540,
    "start_time": "2022-02-21T18:34:59.409Z"
   },
   {
    "duration": 538,
    "start_time": "2022-02-21T18:34:59.412Z"
   },
   {
    "duration": 537,
    "start_time": "2022-02-21T18:34:59.415Z"
   },
   {
    "duration": 535,
    "start_time": "2022-02-21T18:34:59.418Z"
   },
   {
    "duration": 533,
    "start_time": "2022-02-21T18:34:59.421Z"
   },
   {
    "duration": 533,
    "start_time": "2022-02-21T18:34:59.423Z"
   },
   {
    "duration": 531,
    "start_time": "2022-02-21T18:34:59.426Z"
   },
   {
    "duration": 4,
    "start_time": "2022-02-21T18:37:07.749Z"
   },
   {
    "duration": 13676,
    "start_time": "2022-02-21T18:39:33.000Z"
   },
   {
    "duration": 1154,
    "start_time": "2022-02-21T18:39:54.066Z"
   },
   {
    "duration": 36,
    "start_time": "2022-02-21T18:39:55.222Z"
   },
   {
    "duration": 17,
    "start_time": "2022-02-21T18:39:55.259Z"
   },
   {
    "duration": 17,
    "start_time": "2022-02-21T18:39:55.277Z"
   },
   {
    "duration": 16,
    "start_time": "2022-02-21T18:39:55.295Z"
   },
   {
    "duration": 35,
    "start_time": "2022-02-21T18:39:55.313Z"
   },
   {
    "duration": 4,
    "start_time": "2022-02-21T18:39:55.350Z"
   },
   {
    "duration": 6,
    "start_time": "2022-02-21T18:39:55.357Z"
   },
   {
    "duration": 26,
    "start_time": "2022-02-21T18:39:55.365Z"
   },
   {
    "duration": 19,
    "start_time": "2022-02-21T18:39:55.393Z"
   },
   {
    "duration": 14,
    "start_time": "2022-02-21T18:39:55.414Z"
   },
   {
    "duration": 20,
    "start_time": "2022-02-21T18:39:55.430Z"
   },
   {
    "duration": 11,
    "start_time": "2022-02-21T18:39:55.451Z"
   },
   {
    "duration": 16,
    "start_time": "2022-02-21T18:39:55.464Z"
   },
   {
    "duration": 4884,
    "start_time": "2022-02-21T18:39:55.482Z"
   },
   {
    "duration": 15,
    "start_time": "2022-02-21T18:40:00.367Z"
   },
   {
    "duration": 1071,
    "start_time": "2022-02-21T18:40:00.384Z"
   },
   {
    "duration": 10,
    "start_time": "2022-02-21T18:40:01.457Z"
   },
   {
    "duration": 27,
    "start_time": "2022-02-21T18:40:01.469Z"
   },
   {
    "duration": 352,
    "start_time": "2022-02-21T18:40:01.498Z"
   },
   {
    "duration": 3,
    "start_time": "2022-02-21T18:40:01.852Z"
   },
   {
    "duration": 8,
    "start_time": "2022-02-21T18:40:01.856Z"
   },
   {
    "duration": 15,
    "start_time": "2022-02-21T18:40:01.867Z"
   },
   {
    "duration": 22,
    "start_time": "2022-02-21T18:40:01.884Z"
   },
   {
    "duration": 798,
    "start_time": "2022-02-21T18:40:01.907Z"
   },
   {
    "duration": 126,
    "start_time": "2022-02-21T18:40:02.707Z"
   },
   {
    "duration": 13,
    "start_time": "2022-02-21T18:40:02.834Z"
   },
   {
    "duration": 8,
    "start_time": "2022-02-21T18:40:02.849Z"
   },
   {
    "duration": 269,
    "start_time": "2022-02-21T18:40:02.858Z"
   },
   {
    "duration": 5,
    "start_time": "2022-02-21T18:40:03.129Z"
   },
   {
    "duration": 384,
    "start_time": "2022-02-21T18:40:03.146Z"
   },
   {
    "duration": 4,
    "start_time": "2022-02-21T18:40:03.532Z"
   },
   {
    "duration": 11,
    "start_time": "2022-02-21T18:40:03.537Z"
   },
   {
    "duration": 63,
    "start_time": "2022-02-21T18:40:03.549Z"
   },
   {
    "duration": 198,
    "start_time": "2022-02-21T18:40:03.614Z"
   },
   {
    "duration": 8,
    "start_time": "2022-02-21T18:40:03.814Z"
   },
   {
    "duration": 24,
    "start_time": "2022-02-21T18:40:03.823Z"
   },
   {
    "duration": 22,
    "start_time": "2022-02-21T18:40:03.848Z"
   },
   {
    "duration": 147,
    "start_time": "2022-02-21T18:40:03.871Z"
   },
   {
    "duration": 152,
    "start_time": "2022-02-21T18:40:04.020Z"
   },
   {
    "duration": 143,
    "start_time": "2022-02-21T18:40:04.174Z"
   },
   {
    "duration": 28,
    "start_time": "2022-02-21T18:40:04.318Z"
   },
   {
    "duration": 150,
    "start_time": "2022-02-21T18:40:04.347Z"
   },
   {
    "duration": 149,
    "start_time": "2022-02-21T18:40:04.499Z"
   },
   {
    "duration": 145,
    "start_time": "2022-02-21T18:40:04.649Z"
   },
   {
    "duration": 20,
    "start_time": "2022-02-21T18:40:04.795Z"
   },
   {
    "duration": 30,
    "start_time": "2022-02-21T18:40:04.816Z"
   },
   {
    "duration": 149,
    "start_time": "2022-02-21T18:40:04.847Z"
   },
   {
    "duration": 145,
    "start_time": "2022-02-21T18:40:04.998Z"
   },
   {
    "duration": 147,
    "start_time": "2022-02-21T18:40:05.144Z"
   },
   {
    "duration": 9,
    "start_time": "2022-02-21T18:40:05.292Z"
   },
   {
    "duration": 6,
    "start_time": "2022-02-21T18:40:05.302Z"
   },
   {
    "duration": 13,
    "start_time": "2022-02-21T18:40:05.309Z"
   },
   {
    "duration": 24,
    "start_time": "2022-02-21T18:40:05.323Z"
   },
   {
    "duration": 5,
    "start_time": "2022-02-21T18:40:05.348Z"
   },
   {
    "duration": 243,
    "start_time": "2022-02-21T18:47:13.397Z"
   },
   {
    "duration": 21,
    "start_time": "2022-02-21T18:55:36.255Z"
   },
   {
    "duration": 15,
    "start_time": "2022-02-21T18:55:54.893Z"
   },
   {
    "duration": 4,
    "start_time": "2022-02-21T19:03:30.964Z"
   },
   {
    "duration": 1551,
    "start_time": "2022-02-22T14:34:22.883Z"
   },
   {
    "duration": 45,
    "start_time": "2022-02-22T14:34:24.437Z"
   },
   {
    "duration": 26,
    "start_time": "2022-02-22T14:34:24.485Z"
   },
   {
    "duration": 22,
    "start_time": "2022-02-22T14:34:25.553Z"
   },
   {
    "duration": 14,
    "start_time": "2022-02-22T14:34:27.208Z"
   },
   {
    "duration": 47,
    "start_time": "2022-02-22T14:34:28.670Z"
   },
   {
    "duration": 6,
    "start_time": "2022-02-22T14:34:32.800Z"
   },
   {
    "duration": 4,
    "start_time": "2022-02-22T14:34:50.867Z"
   },
   {
    "duration": 31,
    "start_time": "2022-02-22T14:35:21.197Z"
   },
   {
    "duration": 22,
    "start_time": "2022-02-22T14:36:25.882Z"
   },
   {
    "duration": 11,
    "start_time": "2022-02-22T14:36:26.153Z"
   },
   {
    "duration": 19,
    "start_time": "2022-02-22T14:36:28.663Z"
   },
   {
    "duration": 14,
    "start_time": "2022-02-22T14:37:35.976Z"
   },
   {
    "duration": 34,
    "start_time": "2022-02-22T14:43:51.763Z"
   },
   {
    "duration": 25,
    "start_time": "2022-02-22T14:45:56.562Z"
   },
   {
    "duration": 11775,
    "start_time": "2022-02-22T14:45:59.874Z"
   },
   {
    "duration": 21,
    "start_time": "2022-02-22T14:46:11.652Z"
   },
   {
    "duration": 332,
    "start_time": "2022-02-22T14:46:19.468Z"
   },
   {
    "duration": 15,
    "start_time": "2022-02-22T14:46:21.684Z"
   },
   {
    "duration": 34,
    "start_time": "2022-02-22T14:46:23.621Z"
   },
   {
    "duration": 619,
    "start_time": "2022-02-22T14:46:28.977Z"
   },
   {
    "duration": 743,
    "start_time": "2022-02-22T14:46:51.320Z"
   },
   {
    "duration": 723,
    "start_time": "2022-02-22T14:46:58.662Z"
   },
   {
    "duration": 813,
    "start_time": "2022-02-22T14:47:09.867Z"
   },
   {
    "duration": 772,
    "start_time": "2022-02-22T14:47:17.729Z"
   },
   {
    "duration": 487,
    "start_time": "2022-02-22T14:48:07.964Z"
   },
   {
    "duration": 774,
    "start_time": "2022-02-22T14:48:08.686Z"
   },
   {
    "duration": 6,
    "start_time": "2022-02-22T14:49:55.737Z"
   },
   {
    "duration": 13,
    "start_time": "2022-02-22T14:49:56.361Z"
   },
   {
    "duration": 27,
    "start_time": "2022-02-22T14:49:57.101Z"
   },
   {
    "duration": 21,
    "start_time": "2022-02-22T14:50:00.204Z"
   },
   {
    "duration": 617,
    "start_time": "2022-02-22T14:50:01.434Z"
   },
   {
    "duration": 233,
    "start_time": "2022-02-22T14:53:11.017Z"
   },
   {
    "duration": 341,
    "start_time": "2022-02-22T14:54:08.467Z"
   },
   {
    "duration": 21,
    "start_time": "2022-02-22T14:54:31.459Z"
   },
   {
    "duration": 9,
    "start_time": "2022-02-22T14:56:53.517Z"
   },
   {
    "duration": 9,
    "start_time": "2022-02-22T14:57:02.615Z"
   },
   {
    "duration": 527,
    "start_time": "2022-02-22T14:57:58.118Z"
   },
   {
    "duration": 669,
    "start_time": "2022-02-22T14:58:16.140Z"
   },
   {
    "duration": 22,
    "start_time": "2022-02-22T15:01:23.680Z"
   },
   {
    "duration": 504,
    "start_time": "2022-02-22T15:02:25.737Z"
   },
   {
    "duration": 539,
    "start_time": "2022-02-22T15:02:38.071Z"
   },
   {
    "duration": 21,
    "start_time": "2022-02-22T15:05:06.591Z"
   },
   {
    "duration": 324,
    "start_time": "2022-02-22T15:05:07.616Z"
   },
   {
    "duration": 4,
    "start_time": "2022-02-22T15:05:14.294Z"
   },
   {
    "duration": 317,
    "start_time": "2022-02-22T15:05:14.716Z"
   },
   {
    "duration": 1207,
    "start_time": "2022-02-23T10:01:33.584Z"
   },
   {
    "duration": 1414,
    "start_time": "2022-02-23T10:01:34.793Z"
   },
   {
    "duration": -56,
    "start_time": "2022-02-23T10:01:36.269Z"
   },
   {
    "duration": -63,
    "start_time": "2022-02-23T10:01:36.277Z"
   },
   {
    "duration": -72,
    "start_time": "2022-02-23T10:01:36.288Z"
   },
   {
    "duration": -77,
    "start_time": "2022-02-23T10:01:36.294Z"
   },
   {
    "duration": -91,
    "start_time": "2022-02-23T10:01:36.309Z"
   },
   {
    "duration": -106,
    "start_time": "2022-02-23T10:01:36.325Z"
   },
   {
    "duration": -124,
    "start_time": "2022-02-23T10:01:36.344Z"
   },
   {
    "duration": -140,
    "start_time": "2022-02-23T10:01:36.362Z"
   },
   {
    "duration": -157,
    "start_time": "2022-02-23T10:01:36.380Z"
   },
   {
    "duration": -177,
    "start_time": "2022-02-23T10:01:36.401Z"
   },
   {
    "duration": -207,
    "start_time": "2022-02-23T10:01:36.432Z"
   },
   {
    "duration": -225,
    "start_time": "2022-02-23T10:01:36.451Z"
   },
   {
    "duration": -235,
    "start_time": "2022-02-23T10:01:36.462Z"
   },
   {
    "duration": -239,
    "start_time": "2022-02-23T10:01:36.467Z"
   },
   {
    "duration": -245,
    "start_time": "2022-02-23T10:01:36.474Z"
   },
   {
    "duration": -247,
    "start_time": "2022-02-23T10:01:36.478Z"
   },
   {
    "duration": -253,
    "start_time": "2022-02-23T10:01:36.485Z"
   },
   {
    "duration": -256,
    "start_time": "2022-02-23T10:01:36.489Z"
   },
   {
    "duration": -260,
    "start_time": "2022-02-23T10:01:36.495Z"
   },
   {
    "duration": -263,
    "start_time": "2022-02-23T10:01:36.499Z"
   },
   {
    "duration": -267,
    "start_time": "2022-02-23T10:01:36.504Z"
   },
   {
    "duration": -272,
    "start_time": "2022-02-23T10:01:36.509Z"
   },
   {
    "duration": -275,
    "start_time": "2022-02-23T10:01:36.514Z"
   },
   {
    "duration": -278,
    "start_time": "2022-02-23T10:01:36.518Z"
   },
   {
    "duration": -282,
    "start_time": "2022-02-23T10:01:36.523Z"
   },
   {
    "duration": -285,
    "start_time": "2022-02-23T10:01:36.527Z"
   },
   {
    "duration": -290,
    "start_time": "2022-02-23T10:01:36.533Z"
   },
   {
    "duration": -293,
    "start_time": "2022-02-23T10:01:36.537Z"
   },
   {
    "duration": -295,
    "start_time": "2022-02-23T10:01:36.541Z"
   },
   {
    "duration": -310,
    "start_time": "2022-02-23T10:01:36.557Z"
   },
   {
    "duration": -315,
    "start_time": "2022-02-23T10:01:36.563Z"
   },
   {
    "duration": -318,
    "start_time": "2022-02-23T10:01:36.567Z"
   },
   {
    "duration": -323,
    "start_time": "2022-02-23T10:01:36.572Z"
   },
   {
    "duration": -326,
    "start_time": "2022-02-23T10:01:36.576Z"
   },
   {
    "duration": -330,
    "start_time": "2022-02-23T10:01:36.581Z"
   },
   {
    "duration": -333,
    "start_time": "2022-02-23T10:01:36.585Z"
   },
   {
    "duration": -336,
    "start_time": "2022-02-23T10:01:36.589Z"
   },
   {
    "duration": -339,
    "start_time": "2022-02-23T10:01:36.594Z"
   },
   {
    "duration": -363,
    "start_time": "2022-02-23T10:01:36.619Z"
   },
   {
    "duration": -366,
    "start_time": "2022-02-23T10:01:36.624Z"
   },
   {
    "duration": -310,
    "start_time": "2022-02-23T10:01:36.628Z"
   },
   {
    "duration": -312,
    "start_time": "2022-02-23T10:01:36.632Z"
   },
   {
    "duration": -315,
    "start_time": "2022-02-23T10:01:36.636Z"
   },
   {
    "duration": -317,
    "start_time": "2022-02-23T10:01:36.640Z"
   },
   {
    "duration": -321,
    "start_time": "2022-02-23T10:01:36.645Z"
   },
   {
    "duration": -323,
    "start_time": "2022-02-23T10:01:36.649Z"
   },
   {
    "duration": -346,
    "start_time": "2022-02-23T10:01:36.673Z"
   },
   {
    "duration": -351,
    "start_time": "2022-02-23T10:01:36.680Z"
   },
   {
    "duration": -367,
    "start_time": "2022-02-23T10:01:36.697Z"
   },
   {
    "duration": -382,
    "start_time": "2022-02-23T10:01:36.713Z"
   },
   {
    "duration": -426,
    "start_time": "2022-02-23T10:01:36.759Z"
   },
   {
    "duration": -430,
    "start_time": "2022-02-23T10:01:36.764Z"
   },
   {
    "duration": -434,
    "start_time": "2022-02-23T10:01:36.769Z"
   },
   {
    "duration": -437,
    "start_time": "2022-02-23T10:01:36.774Z"
   },
   {
    "duration": -442,
    "start_time": "2022-02-23T10:01:36.780Z"
   },
   {
    "duration": -456,
    "start_time": "2022-02-23T10:01:36.795Z"
   },
   {
    "duration": -494,
    "start_time": "2022-02-23T10:01:36.834Z"
   },
   {
    "duration": -513,
    "start_time": "2022-02-23T10:01:36.854Z"
   },
   {
    "duration": -529,
    "start_time": "2022-02-23T10:01:36.872Z"
   },
   {
    "duration": -536,
    "start_time": "2022-02-23T10:01:36.880Z"
   },
   {
    "duration": -540,
    "start_time": "2022-02-23T10:01:36.885Z"
   },
   {
    "duration": -543,
    "start_time": "2022-02-23T10:01:36.889Z"
   },
   {
    "duration": -547,
    "start_time": "2022-02-23T10:01:36.894Z"
   },
   {
    "duration": -555,
    "start_time": "2022-02-23T10:01:36.903Z"
   },
   {
    "duration": -557,
    "start_time": "2022-02-23T10:01:36.907Z"
   },
   {
    "duration": -560,
    "start_time": "2022-02-23T10:01:36.911Z"
   },
   {
    "duration": -566,
    "start_time": "2022-02-23T10:01:36.918Z"
   },
   {
    "duration": -570,
    "start_time": "2022-02-23T10:01:36.923Z"
   },
   {
    "duration": 1175,
    "start_time": "2022-02-23T10:04:26.899Z"
   },
   {
    "duration": 36,
    "start_time": "2022-02-23T10:04:28.076Z"
   },
   {
    "duration": 18,
    "start_time": "2022-02-23T10:04:28.114Z"
   },
   {
    "duration": 16,
    "start_time": "2022-02-23T10:04:28.134Z"
   },
   {
    "duration": 12,
    "start_time": "2022-02-23T10:04:28.152Z"
   },
   {
    "duration": 30,
    "start_time": "2022-02-23T10:04:28.166Z"
   },
   {
    "duration": 24,
    "start_time": "2022-02-23T10:04:28.198Z"
   },
   {
    "duration": 4,
    "start_time": "2022-02-23T10:04:28.224Z"
   },
   {
    "duration": 25,
    "start_time": "2022-02-23T10:04:28.230Z"
   },
   {
    "duration": 18,
    "start_time": "2022-02-23T10:04:28.257Z"
   },
   {
    "duration": 15,
    "start_time": "2022-02-23T10:04:28.277Z"
   },
   {
    "duration": 9,
    "start_time": "2022-02-23T10:04:28.319Z"
   },
   {
    "duration": 14,
    "start_time": "2022-02-23T10:04:28.329Z"
   },
   {
    "duration": 10,
    "start_time": "2022-02-23T10:04:28.345Z"
   },
   {
    "duration": 20,
    "start_time": "2022-02-23T10:04:28.356Z"
   },
   {
    "duration": 50,
    "start_time": "2022-02-23T10:04:28.378Z"
   },
   {
    "duration": 6412,
    "start_time": "2022-02-23T10:04:28.430Z"
   },
   {
    "duration": 14,
    "start_time": "2022-02-23T10:04:34.844Z"
   },
   {
    "duration": 241,
    "start_time": "2022-02-23T10:04:34.860Z"
   },
   {
    "duration": 19,
    "start_time": "2022-02-23T10:04:35.103Z"
   },
   {
    "duration": 25,
    "start_time": "2022-02-23T10:04:35.123Z"
   },
   {
    "duration": 438,
    "start_time": "2022-02-23T10:04:35.150Z"
   },
   {
    "duration": 2,
    "start_time": "2022-02-23T10:04:35.593Z"
   },
   {
    "duration": 5,
    "start_time": "2022-02-23T10:04:35.599Z"
   },
   {
    "duration": 21,
    "start_time": "2022-02-23T10:04:35.606Z"
   },
   {
    "duration": 23,
    "start_time": "2022-02-23T10:04:35.629Z"
   },
   {
    "duration": 23,
    "start_time": "2022-02-23T10:04:35.654Z"
   },
   {
    "duration": 489,
    "start_time": "2022-02-23T10:04:35.679Z"
   },
   {
    "duration": -49,
    "start_time": "2022-02-23T10:04:36.219Z"
   },
   {
    "duration": -54,
    "start_time": "2022-02-23T10:04:36.225Z"
   },
   {
    "duration": -57,
    "start_time": "2022-02-23T10:04:36.230Z"
   },
   {
    "duration": -61,
    "start_time": "2022-02-23T10:04:36.235Z"
   },
   {
    "duration": -65,
    "start_time": "2022-02-23T10:04:36.240Z"
   },
   {
    "duration": -71,
    "start_time": "2022-02-23T10:04:36.247Z"
   },
   {
    "duration": -75,
    "start_time": "2022-02-23T10:04:36.252Z"
   },
   {
    "duration": -78,
    "start_time": "2022-02-23T10:04:36.257Z"
   },
   {
    "duration": -83,
    "start_time": "2022-02-23T10:04:36.263Z"
   },
   {
    "duration": -87,
    "start_time": "2022-02-23T10:04:36.268Z"
   },
   {
    "duration": -110,
    "start_time": "2022-02-23T10:04:36.292Z"
   },
   {
    "duration": -119,
    "start_time": "2022-02-23T10:04:36.302Z"
   },
   {
    "duration": -126,
    "start_time": "2022-02-23T10:04:36.310Z"
   },
   {
    "duration": -132,
    "start_time": "2022-02-23T10:04:36.318Z"
   },
   {
    "duration": -138,
    "start_time": "2022-02-23T10:04:36.325Z"
   },
   {
    "duration": -146,
    "start_time": "2022-02-23T10:04:36.334Z"
   },
   {
    "duration": -152,
    "start_time": "2022-02-23T10:04:36.341Z"
   },
   {
    "duration": -130,
    "start_time": "2022-02-23T10:04:36.349Z"
   },
   {
    "duration": -135,
    "start_time": "2022-02-23T10:04:36.355Z"
   },
   {
    "duration": -143,
    "start_time": "2022-02-23T10:04:36.364Z"
   },
   {
    "duration": -148,
    "start_time": "2022-02-23T10:04:36.370Z"
   },
   {
    "duration": -156,
    "start_time": "2022-02-23T10:04:36.379Z"
   },
   {
    "duration": -161,
    "start_time": "2022-02-23T10:04:36.385Z"
   },
   {
    "duration": -184,
    "start_time": "2022-02-23T10:04:36.409Z"
   },
   {
    "duration": -194,
    "start_time": "2022-02-23T10:04:36.421Z"
   },
   {
    "duration": -203,
    "start_time": "2022-02-23T10:04:36.431Z"
   },
   {
    "duration": -209,
    "start_time": "2022-02-23T10:04:36.438Z"
   },
   {
    "duration": -217,
    "start_time": "2022-02-23T10:04:36.447Z"
   },
   {
    "duration": -225,
    "start_time": "2022-02-23T10:04:36.456Z"
   },
   {
    "duration": -232,
    "start_time": "2022-02-23T10:04:36.464Z"
   },
   {
    "duration": -236,
    "start_time": "2022-02-23T10:04:36.469Z"
   },
   {
    "duration": -240,
    "start_time": "2022-02-23T10:04:36.474Z"
   },
   {
    "duration": -242,
    "start_time": "2022-02-23T10:04:36.478Z"
   },
   {
    "duration": -245,
    "start_time": "2022-02-23T10:04:36.482Z"
   },
   {
    "duration": -248,
    "start_time": "2022-02-23T10:04:36.486Z"
   },
   {
    "duration": -252,
    "start_time": "2022-02-23T10:04:36.491Z"
   },
   {
    "duration": -255,
    "start_time": "2022-02-23T10:04:36.495Z"
   },
   {
    "duration": -258,
    "start_time": "2022-02-23T10:04:36.499Z"
   },
   {
    "duration": -274,
    "start_time": "2022-02-23T10:04:36.516Z"
   },
   {
    "duration": -280,
    "start_time": "2022-02-23T10:04:36.523Z"
   },
   {
    "duration": -285,
    "start_time": "2022-02-23T10:04:36.529Z"
   },
   {
    "duration": -293,
    "start_time": "2022-02-23T10:04:36.538Z"
   },
   {
    "duration": 4,
    "start_time": "2022-02-23T10:09:54.894Z"
   },
   {
    "duration": 10,
    "start_time": "2022-02-23T10:10:00.141Z"
   },
   {
    "duration": 11,
    "start_time": "2022-02-23T10:10:18.292Z"
   },
   {
    "duration": 19,
    "start_time": "2022-02-23T10:10:41.211Z"
   },
   {
    "duration": 18,
    "start_time": "2022-02-23T10:10:50.471Z"
   },
   {
    "duration": 206,
    "start_time": "2022-02-23T10:10:57.352Z"
   },
   {
    "duration": 4,
    "start_time": "2022-02-23T10:15:37.699Z"
   },
   {
    "duration": 9,
    "start_time": "2022-02-23T10:15:51.353Z"
   },
   {
    "duration": 1511,
    "start_time": "2022-02-23T10:42:53.891Z"
   },
   {
    "duration": 47,
    "start_time": "2022-02-23T10:42:55.405Z"
   },
   {
    "duration": 27,
    "start_time": "2022-02-23T10:42:58.877Z"
   },
   {
    "duration": 21,
    "start_time": "2022-02-23T10:42:59.444Z"
   },
   {
    "duration": 41,
    "start_time": "2022-02-23T10:43:09.946Z"
   },
   {
    "duration": 22,
    "start_time": "2022-02-23T10:43:11.534Z"
   },
   {
    "duration": 22,
    "start_time": "2022-02-23T10:43:12.086Z"
   },
   {
    "duration": 14,
    "start_time": "2022-02-23T10:43:12.915Z"
   },
   {
    "duration": 43,
    "start_time": "2022-02-23T10:43:13.751Z"
   },
   {
    "duration": 5,
    "start_time": "2022-02-23T10:43:16.914Z"
   },
   {
    "duration": 5,
    "start_time": "2022-02-23T10:43:17.298Z"
   },
   {
    "duration": 30,
    "start_time": "2022-02-23T10:43:19.632Z"
   },
   {
    "duration": 27,
    "start_time": "2022-02-23T10:43:20.085Z"
   },
   {
    "duration": 23,
    "start_time": "2022-02-23T10:43:22.246Z"
   },
   {
    "duration": 12,
    "start_time": "2022-02-23T10:43:22.649Z"
   },
   {
    "duration": 22,
    "start_time": "2022-02-23T10:43:23.435Z"
   },
   {
    "duration": 13,
    "start_time": "2022-02-23T10:43:23.814Z"
   },
   {
    "duration": 33,
    "start_time": "2022-02-23T10:43:24.225Z"
   },
   {
    "duration": 25,
    "start_time": "2022-02-23T10:43:28.285Z"
   },
   {
    "duration": 11727,
    "start_time": "2022-02-23T10:43:30.178Z"
   },
   {
    "duration": 22,
    "start_time": "2022-02-23T10:43:41.908Z"
   },
   {
    "duration": 345,
    "start_time": "2022-02-23T10:43:41.934Z"
   },
   {
    "duration": 15,
    "start_time": "2022-02-23T10:43:42.282Z"
   },
   {
    "duration": 62,
    "start_time": "2022-02-23T10:43:42.299Z"
   },
   {
    "duration": 599,
    "start_time": "2022-02-23T10:43:42.363Z"
   },
   {
    "duration": 3,
    "start_time": "2022-02-23T10:43:42.964Z"
   },
   {
    "duration": 6,
    "start_time": "2022-02-23T10:43:42.970Z"
   },
   {
    "duration": 13,
    "start_time": "2022-02-23T10:43:42.978Z"
   },
   {
    "duration": 29,
    "start_time": "2022-02-23T10:43:45.835Z"
   },
   {
    "duration": 26,
    "start_time": "2022-02-23T10:43:47.159Z"
   },
   {
    "duration": 727,
    "start_time": "2022-02-23T10:43:51.207Z"
   },
   {
    "duration": 16,
    "start_time": "2022-02-23T10:44:51.158Z"
   },
   {
    "duration": 622,
    "start_time": "2022-02-23T11:00:35.639Z"
   },
   {
    "duration": 645,
    "start_time": "2022-02-23T11:00:42.539Z"
   },
   {
    "duration": 12,
    "start_time": "2022-02-23T11:06:10.572Z"
   },
   {
    "duration": 346,
    "start_time": "2022-02-23T11:06:38.614Z"
   },
   {
    "duration": 20,
    "start_time": "2022-02-23T11:06:51.345Z"
   },
   {
    "duration": 666,
    "start_time": "2022-02-23T11:07:02.787Z"
   },
   {
    "duration": 594,
    "start_time": "2022-02-23T11:07:54.661Z"
   },
   {
    "duration": 614,
    "start_time": "2022-02-23T11:08:31.353Z"
   },
   {
    "duration": 582,
    "start_time": "2022-02-23T11:08:38.100Z"
   },
   {
    "duration": 1433,
    "start_time": "2022-02-23T11:08:45.099Z"
   },
   {
    "duration": 44,
    "start_time": "2022-02-23T11:08:46.535Z"
   },
   {
    "duration": 23,
    "start_time": "2022-02-23T11:08:46.582Z"
   },
   {
    "duration": 22,
    "start_time": "2022-02-23T11:08:46.608Z"
   },
   {
    "duration": 38,
    "start_time": "2022-02-23T11:08:46.632Z"
   },
   {
    "duration": 41,
    "start_time": "2022-02-23T11:08:46.673Z"
   },
   {
    "duration": 5,
    "start_time": "2022-02-23T11:08:46.716Z"
   },
   {
    "duration": 4,
    "start_time": "2022-02-23T11:08:46.725Z"
   },
   {
    "duration": 29,
    "start_time": "2022-02-23T11:08:46.762Z"
   },
   {
    "duration": 24,
    "start_time": "2022-02-23T11:08:46.794Z"
   },
   {
    "duration": 46,
    "start_time": "2022-02-23T11:08:46.820Z"
   },
   {
    "duration": 13,
    "start_time": "2022-02-23T11:08:46.869Z"
   },
   {
    "duration": 22,
    "start_time": "2022-02-23T11:08:46.885Z"
   },
   {
    "duration": 52,
    "start_time": "2022-02-23T11:08:46.909Z"
   },
   {
    "duration": 40,
    "start_time": "2022-02-23T11:08:46.964Z"
   },
   {
    "duration": 27,
    "start_time": "2022-02-23T11:08:47.007Z"
   },
   {
    "duration": 11885,
    "start_time": "2022-02-23T11:08:47.062Z"
   },
   {
    "duration": 27,
    "start_time": "2022-02-23T11:08:58.950Z"
   },
   {
    "duration": 357,
    "start_time": "2022-02-23T11:08:58.980Z"
   },
   {
    "duration": 21,
    "start_time": "2022-02-23T11:08:59.340Z"
   },
   {
    "duration": 37,
    "start_time": "2022-02-23T11:08:59.363Z"
   },
   {
    "duration": 676,
    "start_time": "2022-02-23T11:08:59.403Z"
   },
   {
    "duration": 3,
    "start_time": "2022-02-23T11:09:00.086Z"
   },
   {
    "duration": 18,
    "start_time": "2022-02-23T11:09:00.093Z"
   },
   {
    "duration": 14,
    "start_time": "2022-02-23T11:09:00.113Z"
   },
   {
    "duration": 50,
    "start_time": "2022-02-23T11:09:00.129Z"
   },
   {
    "duration": 28,
    "start_time": "2022-02-23T11:09:00.181Z"
   },
   {
    "duration": 18,
    "start_time": "2022-02-23T11:09:00.212Z"
   },
   {
    "duration": 770,
    "start_time": "2022-02-23T11:09:00.232Z"
   },
   {
    "duration": -734,
    "start_time": "2022-02-23T11:09:01.739Z"
   },
   {
    "duration": -737,
    "start_time": "2022-02-23T11:09:01.744Z"
   },
   {
    "duration": -752,
    "start_time": "2022-02-23T11:09:01.760Z"
   },
   {
    "duration": -772,
    "start_time": "2022-02-23T11:09:01.782Z"
   },
   {
    "duration": -796,
    "start_time": "2022-02-23T11:09:01.808Z"
   },
   {
    "duration": -818,
    "start_time": "2022-02-23T11:09:01.831Z"
   },
   {
    "duration": -845,
    "start_time": "2022-02-23T11:09:01.860Z"
   },
   {
    "duration": -870,
    "start_time": "2022-02-23T11:09:01.886Z"
   },
   {
    "duration": -892,
    "start_time": "2022-02-23T11:09:01.910Z"
   },
   {
    "duration": -915,
    "start_time": "2022-02-23T11:09:01.934Z"
   },
   {
    "duration": -939,
    "start_time": "2022-02-23T11:09:01.959Z"
   },
   {
    "duration": -961,
    "start_time": "2022-02-23T11:09:01.983Z"
   },
   {
    "duration": -973,
    "start_time": "2022-02-23T11:09:01.997Z"
   },
   {
    "duration": -956,
    "start_time": "2022-02-23T11:09:02.017Z"
   },
   {
    "duration": -981,
    "start_time": "2022-02-23T11:09:02.044Z"
   },
   {
    "duration": -1004,
    "start_time": "2022-02-23T11:09:02.069Z"
   },
   {
    "duration": -1027,
    "start_time": "2022-02-23T11:09:02.093Z"
   },
   {
    "duration": -1043,
    "start_time": "2022-02-23T11:09:02.111Z"
   },
   {
    "duration": -1064,
    "start_time": "2022-02-23T11:09:02.134Z"
   },
   {
    "duration": -1081,
    "start_time": "2022-02-23T11:09:02.152Z"
   },
   {
    "duration": -1100,
    "start_time": "2022-02-23T11:09:02.173Z"
   },
   {
    "duration": -1115,
    "start_time": "2022-02-23T11:09:02.190Z"
   },
   {
    "duration": -1130,
    "start_time": "2022-02-23T11:09:02.206Z"
   },
   {
    "duration": -1169,
    "start_time": "2022-02-23T11:09:02.247Z"
   },
   {
    "duration": -1308,
    "start_time": "2022-02-23T11:09:02.387Z"
   },
   {
    "duration": -1337,
    "start_time": "2022-02-23T11:09:02.418Z"
   },
   {
    "duration": -1372,
    "start_time": "2022-02-23T11:09:02.455Z"
   },
   {
    "duration": -1411,
    "start_time": "2022-02-23T11:09:02.495Z"
   },
   {
    "duration": -1436,
    "start_time": "2022-02-23T11:09:02.522Z"
   },
   {
    "duration": -1469,
    "start_time": "2022-02-23T11:09:02.557Z"
   },
   {
    "duration": -1500,
    "start_time": "2022-02-23T11:09:02.589Z"
   },
   {
    "duration": -1524,
    "start_time": "2022-02-23T11:09:02.615Z"
   },
   {
    "duration": -1550,
    "start_time": "2022-02-23T11:09:02.642Z"
   },
   {
    "duration": -1572,
    "start_time": "2022-02-23T11:09:02.666Z"
   },
   {
    "duration": -1596,
    "start_time": "2022-02-23T11:09:02.691Z"
   },
   {
    "duration": -1618,
    "start_time": "2022-02-23T11:09:02.715Z"
   },
   {
    "duration": -1578,
    "start_time": "2022-02-23T11:09:02.740Z"
   },
   {
    "duration": -1602,
    "start_time": "2022-02-23T11:09:02.766Z"
   },
   {
    "duration": -1620,
    "start_time": "2022-02-23T11:09:02.785Z"
   },
   {
    "duration": -1659,
    "start_time": "2022-02-23T11:09:02.825Z"
   },
   {
    "duration": -1682,
    "start_time": "2022-02-23T11:09:02.850Z"
   },
   {
    "duration": -1707,
    "start_time": "2022-02-23T11:09:02.876Z"
   },
   {
    "duration": 643,
    "start_time": "2022-02-23T11:11:19.547Z"
   },
   {
    "duration": 301,
    "start_time": "2022-02-23T11:11:36.389Z"
   },
   {
    "duration": 292,
    "start_time": "2022-02-23T11:12:06.625Z"
   },
   {
    "duration": 303,
    "start_time": "2022-02-23T11:12:26.649Z"
   },
   {
    "duration": 318,
    "start_time": "2022-02-23T11:15:37.728Z"
   },
   {
    "duration": 457,
    "start_time": "2022-02-23T11:16:55.635Z"
   },
   {
    "duration": 316,
    "start_time": "2022-02-23T11:28:35.817Z"
   },
   {
    "duration": 23,
    "start_time": "2022-02-23T11:28:43.473Z"
   },
   {
    "duration": 329,
    "start_time": "2022-02-23T11:29:00.265Z"
   },
   {
    "duration": 1535,
    "start_time": "2022-02-23T11:29:17.105Z"
   },
   {
    "duration": 49,
    "start_time": "2022-02-23T11:29:18.643Z"
   },
   {
    "duration": 27,
    "start_time": "2022-02-23T11:29:18.696Z"
   },
   {
    "duration": 47,
    "start_time": "2022-02-23T11:29:18.726Z"
   },
   {
    "duration": 15,
    "start_time": "2022-02-23T11:29:18.775Z"
   },
   {
    "duration": 71,
    "start_time": "2022-02-23T11:29:18.792Z"
   },
   {
    "duration": 6,
    "start_time": "2022-02-23T11:29:18.865Z"
   },
   {
    "duration": 8,
    "start_time": "2022-02-23T11:29:18.876Z"
   },
   {
    "duration": 32,
    "start_time": "2022-02-23T11:29:18.888Z"
   },
   {
    "duration": 58,
    "start_time": "2022-02-23T11:29:18.923Z"
   },
   {
    "duration": 24,
    "start_time": "2022-02-23T11:29:18.984Z"
   },
   {
    "duration": 11,
    "start_time": "2022-02-23T11:29:19.011Z"
   },
   {
    "duration": 56,
    "start_time": "2022-02-23T11:29:19.024Z"
   },
   {
    "duration": 14,
    "start_time": "2022-02-23T11:29:19.083Z"
   },
   {
    "duration": 30,
    "start_time": "2022-02-23T11:29:19.099Z"
   },
   {
    "duration": 28,
    "start_time": "2022-02-23T11:29:19.162Z"
   },
   {
    "duration": 12140,
    "start_time": "2022-02-23T11:29:19.193Z"
   },
   {
    "duration": 32,
    "start_time": "2022-02-23T11:29:31.336Z"
   },
   {
    "duration": 359,
    "start_time": "2022-02-23T11:29:31.370Z"
   },
   {
    "duration": 14,
    "start_time": "2022-02-23T11:29:31.732Z"
   },
   {
    "duration": 34,
    "start_time": "2022-02-23T11:29:31.762Z"
   },
   {
    "duration": 630,
    "start_time": "2022-02-23T11:29:31.798Z"
   },
   {
    "duration": 2,
    "start_time": "2022-02-23T11:29:32.434Z"
   },
   {
    "duration": 22,
    "start_time": "2022-02-23T11:29:32.440Z"
   },
   {
    "duration": 12,
    "start_time": "2022-02-23T11:29:32.464Z"
   },
   {
    "duration": 26,
    "start_time": "2022-02-23T11:29:32.479Z"
   },
   {
    "duration": 58,
    "start_time": "2022-02-23T11:29:32.507Z"
   },
   {
    "duration": 18,
    "start_time": "2022-02-23T11:29:32.567Z"
   },
   {
    "duration": 587,
    "start_time": "2022-02-23T11:29:32.588Z"
   },
   {
    "duration": 731,
    "start_time": "2022-02-23T11:29:33.178Z"
   },
   {
    "duration": -797,
    "start_time": "2022-02-23T11:29:34.709Z"
   },
   {
    "duration": -819,
    "start_time": "2022-02-23T11:29:34.733Z"
   },
   {
    "duration": -842,
    "start_time": "2022-02-23T11:29:34.758Z"
   },
   {
    "duration": -863,
    "start_time": "2022-02-23T11:29:34.781Z"
   },
   {
    "duration": -887,
    "start_time": "2022-02-23T11:29:34.807Z"
   },
   {
    "duration": -908,
    "start_time": "2022-02-23T11:29:34.829Z"
   },
   {
    "duration": -933,
    "start_time": "2022-02-23T11:29:34.856Z"
   },
   {
    "duration": -949,
    "start_time": "2022-02-23T11:29:34.874Z"
   },
   {
    "duration": -972,
    "start_time": "2022-02-23T11:29:34.898Z"
   },
   {
    "duration": -993,
    "start_time": "2022-02-23T11:29:34.921Z"
   },
   {
    "duration": -1014,
    "start_time": "2022-02-23T11:29:34.943Z"
   },
   {
    "duration": -997,
    "start_time": "2022-02-23T11:29:34.958Z"
   },
   {
    "duration": -1019,
    "start_time": "2022-02-23T11:29:34.982Z"
   },
   {
    "duration": -1043,
    "start_time": "2022-02-23T11:29:35.007Z"
   },
   {
    "duration": -1067,
    "start_time": "2022-02-23T11:29:35.033Z"
   },
   {
    "duration": -1089,
    "start_time": "2022-02-23T11:29:35.057Z"
   },
   {
    "duration": -1113,
    "start_time": "2022-02-23T11:29:35.083Z"
   },
   {
    "duration": -1134,
    "start_time": "2022-02-23T11:29:35.107Z"
   },
   {
    "duration": -1159,
    "start_time": "2022-02-23T11:29:35.134Z"
   },
   {
    "duration": -1181,
    "start_time": "2022-02-23T11:29:35.158Z"
   },
   {
    "duration": -1196,
    "start_time": "2022-02-23T11:29:35.174Z"
   },
   {
    "duration": -1220,
    "start_time": "2022-02-23T11:29:35.200Z"
   },
   {
    "duration": -1245,
    "start_time": "2022-02-23T11:29:35.227Z"
   },
   {
    "duration": -1267,
    "start_time": "2022-02-23T11:29:35.250Z"
   },
   {
    "duration": -1289,
    "start_time": "2022-02-23T11:29:35.274Z"
   },
   {
    "duration": -1312,
    "start_time": "2022-02-23T11:29:35.298Z"
   },
   {
    "duration": -1335,
    "start_time": "2022-02-23T11:29:35.323Z"
   },
   {
    "duration": -1361,
    "start_time": "2022-02-23T11:29:35.350Z"
   },
   {
    "duration": -1383,
    "start_time": "2022-02-23T11:29:35.373Z"
   },
   {
    "duration": -1394,
    "start_time": "2022-02-23T11:29:35.386Z"
   },
   {
    "duration": -1411,
    "start_time": "2022-02-23T11:29:35.404Z"
   },
   {
    "duration": -1434,
    "start_time": "2022-02-23T11:29:35.429Z"
   },
   {
    "duration": -1457,
    "start_time": "2022-02-23T11:29:35.453Z"
   },
   {
    "duration": -1481,
    "start_time": "2022-02-23T11:29:35.479Z"
   },
   {
    "duration": -1505,
    "start_time": "2022-02-23T11:29:35.504Z"
   },
   {
    "duration": -1467,
    "start_time": "2022-02-23T11:29:35.529Z"
   },
   {
    "duration": -1491,
    "start_time": "2022-02-23T11:29:35.554Z"
   },
   {
    "duration": -1514,
    "start_time": "2022-02-23T11:29:35.579Z"
   },
   {
    "duration": -1539,
    "start_time": "2022-02-23T11:29:35.605Z"
   },
   {
    "duration": -1560,
    "start_time": "2022-02-23T11:29:35.628Z"
   },
   {
    "duration": -1574,
    "start_time": "2022-02-23T11:29:35.644Z"
   },
   {
    "duration": -1589,
    "start_time": "2022-02-23T11:29:35.660Z"
   },
   {
    "duration": 115,
    "start_time": "2022-02-23T11:30:45.016Z"
   },
   {
    "duration": 961,
    "start_time": "2022-02-23T11:30:49.978Z"
   },
   {
    "duration": 877,
    "start_time": "2022-02-23T11:31:05.190Z"
   },
   {
    "duration": 426,
    "start_time": "2022-02-23T11:31:36.095Z"
   },
   {
    "duration": 758,
    "start_time": "2022-02-23T12:23:43.133Z"
   },
   {
    "duration": 450,
    "start_time": "2022-02-23T12:23:49.122Z"
   },
   {
    "duration": 650,
    "start_time": "2022-02-23T12:24:15.569Z"
   },
   {
    "duration": 234,
    "start_time": "2022-02-23T12:24:26.473Z"
   },
   {
    "duration": 11,
    "start_time": "2022-02-23T12:24:32.062Z"
   },
   {
    "duration": 22,
    "start_time": "2022-02-23T12:24:33.741Z"
   },
   {
    "duration": 880,
    "start_time": "2022-02-23T12:24:34.605Z"
   },
   {
    "duration": 845,
    "start_time": "2022-02-23T12:24:41.416Z"
   },
   {
    "duration": 446,
    "start_time": "2022-02-23T12:29:41.032Z"
   },
   {
    "duration": 781,
    "start_time": "2022-02-23T12:29:50.344Z"
   },
   {
    "duration": 792,
    "start_time": "2022-02-23T12:30:13.955Z"
   },
   {
    "duration": 478,
    "start_time": "2022-02-23T12:30:23.890Z"
   },
   {
    "duration": 12,
    "start_time": "2022-02-23T12:30:52.522Z"
   },
   {
    "duration": 549,
    "start_time": "2022-02-23T12:31:15.245Z"
   },
   {
    "duration": 804,
    "start_time": "2022-02-23T12:31:34.263Z"
   },
   {
    "duration": 871,
    "start_time": "2022-02-23T12:43:23.478Z"
   },
   {
    "duration": 821,
    "start_time": "2022-02-23T12:43:53.858Z"
   },
   {
    "duration": 938,
    "start_time": "2022-02-23T12:44:11.844Z"
   },
   {
    "duration": 928,
    "start_time": "2022-02-23T12:44:20.609Z"
   },
   {
    "duration": 355,
    "start_time": "2022-02-23T12:48:05.167Z"
   },
   {
    "duration": 229,
    "start_time": "2022-02-23T12:48:10.789Z"
   },
   {
    "duration": 495,
    "start_time": "2022-02-23T12:48:51.218Z"
   },
   {
    "duration": 23,
    "start_time": "2022-02-23T12:48:56.611Z"
   },
   {
    "duration": 6,
    "start_time": "2022-02-23T12:48:57.148Z"
   },
   {
    "duration": 597,
    "start_time": "2022-02-23T12:48:57.633Z"
   },
   {
    "duration": 802,
    "start_time": "2022-02-23T12:50:15.512Z"
   },
   {
    "duration": 688,
    "start_time": "2022-02-23T12:50:19.698Z"
   },
   {
    "duration": 1582,
    "start_time": "2022-02-23T12:50:56.252Z"
   },
   {
    "duration": 54,
    "start_time": "2022-02-23T12:50:57.837Z"
   },
   {
    "duration": 27,
    "start_time": "2022-02-23T12:50:57.894Z"
   },
   {
    "duration": 47,
    "start_time": "2022-02-23T12:50:57.925Z"
   },
   {
    "duration": 16,
    "start_time": "2022-02-23T12:50:57.975Z"
   },
   {
    "duration": 73,
    "start_time": "2022-02-23T12:50:57.994Z"
   },
   {
    "duration": 6,
    "start_time": "2022-02-23T12:50:58.069Z"
   },
   {
    "duration": 12,
    "start_time": "2022-02-23T12:50:58.079Z"
   },
   {
    "duration": 67,
    "start_time": "2022-02-23T12:50:58.095Z"
   },
   {
    "duration": 35,
    "start_time": "2022-02-23T12:50:58.165Z"
   },
   {
    "duration": 23,
    "start_time": "2022-02-23T12:50:58.202Z"
   },
   {
    "duration": 41,
    "start_time": "2022-02-23T12:50:58.227Z"
   },
   {
    "duration": 20,
    "start_time": "2022-02-23T12:50:58.270Z"
   },
   {
    "duration": 14,
    "start_time": "2022-02-23T12:50:58.293Z"
   },
   {
    "duration": 58,
    "start_time": "2022-02-23T12:50:58.310Z"
   },
   {
    "duration": 25,
    "start_time": "2022-02-23T12:50:58.371Z"
   },
   {
    "duration": 12107,
    "start_time": "2022-02-23T12:50:58.398Z"
   },
   {
    "duration": 22,
    "start_time": "2022-02-23T12:51:10.507Z"
   },
   {
    "duration": 346,
    "start_time": "2022-02-23T12:51:10.531Z"
   },
   {
    "duration": 15,
    "start_time": "2022-02-23T12:51:10.879Z"
   },
   {
    "duration": 36,
    "start_time": "2022-02-23T12:51:10.896Z"
   },
   {
    "duration": 655,
    "start_time": "2022-02-23T12:51:10.961Z"
   },
   {
    "duration": 2,
    "start_time": "2022-02-23T12:51:11.622Z"
   },
   {
    "duration": 33,
    "start_time": "2022-02-23T12:51:11.628Z"
   },
   {
    "duration": 17,
    "start_time": "2022-02-23T12:51:11.664Z"
   },
   {
    "duration": 28,
    "start_time": "2022-02-23T12:51:11.684Z"
   },
   {
    "duration": 73,
    "start_time": "2022-02-23T12:51:11.714Z"
   },
   {
    "duration": 17,
    "start_time": "2022-02-23T12:51:11.790Z"
   },
   {
    "duration": 513,
    "start_time": "2022-02-23T12:51:11.811Z"
   },
   {
    "duration": 264,
    "start_time": "2022-02-23T12:51:12.326Z"
   },
   {
    "duration": 8,
    "start_time": "2022-02-23T12:51:12.593Z"
   },
   {
    "duration": 22,
    "start_time": "2022-02-23T12:51:12.604Z"
   },
   {
    "duration": 37,
    "start_time": "2022-02-23T12:51:12.629Z"
   },
   {
    "duration": 620,
    "start_time": "2022-02-23T12:51:12.669Z"
   },
   {
    "duration": 24,
    "start_time": "2022-02-23T12:51:13.292Z"
   },
   {
    "duration": 13,
    "start_time": "2022-02-23T12:51:13.318Z"
   },
   {
    "duration": 460,
    "start_time": "2022-02-23T12:51:13.334Z"
   },
   {
    "duration": 7,
    "start_time": "2022-02-23T12:51:13.796Z"
   },
   {
    "duration": 435,
    "start_time": "2022-02-23T12:51:13.805Z"
   },
   {
    "duration": 18,
    "start_time": "2022-02-23T12:51:14.243Z"
   },
   {
    "duration": 6,
    "start_time": "2022-02-23T12:51:14.263Z"
   },
   {
    "duration": 9,
    "start_time": "2022-02-23T12:51:14.272Z"
   },
   {
    "duration": 217,
    "start_time": "2022-02-23T12:51:14.284Z"
   },
   {
    "duration": 738,
    "start_time": "2022-02-23T12:51:14.504Z"
   },
   {
    "duration": 349,
    "start_time": "2022-02-23T12:51:15.245Z"
   },
   {
    "duration": 15,
    "start_time": "2022-02-23T12:51:15.597Z"
   },
   {
    "duration": 13,
    "start_time": "2022-02-23T12:51:15.614Z"
   },
   {
    "duration": 41,
    "start_time": "2022-02-23T12:51:15.661Z"
   },
   {
    "duration": 281,
    "start_time": "2022-02-23T12:51:15.705Z"
   },
   {
    "duration": 277,
    "start_time": "2022-02-23T12:51:15.988Z"
   },
   {
    "duration": 269,
    "start_time": "2022-02-23T12:51:16.268Z"
   },
   {
    "duration": 213,
    "start_time": "2022-02-23T12:51:16.539Z"
   },
   {
    "duration": 19,
    "start_time": "2022-02-23T12:51:16.755Z"
   },
   {
    "duration": 219,
    "start_time": "2022-02-23T12:51:16.776Z"
   },
   {
    "duration": 13,
    "start_time": "2022-02-23T12:51:16.998Z"
   },
   {
    "duration": 306,
    "start_time": "2022-02-23T12:51:17.013Z"
   },
   {
    "duration": 13,
    "start_time": "2022-02-23T12:51:17.321Z"
   },
   {
    "duration": 54,
    "start_time": "2022-02-23T12:51:17.336Z"
   },
   {
    "duration": 292,
    "start_time": "2022-02-23T12:51:17.393Z"
   },
   {
    "duration": 302,
    "start_time": "2022-02-23T12:51:17.687Z"
   },
   {
    "duration": 411,
    "start_time": "2022-02-23T12:51:17.992Z"
   },
   {
    "duration": 60,
    "start_time": "2022-02-23T12:51:18.406Z"
   },
   {
    "duration": 11,
    "start_time": "2022-02-23T12:51:18.469Z"
   },
   {
    "duration": 41,
    "start_time": "2022-02-23T12:51:18.482Z"
   },
   {
    "duration": 306,
    "start_time": "2022-02-23T12:51:18.525Z"
   },
   {
    "duration": 299,
    "start_time": "2022-02-23T12:51:18.834Z"
   },
   {
    "duration": 318,
    "start_time": "2022-02-23T12:51:19.136Z"
   },
   {
    "duration": 18,
    "start_time": "2022-02-23T12:51:19.465Z"
   },
   {
    "duration": 9,
    "start_time": "2022-02-23T12:51:19.486Z"
   },
   {
    "duration": 20,
    "start_time": "2022-02-23T12:51:19.498Z"
   },
   {
    "duration": 7,
    "start_time": "2022-02-23T12:51:19.562Z"
   },
   {
    "duration": 13,
    "start_time": "2022-02-23T12:51:19.571Z"
   },
   {
    "duration": 525,
    "start_time": "2022-02-23T12:51:58.181Z"
   },
   {
    "duration": 533,
    "start_time": "2022-02-23T12:52:08.176Z"
   },
   {
    "duration": 324,
    "start_time": "2022-02-23T12:52:18.352Z"
   },
   {
    "duration": 508,
    "start_time": "2022-02-23T12:52:29.420Z"
   },
   {
    "duration": 680,
    "start_time": "2022-02-23T13:02:20.712Z"
   },
   {
    "duration": 364,
    "start_time": "2022-02-23T13:02:33.097Z"
   },
   {
    "duration": 238,
    "start_time": "2022-02-23T13:04:20.056Z"
   },
   {
    "duration": 159,
    "start_time": "2022-02-23T13:04:27.660Z"
   },
   {
    "duration": 248,
    "start_time": "2022-02-23T13:05:08.005Z"
   },
   {
    "duration": 245,
    "start_time": "2022-02-23T13:05:23.264Z"
   },
   {
    "duration": 219,
    "start_time": "2022-02-23T13:06:43.861Z"
   },
   {
    "duration": 6,
    "start_time": "2022-02-23T13:07:03.043Z"
   },
   {
    "duration": 330,
    "start_time": "2022-02-23T13:09:33.720Z"
   },
   {
    "duration": 314,
    "start_time": "2022-02-23T13:09:45.989Z"
   },
   {
    "duration": 148,
    "start_time": "2022-02-23T13:11:59.720Z"
   },
   {
    "duration": 121,
    "start_time": "2022-02-23T13:12:10.881Z"
   },
   {
    "duration": 1308,
    "start_time": "2022-02-23T13:14:20.254Z"
   },
   {
    "duration": 108,
    "start_time": "2022-02-23T13:14:43.990Z"
   },
   {
    "duration": 38,
    "start_time": "2022-02-23T13:15:42.096Z"
   },
   {
    "duration": 102,
    "start_time": "2022-02-23T13:16:14.077Z"
   },
   {
    "duration": 17,
    "start_time": "2022-02-23T13:17:37.658Z"
   },
   {
    "duration": 1476,
    "start_time": "2022-02-23T13:17:57.066Z"
   },
   {
    "duration": 47,
    "start_time": "2022-02-23T13:17:58.545Z"
   },
   {
    "duration": 24,
    "start_time": "2022-02-23T13:17:58.595Z"
   },
   {
    "duration": 40,
    "start_time": "2022-02-23T13:17:58.622Z"
   },
   {
    "duration": 17,
    "start_time": "2022-02-23T13:17:58.665Z"
   },
   {
    "duration": 44,
    "start_time": "2022-02-23T13:17:58.684Z"
   },
   {
    "duration": 33,
    "start_time": "2022-02-23T13:17:58.730Z"
   },
   {
    "duration": 5,
    "start_time": "2022-02-23T13:17:58.766Z"
   },
   {
    "duration": 31,
    "start_time": "2022-02-23T13:17:58.775Z"
   },
   {
    "duration": 56,
    "start_time": "2022-02-23T13:17:58.808Z"
   },
   {
    "duration": 23,
    "start_time": "2022-02-23T13:17:58.866Z"
   },
   {
    "duration": 11,
    "start_time": "2022-02-23T13:17:58.892Z"
   },
   {
    "duration": 20,
    "start_time": "2022-02-23T13:17:58.905Z"
   },
   {
    "duration": 46,
    "start_time": "2022-02-23T13:17:58.928Z"
   },
   {
    "duration": 32,
    "start_time": "2022-02-23T13:17:58.977Z"
   },
   {
    "duration": 56,
    "start_time": "2022-02-23T13:17:59.011Z"
   },
   {
    "duration": 11792,
    "start_time": "2022-02-23T13:17:59.069Z"
   },
   {
    "duration": 22,
    "start_time": "2022-02-23T13:18:10.864Z"
   },
   {
    "duration": 361,
    "start_time": "2022-02-23T13:18:10.889Z"
   },
   {
    "duration": 17,
    "start_time": "2022-02-23T13:18:11.260Z"
   },
   {
    "duration": 37,
    "start_time": "2022-02-23T13:18:11.279Z"
   },
   {
    "duration": 748,
    "start_time": "2022-02-23T13:18:11.318Z"
   },
   {
    "duration": 2,
    "start_time": "2022-02-23T13:18:12.075Z"
   },
   {
    "duration": 8,
    "start_time": "2022-02-23T13:18:12.082Z"
   },
   {
    "duration": 17,
    "start_time": "2022-02-23T13:18:12.092Z"
   },
   {
    "duration": 66,
    "start_time": "2022-02-23T13:18:12.112Z"
   },
   {
    "duration": 26,
    "start_time": "2022-02-23T13:18:12.180Z"
   },
   {
    "duration": 15,
    "start_time": "2022-02-23T13:18:12.208Z"
   },
   {
    "duration": 508,
    "start_time": "2022-02-23T13:18:12.225Z"
   },
   {
    "duration": 246,
    "start_time": "2022-02-23T13:18:12.735Z"
   },
   {
    "duration": 9,
    "start_time": "2022-02-23T13:18:12.983Z"
   },
   {
    "duration": 25,
    "start_time": "2022-02-23T13:18:12.995Z"
   },
   {
    "duration": 42,
    "start_time": "2022-02-23T13:18:13.022Z"
   },
   {
    "duration": 598,
    "start_time": "2022-02-23T13:18:13.067Z"
   },
   {
    "duration": 22,
    "start_time": "2022-02-23T13:18:13.668Z"
   },
   {
    "duration": 12,
    "start_time": "2022-02-23T13:18:13.692Z"
   },
   {
    "duration": 457,
    "start_time": "2022-02-23T13:18:13.707Z"
   },
   {
    "duration": 7,
    "start_time": "2022-02-23T13:18:14.167Z"
   },
   {
    "duration": 440,
    "start_time": "2022-02-23T13:18:14.177Z"
   },
   {
    "duration": 8,
    "start_time": "2022-02-23T13:18:14.620Z"
   },
   {
    "duration": 31,
    "start_time": "2022-02-23T13:18:14.630Z"
   },
   {
    "duration": 10,
    "start_time": "2022-02-23T13:18:14.664Z"
   },
   {
    "duration": 171,
    "start_time": "2022-02-23T13:18:14.677Z"
   },
   {
    "duration": 22,
    "start_time": "2022-02-23T13:18:14.851Z"
   },
   {
    "duration": 721,
    "start_time": "2022-02-23T13:18:14.876Z"
   },
   {
    "duration": 351,
    "start_time": "2022-02-23T13:18:15.599Z"
   },
   {
    "duration": 16,
    "start_time": "2022-02-23T13:18:15.953Z"
   },
   {
    "duration": 11,
    "start_time": "2022-02-23T13:18:15.972Z"
   },
   {
    "duration": 76,
    "start_time": "2022-02-23T13:18:15.986Z"
   },
   {
    "duration": 274,
    "start_time": "2022-02-23T13:18:16.065Z"
   },
   {
    "duration": 276,
    "start_time": "2022-02-23T13:18:16.343Z"
   },
   {
    "duration": 264,
    "start_time": "2022-02-23T13:18:16.621Z"
   },
   {
    "duration": 210,
    "start_time": "2022-02-23T13:18:16.887Z"
   },
   {
    "duration": 14,
    "start_time": "2022-02-23T13:18:17.099Z"
   },
   {
    "duration": 227,
    "start_time": "2022-02-23T13:18:17.116Z"
   },
   {
    "duration": 22,
    "start_time": "2022-02-23T13:18:17.346Z"
   },
   {
    "duration": 302,
    "start_time": "2022-02-23T13:18:17.370Z"
   },
   {
    "duration": 14,
    "start_time": "2022-02-23T13:18:17.675Z"
   },
   {
    "duration": 39,
    "start_time": "2022-02-23T13:18:17.691Z"
   },
   {
    "duration": 280,
    "start_time": "2022-02-23T13:18:17.760Z"
   },
   {
    "duration": 283,
    "start_time": "2022-02-23T13:18:18.042Z"
   },
   {
    "duration": 271,
    "start_time": "2022-02-23T13:18:18.327Z"
   },
   {
    "duration": 34,
    "start_time": "2022-02-23T13:18:18.601Z"
   },
   {
    "duration": 26,
    "start_time": "2022-02-23T13:18:18.638Z"
   },
   {
    "duration": 38,
    "start_time": "2022-02-23T13:18:18.666Z"
   },
   {
    "duration": 326,
    "start_time": "2022-02-23T13:18:18.707Z"
   },
   {
    "duration": 355,
    "start_time": "2022-02-23T13:18:19.035Z"
   },
   {
    "duration": 298,
    "start_time": "2022-02-23T13:18:19.397Z"
   },
   {
    "duration": 18,
    "start_time": "2022-02-23T13:18:19.697Z"
   },
   {
    "duration": 12,
    "start_time": "2022-02-23T13:18:19.717Z"
   },
   {
    "duration": 43,
    "start_time": "2022-02-23T13:18:19.731Z"
   },
   {
    "duration": 7,
    "start_time": "2022-02-23T13:18:19.776Z"
   },
   {
    "duration": 5,
    "start_time": "2022-02-23T13:18:19.786Z"
   },
   {
    "duration": 32,
    "start_time": "2022-02-23T13:18:49.990Z"
   },
   {
    "duration": 32,
    "start_time": "2022-02-23T13:19:28.969Z"
   },
   {
    "duration": 26,
    "start_time": "2022-02-23T13:20:47.168Z"
   },
   {
    "duration": 23,
    "start_time": "2022-02-23T13:21:23.431Z"
   },
   {
    "duration": 120,
    "start_time": "2022-02-23T13:21:44.856Z"
   },
   {
    "duration": 1068,
    "start_time": "2022-02-23T19:35:26.324Z"
   },
   {
    "duration": 36,
    "start_time": "2022-02-23T19:35:27.394Z"
   },
   {
    "duration": 17,
    "start_time": "2022-02-23T19:35:27.432Z"
   },
   {
    "duration": 15,
    "start_time": "2022-02-23T19:35:27.450Z"
   },
   {
    "duration": 11,
    "start_time": "2022-02-23T19:35:27.467Z"
   },
   {
    "duration": 28,
    "start_time": "2022-02-23T19:35:27.480Z"
   },
   {
    "duration": 5,
    "start_time": "2022-02-23T19:35:27.529Z"
   },
   {
    "duration": 5,
    "start_time": "2022-02-23T19:35:27.536Z"
   },
   {
    "duration": 22,
    "start_time": "2022-02-23T19:35:27.542Z"
   },
   {
    "duration": 19,
    "start_time": "2022-02-23T19:35:27.566Z"
   },
   {
    "duration": 13,
    "start_time": "2022-02-23T19:35:27.587Z"
   },
   {
    "duration": 34,
    "start_time": "2022-02-23T19:35:27.602Z"
   },
   {
    "duration": 12,
    "start_time": "2022-02-23T19:35:27.638Z"
   },
   {
    "duration": 10,
    "start_time": "2022-02-23T19:35:27.652Z"
   },
   {
    "duration": 18,
    "start_time": "2022-02-23T19:35:27.663Z"
   },
   {
    "duration": 48,
    "start_time": "2022-02-23T19:35:27.683Z"
   },
   {
    "duration": 8901,
    "start_time": "2022-02-23T19:35:27.732Z"
   },
   {
    "duration": 20,
    "start_time": "2022-02-23T19:35:36.635Z"
   },
   {
    "duration": 221,
    "start_time": "2022-02-23T19:35:36.658Z"
   },
   {
    "duration": 10,
    "start_time": "2022-02-23T19:35:36.881Z"
   },
   {
    "duration": 38,
    "start_time": "2022-02-23T19:35:36.893Z"
   },
   {
    "duration": 367,
    "start_time": "2022-02-23T19:35:36.933Z"
   },
   {
    "duration": 2,
    "start_time": "2022-02-23T19:35:37.305Z"
   },
   {
    "duration": 8,
    "start_time": "2022-02-23T19:35:37.310Z"
   },
   {
    "duration": 15,
    "start_time": "2022-02-23T19:35:37.320Z"
   },
   {
    "duration": 16,
    "start_time": "2022-02-23T19:35:37.337Z"
   },
   {
    "duration": 20,
    "start_time": "2022-02-23T19:35:37.355Z"
   },
   {
    "duration": 9,
    "start_time": "2022-02-23T19:35:37.377Z"
   },
   {
    "duration": 313,
    "start_time": "2022-02-23T19:35:37.388Z"
   },
   {
    "duration": 148,
    "start_time": "2022-02-23T19:35:37.702Z"
   },
   {
    "duration": 6,
    "start_time": "2022-02-23T19:35:37.852Z"
   },
   {
    "duration": 18,
    "start_time": "2022-02-23T19:35:37.860Z"
   },
   {
    "duration": 10,
    "start_time": "2022-02-23T19:35:37.880Z"
   },
   {
    "duration": 394,
    "start_time": "2022-02-23T19:35:37.892Z"
   },
   {
    "duration": 13,
    "start_time": "2022-02-23T19:35:38.288Z"
   },
   {
    "duration": 10,
    "start_time": "2022-02-23T19:35:38.304Z"
   },
   {
    "duration": 320,
    "start_time": "2022-02-23T19:35:38.315Z"
   },
   {
    "duration": 6,
    "start_time": "2022-02-23T19:35:38.636Z"
   },
   {
    "duration": 399,
    "start_time": "2022-02-23T19:35:38.643Z"
   },
   {
    "duration": 5,
    "start_time": "2022-02-23T19:35:39.044Z"
   },
   {
    "duration": 6,
    "start_time": "2022-02-23T19:35:39.051Z"
   },
   {
    "duration": 10,
    "start_time": "2022-02-23T19:35:39.059Z"
   },
   {
    "duration": 89,
    "start_time": "2022-02-23T19:35:39.071Z"
   },
   {
    "duration": 17,
    "start_time": "2022-02-23T19:35:39.162Z"
   },
   {
    "duration": 431,
    "start_time": "2022-02-23T19:35:39.181Z"
   },
   {
    "duration": 202,
    "start_time": "2022-02-23T19:35:39.615Z"
   },
   {
    "duration": 15,
    "start_time": "2022-02-23T19:35:39.818Z"
   },
   {
    "duration": 8,
    "start_time": "2022-02-23T19:35:39.835Z"
   },
   {
    "duration": 30,
    "start_time": "2022-02-23T19:35:39.845Z"
   },
   {
    "duration": 179,
    "start_time": "2022-02-23T19:35:39.877Z"
   },
   {
    "duration": 257,
    "start_time": "2022-02-23T19:35:40.059Z"
   },
   {
    "duration": 166,
    "start_time": "2022-02-23T19:35:40.318Z"
   },
   {
    "duration": 128,
    "start_time": "2022-02-23T19:35:40.485Z"
   },
   {
    "duration": 15,
    "start_time": "2022-02-23T19:35:40.616Z"
   },
   {
    "duration": 130,
    "start_time": "2022-02-23T19:35:40.633Z"
   },
   {
    "duration": 10,
    "start_time": "2022-02-23T19:35:40.765Z"
   },
   {
    "duration": 211,
    "start_time": "2022-02-23T19:35:40.777Z"
   },
   {
    "duration": 9,
    "start_time": "2022-02-23T19:35:40.990Z"
   },
   {
    "duration": 37,
    "start_time": "2022-02-23T19:35:41.000Z"
   },
   {
    "duration": 169,
    "start_time": "2022-02-23T19:35:41.039Z"
   },
   {
    "duration": 175,
    "start_time": "2022-02-23T19:35:41.211Z"
   },
   {
    "duration": 164,
    "start_time": "2022-02-23T19:35:41.388Z"
   },
   {
    "duration": 19,
    "start_time": "2022-02-23T19:35:41.554Z"
   },
   {
    "duration": 4,
    "start_time": "2022-02-23T19:35:41.575Z"
   },
   {
    "duration": 24,
    "start_time": "2022-02-23T19:35:41.581Z"
   },
   {
    "duration": 180,
    "start_time": "2022-02-23T19:35:41.606Z"
   },
   {
    "duration": 174,
    "start_time": "2022-02-23T19:35:41.787Z"
   },
   {
    "duration": 201,
    "start_time": "2022-02-23T19:35:41.966Z"
   },
   {
    "duration": 12,
    "start_time": "2022-02-23T19:35:42.169Z"
   },
   {
    "duration": 10,
    "start_time": "2022-02-23T19:35:42.183Z"
   },
   {
    "duration": 12,
    "start_time": "2022-02-23T19:35:42.194Z"
   },
   {
    "duration": 5,
    "start_time": "2022-02-23T19:35:42.230Z"
   },
   {
    "duration": 15,
    "start_time": "2022-02-23T19:35:42.237Z"
   },
   {
    "duration": 172,
    "start_time": "2022-02-23T19:37:37.503Z"
   },
   {
    "duration": 17,
    "start_time": "2022-02-23T19:37:41.543Z"
   },
   {
    "duration": 212,
    "start_time": "2022-02-23T19:37:44.086Z"
   },
   {
    "duration": 20,
    "start_time": "2022-02-23T19:37:45.265Z"
   },
   {
    "duration": 35,
    "start_time": "2022-02-23T19:41:13.448Z"
   },
   {
    "duration": 5,
    "start_time": "2022-02-23T19:49:10.957Z"
   },
   {
    "duration": 4,
    "start_time": "2022-02-23T19:49:57.792Z"
   },
   {
    "duration": 61,
    "start_time": "2022-02-23T19:51:31.851Z"
   },
   {
    "duration": 50,
    "start_time": "2022-02-23T19:53:38.029Z"
   }
  ],
  "kernelspec": {
   "display_name": "Python 3 (ipykernel)",
   "language": "python",
   "name": "python3"
  },
  "language_info": {
   "codemirror_mode": {
    "name": "ipython",
    "version": 3
   },
   "file_extension": ".py",
   "mimetype": "text/x-python",
   "name": "python",
   "nbconvert_exporter": "python",
   "pygments_lexer": "ipython3",
   "version": "3.9.7"
  },
  "toc": {
   "base_numbering": 1,
   "nav_menu": {},
   "number_sections": true,
   "sideBar": true,
   "skip_h1_title": true,
   "title_cell": "Table of Contents",
   "title_sidebar": "Contents",
   "toc_cell": false,
   "toc_position": {
    "height": "calc(100% - 180px)",
    "left": "10px",
    "top": "150px",
    "width": "290.326px"
   },
   "toc_section_display": true,
   "toc_window_display": false
  }
 },
 "nbformat": 4,
 "nbformat_minor": 2
}
